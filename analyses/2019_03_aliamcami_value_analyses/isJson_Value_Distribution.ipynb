{
 "cells": [
  {
   "cell_type": "markdown",
   "metadata": {},
   "source": [
    "# Start dask"
   ]
  },
  {
   "cell_type": "code",
   "execution_count": 1,
   "metadata": {},
   "outputs": [
    {
     "name": "stderr",
     "output_type": "stream",
     "text": [
      "/anaconda3/envs/overscripted/lib/python3.6/site-packages/dask/config.py:168: YAMLLoadWarning: calling yaml.load() without Loader=... is deprecated, as the default Loader is unsafe. Please read https://msg.pyyaml.org/load for full details.\n",
      "  data = yaml.load(f.read()) or {}\n"
     ]
    }
   ],
   "source": [
    "import dask.dataframe as dd\n",
    "from dask.diagnostics import ProgressBar\n",
    "import matplotlib.pyplot as plt\n",
    "import pandas as pd\n",
    "import numpy as np\n",
    "\n",
    "# from dask.distributed import Client\n",
    "# #Initializing client\n",
    "# client = Client()\n",
    "# client\n",
    "\n"
   ]
  },
  {
   "cell_type": "markdown",
   "metadata": {},
   "source": [
    "# Parquet\n",
    "Used sample: sample_0_prep/s0_domains_isjson.parquet\n",
    "    * This sample is the 10% sample with the \"is_json\" column added to it, this column is the result of the 'value' columns as a valid json or not. \n",
    "    * This sample can be obtained by running 'jsJson_dataPrep.ipynb'"
   ]
  },
  {
   "cell_type": "code",
   "execution_count": 2,
   "metadata": {},
   "outputs": [
    {
     "data": {
      "text/html": [
       "<div>\n",
       "<style scoped>\n",
       "    .dataframe tbody tr th:only-of-type {\n",
       "        vertical-align: middle;\n",
       "    }\n",
       "\n",
       "    .dataframe tbody tr th {\n",
       "        vertical-align: top;\n",
       "    }\n",
       "\n",
       "    .dataframe thead th {\n",
       "        text-align: right;\n",
       "    }\n",
       "</style>\n",
       "<table border=\"1\" class=\"dataframe\">\n",
       "  <thead>\n",
       "    <tr style=\"text-align: right;\">\n",
       "      <th></th>\n",
       "      <th>value_len</th>\n",
       "      <th>is_json</th>\n",
       "    </tr>\n",
       "  </thead>\n",
       "  <tbody>\n",
       "    <tr>\n",
       "      <th>0</th>\n",
       "      <td>8</td>\n",
       "      <td>False</td>\n",
       "    </tr>\n",
       "  </tbody>\n",
       "</table>\n",
       "</div>"
      ],
      "text/plain": [
       "   value_len  is_json\n",
       "0          8    False"
      ]
     },
     "execution_count": 2,
     "metadata": {},
     "output_type": "execute_result"
    }
   ],
   "source": [
    "df = dd.read_parquet('sample0_prep/s0_domains_isjson.parquet', engine=\"pyarrow\", columns=['value_len', 'is_json'])\n",
    "df.head(1)"
   ]
  },
  {
   "cell_type": "code",
   "execution_count": 3,
   "metadata": {},
   "outputs": [
    {
     "name": "stdout",
     "output_type": "stream",
     "text": [
      "[########################################] | 100% Completed |  1.7s\n"
     ]
    }
   ],
   "source": [
    "with ProgressBar():\n",
    "    df = df.compute()"
   ]
  },
  {
   "cell_type": "markdown",
   "metadata": {},
   "source": [
    "# Values distribution: "
   ]
  },
  {
   "cell_type": "markdown",
   "metadata": {},
   "source": [
    "The absolute majority of the values are small. As seen on the graph below."
   ]
  },
  {
   "cell_type": "code",
   "execution_count": 4,
   "metadata": {
    "scrolled": true
   },
   "outputs": [
    {
     "data": {
      "text/plain": [
       "<matplotlib.axes._subplots.AxesSubplot at 0x126291320>"
      ]
     },
     "execution_count": 4,
     "metadata": {},
     "output_type": "execute_result"
    },
    {
     "data": {
      "image/png": "[encoded data removed]",
      "text/plain": [
       "<Figure size 432x288 with 1 Axes>"
      ]
     },
     "metadata": {
      "needs_background": "light"
     },
     "output_type": "display_data"
    }
   ],
   "source": [
    "%matplotlib inline\n",
    "df['value_len'].plot(kind='hist', legend=True, logy=True, bins=10)"
   ]
  },
  {
   "cell_type": "markdown",
   "metadata": {},
   "source": [
    "# Type distribution\n",
    "The non-json values are found mainly withing the smaller values.\n",
    " - Orange bar: non-json values\n",
    " - Blue bars: json values"
   ]
  },
  {
   "cell_type": "code",
   "execution_count": 5,
   "metadata": {},
   "outputs": [
    {
     "data": {
      "text/plain": [
       "Text(0, 0.5, 'density')"
      ]
     },
     "execution_count": 5,
     "metadata": {},
     "output_type": "execute_result"
    },
    {
     "data": {
      "image/png": "[encoded data removed]",
      "text/plain": [
       "<Figure size 432x288 with 1 Axes>"
      ]
     },
     "metadata": {
      "needs_background": "light"
     },
     "output_type": "display_data"
    }
   ],
   "source": [
    "plt.hist(\n",
    "    (df[df.is_json==True].value_len, df[df.is_json==False].value_len),\n",
    "    bins=25,\n",
    "    density=True,\n",
    "    label=['true', 'false'],\n",
    "#     color=['teal','orange'],\n",
    ")\n",
    "plt.yscale('log')\n",
    "plt.xlabel('value_len')\n",
    "plt.ylabel('density')"
   ]
  },
  {
   "cell_type": "code",
   "execution_count": 6,
   "metadata": {},
   "outputs": [
    {
     "data": {
      "text/plain": [
       "Text(0, 0.5, 'density')"
      ]
     },
     "execution_count": 6,
     "metadata": {},
     "output_type": "execute_result"
    },
    {
     "data": {
      "image/png": "[encoded data removed]",
      "text/plain": [
       "<Figure size 432x288 with 1 Axes>"
      ]
     },
     "metadata": {
      "needs_background": "light"
     },
     "output_type": "display_data"
    }
   ],
   "source": [
    "plt.hist(\n",
    "    (df[df.is_json==True].value_len, df[df.is_json==False].value_len),\n",
    "    bins=25,\n",
    "    density=True,\n",
    "    label=['true', 'false'],\n",
    "#     color=['teal','orange'],\n",
    ")\n",
    "plt.xlabel('value_len')\n",
    "plt.ylabel('density')"
   ]
  },
  {
   "cell_type": "markdown",
   "metadata": {},
   "source": [
    "# JSON percentual by group\n",
    "Here the orange is the percentual of non-JSON values found in each group, and the blue is the percentual of JSON values. \n",
    "We can see that as we filter the data to bigger values the percentual of JSON values also increases. \n",
    "\n",
    "The gorups are: \n",
    "- Original: all original data (sample 10%)\n",
    "- Above_mean: original data filtered to only values above the mean\n",
    "- Above_std: original data filtered to only values 1 std above the mean"
   ]
  },
  {
   "cell_type": "code",
   "execution_count": 7,
   "metadata": {},
   "outputs": [
    {
     "data": {
      "image/png": "[encoded data removed]",
      "text/plain": [
       "<Figure size 432x288 with 1 Axes>"
      ]
     },
     "metadata": {
      "needs_background": "light"
     },
     "output_type": "display_data"
    }
   ],
   "source": [
    "def count_json(df):\n",
    "    trues = df.is_json[df.is_json == True].count()\n",
    "    falses = df.is_json[df.is_json == False].count()\n",
    "    total = df.is_json.count()\n",
    "    return trues/total, falses/total\n",
    "    \n",
    "total_count = count_json(df)\n",
    "total_mean = df.value_len.mean()\n",
    "total_std = df.value_len.std()\n",
    "\n",
    "above_mean_count = count_json(df[df['value_len'] > total_mean])\n",
    "above_std_count = count_json(df[df['value_len'] > (total_mean + total_std)])\n",
    "\n",
    "p1 = pd.DataFrame([total_count, above_mean_count, above_std_count],\n",
    "                  columns= [ 'json', 'other'],\n",
    "                 index=[ 'original', 'above_mean', 'above_std'])\n",
    "plot = p1.plot(kind='bar')"
   ]
  },
  {
   "cell_type": "markdown",
   "metadata": {},
   "source": [
    "# JSON percentual by bins"
   ]
  },
  {
   "cell_type": "code",
   "execution_count": 8,
   "metadata": {},
   "outputs": [],
   "source": [
    "#Helper code to separate and calculate what needed\n",
    "import math\n",
    "def percetangeData(df):\n",
    "    bins=[]\n",
    "    trues=[]\n",
    "    falses=[]\n",
    "    \n",
    "    nbins = 10\n",
    "    minimum_value = min(df.value_len)\n",
    "    range_value = max(df.value_len) - minimum_value\n",
    "    step = math.ceil(range_value/nbins)\n",
    "    bin_max_range = minimum_value\n",
    "    def count_in_range(df):\n",
    "        f1 = df.value_len >= bin_max_range - step\n",
    "        f2 = df.value_len < bin_max_range\n",
    "        return len(df[f1 & f2])\n",
    "\n",
    "    for x in range(0, nbins):\n",
    "        bin_max_range += step\n",
    "        range_count = count_in_range(df)\n",
    "        bins.append(str(bin_max_range)) #superior margin for each bin\n",
    "        if range_count == 0:\n",
    "            #If range_count is 0 then there is no counting to do for trues or falses, all 0. \n",
    "            trues.append(0)\n",
    "            falses.append(0)\n",
    "        else:\n",
    "            trues.append(count_in_range(df[df.is_json == True]) / range_count)\n",
    "            falses.append(count_in_range(df[df.is_json == False]) / range_count)\n",
    "\n",
    "#     print('Bins:', bins)\n",
    "#     print('Trues: ', trues)\n",
    "#     print('Falses: ', falses)\n",
    "#     print(pd.DataFrame([bins, trues, falses], index= ['up to value', 'json%', 'non json%']))\n",
    "    return (bins, trues, falses)\n",
    "\n",
    "def plotPercentualComparison(df, title='Value type: Json X Other'):\n",
    "    bins, trues, falses = percetangeData(df)\n",
    "    width = 0.95\n",
    "    p1 = plt.bar(bins, trues, width=width)\n",
    "    p2 = plt.bar(bins, falses, bottom=trues, width=width)\n",
    "\n",
    "    plt.ylabel('Scores')\n",
    "    plt.xlabel('Value_len')\n",
    "    plt.title(title)\n",
    "    plt.legend((p1[0], p2[0]), ('JSON', 'Other'))\n",
    "    idx = np.round(np.linspace(0, 10 - 1, 4)).astype(int)\n",
    "    plt.xticks(idx, [bins[i] for i in idx])\n",
    "\n",
    "    return plt"
   ]
  },
  {
   "cell_type": "markdown",
   "metadata": {},
   "source": [
    "## All values\n",
    "If all data is divided in 10 bins and the percentage of NON-JSON values in each bin is painted orange, we have the following graph:"
   ]
  },
  {
   "cell_type": "code",
   "execution_count": 9,
   "metadata": {},
   "outputs": [
    {
     "data": {
      "text/plain": [
       "<module 'matplotlib.pyplot' from '/anaconda3/envs/overscripted/lib/python3.6/site-packages/matplotlib/pyplot.py'>"
      ]
     },
     "execution_count": 9,
     "metadata": {},
     "output_type": "execute_result"
    },
    {
     "data": {
      "image/png": "[encoded data removed]",
      "text/plain": [
       "<Figure size 432x288 with 1 Axes>"
      ]
     },
     "metadata": {
      "needs_background": "light"
     },
     "output_type": "display_data"
    }
   ],
   "source": [
    "plotPercentualComparison(df, title='ALL VALUES: json x other')"
   ]
  },
  {
   "cell_type": "markdown",
   "metadata": {},
   "source": [
    "This graph proves that all bigger values are JSON and the non-json types only appear on the smaller values."
   ]
  },
  {
   "cell_type": "markdown",
   "metadata": {},
   "source": [
    "# Conclusion\n",
    "\n",
    "There is absolute no value greater than 104653 (max value for non-json) that represents a valid JSON in this 10% sample. \n",
    "\n",
    "This implies that all the greater values are JSON but they represent very low percentage of the whole data (6.76%).  "
   ]
  },
  {
   "cell_type": "code",
   "execution_count": 10,
   "metadata": {},
   "outputs": [
    {
     "name": "stdout",
     "output_type": "stream",
     "text": [
      "The top (0.30% - whole sample) / (6.76% - values above the mean) is guarantee to be a valid JSON\n"
     ]
    }
   ],
   "source": [
    "max_non_json_value_len = df[df.is_json == False].value_len.max()\n",
    "allJson = df[df['value_len'] > max_non_json_value_len ]\n",
    "length = allJson.is_json.count()\n",
    "print(\"The top ({0:0.2f}% - whole sample) / ({1:0.2f}% - values above the mean) is guarantee to be a valid JSON\".format(\n",
    "    length / df.is_json.count() * 100, length / df[df.value_len > df.value_len.mean()].is_json.count() * 100))"
   ]
  },
  {
   "cell_type": "markdown",
   "metadata": {},
   "source": [
    "--- \n",
    "\n",
    "# Out of Curiosity: small values\n",
    "This is not exactly relevant to the issue 22 ('What's in the really large values?') but I was curious to know how was the distribution of the smaller values"
   ]
  },
  {
   "cell_type": "markdown",
   "metadata": {},
   "source": [
    "## Distribution of non-json values\n",
    "That concentration of the non-json values made me curious: how is the distribution of NON-JSON values among the smaller values? \n",
    "To answer this I filtered the data to only values bellow the bigger non-json and ploted the same graph.\n",
    "- What I got is, again, the absolute majority of these non-json are on the first bin, so they really tend to be small values.  \n",
    "     \n",
    "     *TODO: what is that really small portion of non-json values present on the 9th bin? Are they any different from the others thre are smaller?"
   ]
  },
  {
   "cell_type": "code",
   "execution_count": 11,
   "metadata": {},
   "outputs": [
    {
     "name": "stdout",
     "output_type": "stream",
     "text": [
      "Bigger non json value_len:  104653\n"
     ]
    },
    {
     "data": {
      "text/plain": [
       "<module 'matplotlib.pyplot' from '/anaconda3/envs/overscripted/lib/python3.6/site-packages/matplotlib/pyplot.py'>"
      ]
     },
     "execution_count": 11,
     "metadata": {},
     "output_type": "execute_result"
    },
    {
     "data": {
      "image/png": "[encoded data removed]",
      "text/plain": [
       "<Figure size 432x288 with 1 Axes>"
      ]
     },
     "metadata": {
      "needs_background": "light"
     },
     "output_type": "display_data"
    }
   ],
   "source": [
    "print(\"Bigger non json value_len: \", max_non_json_value_len)\n",
    "plotPercentualComparison(df[df.value_len < (max_non_json_value_len)], title=\"Up to the bigger NON-JSON: json X other\")"
   ]
  },
  {
   "cell_type": "markdown",
   "metadata": {},
   "source": [
    "Still, what about that first bin (the fist 1/10th)?"
   ]
  },
  {
   "cell_type": "code",
   "execution_count": 12,
   "metadata": {},
   "outputs": [
    {
     "name": "stdout",
     "output_type": "stream",
     "text": [
      "first 1/10th:  10465.3\n"
     ]
    },
    {
     "data": {
      "text/plain": [
       "<module 'matplotlib.pyplot' from '/anaconda3/envs/overscripted/lib/python3.6/site-packages/matplotlib/pyplot.py'>"
      ]
     },
     "execution_count": 12,
     "metadata": {},
     "output_type": "execute_result"
    },
    {
     "data": {
      "image/png": "[encoded data removed]",
      "text/plain": [
       "<Figure size 432x288 with 1 Axes>"
      ]
     },
     "metadata": {
      "needs_background": "light"
     },
     "output_type": "display_data"
    }
   ],
   "source": [
    "print(\"first 1/10th: \", max_non_json_value_len/10)\n",
    "plotPercentualComparison(df[df.value_len < (max_non_json_value_len/10)], title=\"First 1/10th: json X other\")"
   ]
  },
  {
   "cell_type": "markdown",
   "metadata": {},
   "source": [
    "### Distribution for the values bellow the mean\n",
    "This is where 95% of the rows are, they do have JSON types on them but as we can see, most of this data is of some other type, not json, and they have a eavenly distribution of this value_range, why is that?"
   ]
  },
  {
   "cell_type": "code",
   "execution_count": 13,
   "metadata": {},
   "outputs": [
    {
     "name": "stdout",
     "output_type": "stream",
     "text": [
      "The values smaller than the mean represent 95.57% of the whole sample\n"
     ]
    },
    {
     "data": {
      "text/plain": [
       "<module 'matplotlib.pyplot' from '/anaconda3/envs/overscripted/lib/python3.6/site-packages/matplotlib/pyplot.py'>"
      ]
     },
     "execution_count": 13,
     "metadata": {},
     "output_type": "execute_result"
    },
    {
     "data": {
      "image/png": "[encoded data removed]",
      "text/plain": [
       "<Figure size 432x288 with 1 Axes>"
      ]
     },
     "metadata": {
      "needs_background": "light"
     },
     "output_type": "display_data"
    }
   ],
   "source": [
    "m = df.value_len.mean()\n",
    "bellow_mean = df[df.value_len <= (m)]\n",
    "print('The values smaller than the mean represent {0:0.2f}% of the whole sample'.format(bellow_mean.is_json.count()/df.is_json.count()*100))\n",
    "plotPercentualComparison(bellow_mean, title='Bellow the mean: json X other')"
   ]
  },
  {
   "cell_type": "markdown",
   "metadata": {},
   "source": [
    "There is more JSON values below the mean than above the mean, but that's not surprising since the data below the mean is 95% of everything."
   ]
  },
  {
   "cell_type": "code",
   "execution_count": 14,
   "metadata": {},
   "outputs": [
    {
     "name": "stdout",
     "output_type": "stream",
     "text": [
      "Jsons below the mean are 80.93% of all jsons\n"
     ]
    }
   ],
   "source": [
    "bellow_mean_count = bellow_mean[bellow_mean.is_json == True].is_json.count()\n",
    "above_mean_count = df[(df.value_len > m) & (df.is_json == True)].is_json.count()\n",
    "total = bellow_mean_count + above_mean_count\n",
    "print(\"Jsons below the mean are {0:.2f}% of all jsons\".format(bellow_mean_count/total * 100))"
   ]
  },
  {
   "cell_type": "markdown",
   "metadata": {},
   "source": [
    "I idenfified lots of falses positives for \"valid_json\", my false positives were all small values, like a number passing on as a 'valid json', it did not make too much of a difference in the overall analysis, but made me think, are there more false positives? how can I eliminate them? "
   ]
  }
 ],
 "metadata": {
  "kernelspec": {
   "display_name": "Python 3",
   "language": "python",
   "name": "python3"
  },
  "language_info": {
   "codemirror_mode": {
    "name": "ipython",
    "version": 3
   },
   "file_extension": ".py",
   "mimetype": "text/x-python",
   "name": "python",
   "nbconvert_exporter": "python",
   "pygments_lexer": "ipython3",
   "version": "3.6.8"
  }
 },
 "nbformat": 4,
 "nbformat_minor": 2
}
