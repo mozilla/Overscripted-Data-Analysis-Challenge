{
 "cells": [
  {
   "cell_type": "markdown",
   "metadata": {},
   "source": [
    "# Start Dask"
   ]
  },
  {
   "cell_type": "code",
   "execution_count": 1,
   "metadata": {},
   "outputs": [
    {
     "name": "stderr",
     "output_type": "stream",
     "text": [
      "/anaconda3/envs/overscripted/lib/python3.6/site-packages/dask/config.py:168: YAMLLoadWarning: calling yaml.load() without Loader=... is deprecated, as the default Loader is unsafe. Please read https://msg.pyyaml.org/load for full details.\n",
      "  data = yaml.load(f.read()) or {}\n"
     ]
    }
   ],
   "source": [
    "import dask.dataframe as dd\n",
    "from dask.diagnostics import ProgressBar\n",
    "import matplotlib.pyplot as plt\n",
    "import pandas as pd\n",
    "import numpy as np\n",
    "%matplotlib inline"
   ]
  },
  {
   "cell_type": "markdown",
   "metadata": {},
   "source": [
    "# Objective\n",
    "\n",
    "The objective of this notebook is to answer: \n",
    " - \"The JSON values are always from the same location or related domains?\" \n",
    "\n",
    "To answer this we will use the sample data set produced by the notebook \"isJson_dataPrep.ipynb\":\n",
    "- 's0_domains_isJson_jsonKeys_md5_TLD_JSON_ONLY.parquet'\n"
   ]
  },
  {
   "cell_type": "markdown",
   "metadata": {},
   "source": [
    "## Findings\n",
    "To answer the question \"The JSON values are always from the same location or related domains?\"  \n",
    "NO not aways, but usually. 83.09% of the JSONs are produced by a single script domain. \n",
    "\n",
    "---\n",
    "\n",
    "About 71% of the JSONs are seen more than once across the data set, that means that they MAY have different origins.\n",
    "- Most JSON are from a single script domain. \n",
    "- Almost 17% of the JSONs have multiple origins<sup>[1]</sup>, mostly they have 2 to 3 origins, very few have more than this. \n",
    "- They may be related for 40% of them have the same TLD<sup>[2]</sup>. \n",
    "- Some of the ones that have multiple script domains have the same location domain (41%) calling different scripts but producing the same JSON<sup>[3]</sup>. \n",
    "- They may have some similarities in usage, 99% of them have a single simbol across the different domains<sup>[4]</sup>\n",
    "\n",
    "---\n",
    "<small> For further investigation: \n",
    "    1. Are this jsons any different? Are they big/small jsons? I may be that they have the same top keys but are in reality very different? \n",
    "    2. Do the scripts domains that produces the same json have any relation between them? How can I relate domains?\n",
    "    3. What does it mean to different scripts get the same JSON for a single Location? \n",
    "    4. Are they used for the same purpose? can we really say that based on the symbol? "
   ]
  },
  {
   "cell_type": "code",
   "execution_count": 2,
   "metadata": {},
   "outputs": [],
   "source": [
    "DIR = 'sample_0_prep/'"
   ]
  },
  {
   "cell_type": "code",
   "execution_count": 3,
   "metadata": {},
   "outputs": [
    {
     "data": {
      "text/plain": [
       "Index(['symbol', 'location_domain', 'script_domain', 'json_keys', 'keys_md5',\n",
       "       'script_tld', 'value_len'],\n",
       "      dtype='object')"
      ]
     },
     "execution_count": 3,
     "metadata": {},
     "output_type": "execute_result"
    }
   ],
   "source": [
    "df = dd.read_parquet(DIR + 's0_domains_isJson_jsonKeys_md5_TLD_JSON_ONLY.parquet',\n",
    "                         engine='pyarrow',\n",
    "                         columns=['symbol', 'location_domain', 'script_domain', 'json_keys', 'keys_md5', 'script_tld', 'value_len'])\n",
    "df.columns"
   ]
  },
  {
   "cell_type": "markdown",
   "metadata": {},
   "source": [
    "---\n",
    "\n",
    "# The JSON values are always from the same location or related domains?\n",
    "How many locations one JSON has?\n",
    "All bigger json have the same locations?\n",
    "what is \"related domains\"?\n"
   ]
  },
  {
   "cell_type": "code",
   "execution_count": 4,
   "metadata": {},
   "outputs": [
    {
     "name": "stdout",
     "output_type": "stream",
     "text": [
      "[########################################] | 100% Completed |  1.8s\n",
      "The total number of different keys_md5 is 14374\n"
     ]
    }
   ],
   "source": [
    "with ProgressBar():\n",
    "    group_by_keys_md5 = df.compute().groupby(['keys_md5'])\n",
    "    group_by_keys_md5_number_of_different_keys = len(group_by_keys_md5)\n",
    "    print(\"The total number of different {} is {}\".format('keys_md5', group_by_keys_md5_number_of_different_keys))"
   ]
  },
  {
   "cell_type": "code",
   "execution_count": 5,
   "metadata": {},
   "outputs": [],
   "source": [
    "agg = group_by_keys_md5.agg(['nunique'])"
   ]
  },
  {
   "cell_type": "code",
   "execution_count": 6,
   "metadata": {},
   "outputs": [
    {
     "name": "stdout",
     "output_type": "stream",
     "text": [
      "There are a total of 10222(71.11%) JSONs that appear in multiple rows\n"
     ]
    }
   ],
   "source": [
    "\n",
    "json_multiple_appearances = agg['symbol'][group_by_keys_md5['symbol'].count() > 1]\n",
    "json_multiple_appearances_len = len(json_multiple_appearances)\n",
    "agg_len = len(agg['symbol'])\n",
    "print('There are a total of {0}({1:0.2f}%) JSONs that appear in multiple rows'.format(\n",
    "    json_multiple_appearances_len, \n",
    "    json_multiple_appearances_len*100/agg_len))"
   ]
  },
  {
   "cell_type": "code",
   "execution_count": 7,
   "metadata": {},
   "outputs": [],
   "source": [
    "def get_multiple(agg, column, title=''):\n",
    "    agg_len = len(agg[column])\n",
    "    x = agg[agg[column]['nunique'] > 1]\n",
    "    x_len = len(x)\n",
    "    print(title + '{0} ({1:0.2f}%) multiple {2},\\n{3} ({4:0.2f}%) unique {2}'.format(\n",
    "        x_len,\n",
    "        x_len*100/agg_len,\n",
    "        column, \n",
    "        agg_len - x_len,\n",
    "        (agg_len - x_len) * 100 / agg_len\n",
    "    ))\n",
    "    return x"
   ]
  },
  {
   "cell_type": "markdown",
   "metadata": {},
   "source": [
    "### JSONs origin: script domain\n",
    "\n",
    "Plot that shows that most JSONs are originated from a single script domain"
   ]
  },
  {
   "cell_type": "code",
   "execution_count": 8,
   "metadata": {},
   "outputs": [
    {
     "name": "stdout",
     "output_type": "stream",
     "text": [
      "SCRIPT DOMAIN data: from the total of json\n",
      "2430 (16.91%) multiple script_domain,\n",
      "11944 (83.09%) unique script_domain\n"
     ]
    },
    {
     "data": {
      "text/plain": [
       "<matplotlib.axes._subplots.AxesSubplot at 0x126562160>"
      ]
     },
     "execution_count": 8,
     "metadata": {},
     "output_type": "execute_result"
    },
    {
     "data": {
      "image/png": "[encoded data removed]",
      "text/plain": [
       "<Figure size 432x288 with 1 Axes>"
      ]
     },
     "metadata": {
      "needs_background": "light"
     },
     "output_type": "display_data"
    }
   ],
   "source": [
    "multiple_script_domain = get_multiple(agg, 'script_domain', 'SCRIPT DOMAIN data: from the total of json\\n')\n",
    "pd.DataFrame([[len(multiple_script_domain)/agg_len], \n",
    "              [(agg_len - len(multiple_script_domain))/agg_len]], \n",
    "            ['multiple', 'single']).plot(kind='bar', title='JSONs origin: Script domain')"
   ]
  },
  {
   "cell_type": "code",
   "execution_count": 9,
   "metadata": {},
   "outputs": [
    {
     "data": {
      "text/plain": [
       "count    2430.000000\n",
       "mean        2.483128\n",
       "std         1.213823\n",
       "min         2.000000\n",
       "25%         2.000000\n",
       "50%         2.000000\n",
       "75%         3.000000\n",
       "max        34.000000\n",
       "Name: nunique, dtype: float64"
      ]
     },
     "execution_count": 9,
     "metadata": {},
     "output_type": "execute_result"
    }
   ],
   "source": [
    "multiple_script_domain.script_domain['nunique'].describe()"
   ]
  },
  {
   "cell_type": "code",
   "execution_count": 10,
   "metadata": {},
   "outputs": [
    {
     "name": "stdout",
     "output_type": "stream",
     "text": [
      "7 (0.29%) multiple symbol,\n",
      "2423 (99.71%) unique symbol\n"
     ]
    }
   ],
   "source": [
    "# Out of the multiple_script_domain\n",
    "multiple_script_domain_symbol = get_multiple(multiple_script_domain, 'symbol')"
   ]
  },
  {
   "cell_type": "code",
   "execution_count": 11,
   "metadata": {},
   "outputs": [
    {
     "name": "stdout",
     "output_type": "stream",
     "text": [
      "1413 (58.15%) multiple script_tld,\n",
      "1017 (41.85%) unique script_tld\n"
     ]
    }
   ],
   "source": [
    "# Out of the multiple_script_domain\n",
    "multiple_script_domain_location_tld = get_multiple(multiple_script_domain, 'script_tld')"
   ]
  },
  {
   "cell_type": "code",
   "execution_count": 12,
   "metadata": {},
   "outputs": [
    {
     "name": "stdout",
     "output_type": "stream",
     "text": [
      "98 (4.03%) multiple location_domain,\n",
      "2332 (95.97%) unique location_domain\n"
     ]
    }
   ],
   "source": [
    "# Out of the multiple_script_domain\n",
    "multiple_script_domain_location_tld = get_multiple(multiple_script_domain, 'location_domain')"
   ]
  }
 ],
 "metadata": {
  "kernelspec": {
   "display_name": "Python 3",
   "language": "python",
   "name": "python3"
  },
  "language_info": {
   "codemirror_mode": {
    "name": "ipython",
    "version": 3
   },
   "file_extension": ".py",
   "mimetype": "text/x-python",
   "name": "python",
   "nbconvert_exporter": "python",
   "pygments_lexer": "ipython3",
   "version": "3.6.8"
  }
 },
 "nbformat": 4,
 "nbformat_minor": 2
}
