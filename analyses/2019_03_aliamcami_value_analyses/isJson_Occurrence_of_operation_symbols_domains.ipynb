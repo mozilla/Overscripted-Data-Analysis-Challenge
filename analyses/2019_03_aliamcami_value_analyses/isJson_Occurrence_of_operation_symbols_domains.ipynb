{
 "cells": [
  {
   "cell_type": "markdown",
   "metadata": {},
   "source": [
    "# Start Dask"
   ]
  },
  {
   "cell_type": "code",
   "execution_count": 1,
   "metadata": {},
   "outputs": [
    {
     "name": "stderr",
     "output_type": "stream",
     "text": [
      "/anaconda3/envs/overscripted/lib/python3.6/site-packages/dask/config.py:168: YAMLLoadWarning: calling yaml.load() without Loader=... is deprecated, as the default Loader is unsafe. Please read https://msg.pyyaml.org/load for full details.\n",
      "  data = yaml.load(f.read()) or {}\n"
     ]
    }
   ],
   "source": [
    "import dask.dataframe as dd\n",
    "from dask.diagnostics import ProgressBar\n",
    "import matplotlib.pyplot as plt\n",
    "import pandas as pd\n",
    "import numpy as np\n",
    "%matplotlib inline"
   ]
  },
  {
   "cell_type": "markdown",
   "metadata": {},
   "source": [
    "This notebook uses the parquet produced by the \"isJson_dataPrep.ipynb\":\n",
    "- ‘s0_domains_isJson_jsonKeys_md5_TLD.parquet'\n",
    "\t- It contains all the original 10% sample with extra columns.\n",
    "\n",
    "# Objective\n",
    "Show and compare between samples the presence and occurrence of operation/symbols/domain/tld. \n",
    "\n",
    "I'll be doing two of each graph to show the difference between the whole data and the filtered data by only rows that have the value_len above the mean\n",
    "\n",
    "# Overview\n",
    "### Operation\n",
    "Most operation used across the entire sample is GET. \n",
    "99.67% of the valid JSONs has GET as operation. If filtered by values_len above the mean then all 100% of the valid JSONs are GET. \n",
    "\n",
    "### Symbols\n",
    "The difference for the unique symbols counting for the whole sample and the filtered one is really big. The one thing I can say is that  'window.localStorage' is the one that produces most JSONs (65%) and ‘window.document.cookie' is the one responsible for 34% of the non-JSON, anything else may require further investigation and understanding. \n",
    "\n",
    "### Domain\n",
    "'Baidu' has the most occurrences for valid JSON values (15%) but it's only in the 5th position when it comes to the values above the mean (5.9%).\n",
    "‘Google.Analytics’ is the top one for the non-JSON values for both all values and bigger values.\n",
    "\n",
    "\n",
    "### TLD\n",
    "The TLD is more balanced between the non-JSON and JSON values, and the top ones remain for the filtered data. \n"
   ]
  },
  {
   "cell_type": "code",
   "execution_count": 2,
   "metadata": {},
   "outputs": [],
   "source": [
    "DIR = 'sample_0_prep/'"
   ]
  },
  {
   "cell_type": "code",
   "execution_count": 3,
   "metadata": {},
   "outputs": [
    {
     "name": "stdout",
     "output_type": "stream",
     "text": [
      "[########################################] | 100% Completed |  6.8s\n"
     ]
    }
   ],
   "source": [
    "columns=['operation', 'symbol', 'script_domain', 'is_json', 'keys_md5', 'script_tld', 'value_len']\n",
    "df = dd.read_parquet(DIR + 's0_domains_isJson_jsonKeys_md5_TLD.parquet',\n",
    "                         engine='pyarrow',\n",
    "                         columns=columns)\n",
    "with ProgressBar():\n",
    "    mean = df['value_len'].mean().compute()\n",
    "\n",
    "df_a = df[df.value_len > mean]"
   ]
  },
  {
   "cell_type": "markdown",
   "metadata": {},
   "source": [
    "# Support code\n",
    "This section is where some support code is placed. \n",
    "Some of the code here is where the math actually happen and the other section uses it. "
   ]
  },
  {
   "cell_type": "code",
   "execution_count": 4,
   "metadata": {},
   "outputs": [
    {
     "name": "stdout",
     "output_type": "stream",
     "text": [
      "[########################################] | 100% Completed |  7.1s\n",
      "[########################################] | 100% Completed |  7.3s\n"
     ]
    }
   ],
   "source": [
    "with ProgressBar():\n",
    "    df_json = df[df.is_json == True].compute()\n",
    "    df_other = df[df.is_json == False].compute()"
   ]
  },
  {
   "cell_type": "code",
   "execution_count": 5,
   "metadata": {},
   "outputs": [
    {
     "name": "stdout",
     "output_type": "stream",
     "text": [
      "[########################################] | 100% Completed |  7.1s\n",
      "[########################################] | 100% Completed |  6.8s\n"
     ]
    }
   ],
   "source": [
    "with ProgressBar():\n",
    "    df_a_json = df_a[df_a.is_json == True].compute()\n",
    "    df_a_other = df_a[df_a.is_json == False].compute()"
   ]
  },
  {
   "cell_type": "code",
   "execution_count": 6,
   "metadata": {},
   "outputs": [],
   "source": [
    "def calcUniquePercentual(df, column):\n",
    "    v = df[column].value_counts()\n",
    "    l = df[column].count()\n",
    "    return v/l"
   ]
  },
  {
   "cell_type": "code",
   "execution_count": 7,
   "metadata": {},
   "outputs": [],
   "source": [
    "def plotUsageComparation(df_json, df_other, column):\n",
    "    nonjsons = calcUniquePercentual(df_other, column=column)\n",
    "    jsons = calcUniquePercentual(df_json, column=column)\n",
    "    p1 = pd.DataFrame({'json': jsons,'other':nonjsons}).sort_values('json', ascending=False)\n",
    "    p1.plot(kind='bar')\n",
    "    return p1"
   ]
  },
  {
   "cell_type": "code",
   "execution_count": 8,
   "metadata": {},
   "outputs": [],
   "source": [
    "def plotTopUsageComparation(df_json, df_other, column, top):\n",
    "    nonjsons = calcUniquePercentual(df_other, column=column)\n",
    "    jsons = calcUniquePercentual(df_json, column=column)\n",
    "    \n",
    "    p1 = pd.DataFrame({'json': jsons,'other':nonjsons})\n",
    "    top_json = p1.sort_values('json', ascending=False).head(top)\n",
    "    top_other = p1.sort_values('other', ascending=False).head(top)\n",
    "    tops = pd.concat([top_json, top_other]).drop_duplicates()\n",
    "    tops.plot(kind='bar')\n",
    "    return tops"
   ]
  },
  {
   "cell_type": "code",
   "execution_count": 41,
   "metadata": {},
   "outputs": [],
   "source": [
    "def plotUniqueValuesComparation(df_json, df_other, column):\n",
    "    nonjsons = calcUniquePercentual(df_other, column=column)\n",
    "    jsons = calcUniquePercentual(df_json, column=column)\n",
    "    \n",
    "    #Value counts\n",
    "    count_nonjson = len(nonjsons)\n",
    "    count_json = len(jsons)\n",
    "    p1 = pd.DataFrame([count_json, count_nonjson], \n",
    "                      index= [ 'Json', 'Other' ], \n",
    "                      columns=['Value Counts'])\n",
    "    p1.plot(kind='bar')\n",
    "    print(\"There are {} unique {} present on the non-json dataset and {} on the JSONs\".format(count_nonjson,\n",
    "                                                                                       column,\n",
    "                                                                                       count_json))\n",
    "    return p1"
   ]
  },
  {
   "cell_type": "markdown",
   "metadata": {},
   "source": [
    "# OPERATION:\n",
    "\n",
    "The operation columns can have 3 different values \n",
    " - GET\n",
    " - SET\n",
    " - CALL\n",
    "\n",
    "We can see below that pretty much all<sup>[1]</sup> JSONs have the operation GET when the whole sample is analysed and ALL JSONs have GET when we filter the sample to values above the mean. \n",
    "The GET operation is the most common among the non-json values as well. \n",
    "\n",
    "---\n",
    "<small> For futher investigation:  \n",
    "1. Are the JSONs that have SET as operation really JSON? Are they false positives? Why are they different? </small>"
   ]
  },
  {
   "cell_type": "markdown",
   "metadata": {},
   "source": [
    "### Full sample:"
   ]
  },
  {
   "cell_type": "code",
   "execution_count": 25,
   "metadata": {},
   "outputs": [
    {
     "data": {
      "image/png": "[encoded data removed]",
      "text/plain": [
       "<Figure size 432x288 with 1 Axes>"
      ]
     },
     "metadata": {
      "needs_background": "light"
     },
     "output_type": "display_data"
    }
   ],
   "source": [
    "p1 = plotUsageComparation(df_json, df_other, 'operation')"
   ]
  },
  {
   "cell_type": "markdown",
   "metadata": {},
   "source": [
    "### Above the mean sample:"
   ]
  },
  {
   "cell_type": "code",
   "execution_count": 26,
   "metadata": {},
   "outputs": [
    {
     "data": {
      "image/png": "[encoded data removed]",
      "text/plain": [
       "<Figure size 432x288 with 1 Axes>"
      ]
     },
     "metadata": {
      "needs_background": "light"
     },
     "output_type": "display_data"
    }
   ],
   "source": [
    "p2 = plotUsageComparation(df_a_json, df_a_other, 'operation')"
   ]
  },
  {
   "cell_type": "code",
   "execution_count": 34,
   "metadata": {},
   "outputs": [
    {
     "data": {
      "text/html": [
       "<div>\n",
       "<style scoped>\n",
       "    .dataframe tbody tr th:only-of-type {\n",
       "        vertical-align: middle;\n",
       "    }\n",
       "\n",
       "    .dataframe tbody tr th {\n",
       "        vertical-align: top;\n",
       "    }\n",
       "\n",
       "    .dataframe thead th {\n",
       "        text-align: right;\n",
       "    }\n",
       "</style>\n",
       "<table border=\"1\" class=\"dataframe\">\n",
       "  <thead>\n",
       "    <tr style=\"text-align: right;\">\n",
       "      <th></th>\n",
       "      <th>json</th>\n",
       "      <th>other</th>\n",
       "      <th>json</th>\n",
       "      <th>other</th>\n",
       "    </tr>\n",
       "  </thead>\n",
       "  <tbody>\n",
       "    <tr>\n",
       "      <th>get</th>\n",
       "      <td>0.996719</td>\n",
       "      <td>0.616728</td>\n",
       "      <td>1.0</td>\n",
       "      <td>0.999047</td>\n",
       "    </tr>\n",
       "    <tr>\n",
       "      <th>set</th>\n",
       "      <td>0.003281</td>\n",
       "      <td>0.131672</td>\n",
       "      <td>NaN</td>\n",
       "      <td>0.000953</td>\n",
       "    </tr>\n",
       "    <tr>\n",
       "      <th>call</th>\n",
       "      <td>NaN</td>\n",
       "      <td>0.251601</td>\n",
       "      <td>NaN</td>\n",
       "      <td>NaN</td>\n",
       "    </tr>\n",
       "  </tbody>\n",
       "</table>\n",
       "</div>"
      ],
      "text/plain": [
       "          json     other  json     other\n",
       "get   0.996719  0.616728   1.0  0.999047\n",
       "set   0.003281  0.131672   NaN  0.000953\n",
       "call       NaN  0.251601   NaN       NaN"
      ]
     },
     "execution_count": 34,
     "metadata": {},
     "output_type": "execute_result"
    },
    {
     "data": {
      "image/png": "[encoded data removed]",
      "text/plain": [
       "<Figure size 432x288 with 1 Axes>"
      ]
     },
     "metadata": {
      "needs_background": "light"
     },
     "output_type": "display_data"
    }
   ],
   "source": [
    "p3 = pd.concat([p1, p2], axis=1, sort=False).drop_duplicates()\n",
    "p3.plot(kind='bar')\n",
    "p3"
   ]
  },
  {
   "cell_type": "markdown",
   "metadata": {},
   "source": [
    "# SYMBOLS\n",
    "There is a pretty big difference<sup>[1]</sup> of unique values that appear on the whole sample and the filtered sample.  \n",
    "For the whole sample there is as much as 245 different symbols on the non json values, but it is drastically reduced to 2 symbols<sup>[2]</sup> for the filtered sample with only value_len above the mean, most being 'window.document.cookie' (99%).   \n",
    "For the valid JSONs there are only 12 symbols total reduced to 5 symbols<sup>[3]</sub>.  \n",
    "\n",
    "---\n",
    "<small> For futher investigation: \n",
    "1. Why is the difference so big? does it have any meaning?\n",
    "2. What are the meaning of the 2 symbols of the non-json? are they special? why only 2? Why 'window.document.cookie'?\n",
    "3. Why these 5 symbols? what do they do? what do they represent?</small>\n",
    "\n"
   ]
  },
  {
   "cell_type": "markdown",
   "metadata": {},
   "source": [
    "### Full Sample:"
   ]
  },
  {
   "cell_type": "code",
   "execution_count": 42,
   "metadata": {},
   "outputs": [
    {
     "name": "stdout",
     "output_type": "stream",
     "text": [
      "There are 245 unique symbol present on the non-json dataset and 12 on the JSONs\n"
     ]
    },
    {
     "data": {
      "image/png": "[encoded data removed]",
      "text/plain": [
       "<Figure size 432x288 with 1 Axes>"
      ]
     },
     "metadata": {
      "needs_background": "light"
     },
     "output_type": "display_data"
    }
   ],
   "source": [
    "p1 = plotUniqueValuesComparation(df_json, df_other, 'symbol')"
   ]
  },
  {
   "cell_type": "code",
   "execution_count": 13,
   "metadata": {},
   "outputs": [
    {
     "data": {
      "text/html": [
       "<div>\n",
       "<style scoped>\n",
       "    .dataframe tbody tr th:only-of-type {\n",
       "        vertical-align: middle;\n",
       "    }\n",
       "\n",
       "    .dataframe tbody tr th {\n",
       "        vertical-align: top;\n",
       "    }\n",
       "\n",
       "    .dataframe thead th {\n",
       "        text-align: right;\n",
       "    }\n",
       "</style>\n",
       "<table border=\"1\" class=\"dataframe\">\n",
       "  <thead>\n",
       "    <tr style=\"text-align: right;\">\n",
       "      <th></th>\n",
       "      <th>json</th>\n",
       "      <th>other</th>\n",
       "    </tr>\n",
       "  </thead>\n",
       "  <tbody>\n",
       "    <tr>\n",
       "      <th>window.localStorage</th>\n",
       "      <td>0.653011</td>\n",
       "      <td>0.020276</td>\n",
       "    </tr>\n",
       "    <tr>\n",
       "      <th>window.sessionStorage</th>\n",
       "      <td>0.307743</td>\n",
       "      <td>0.009565</td>\n",
       "    </tr>\n",
       "    <tr>\n",
       "      <th>HTMLCanvasElement.style</th>\n",
       "      <td>0.020859</td>\n",
       "      <td>0.000780</td>\n",
       "    </tr>\n",
       "    <tr>\n",
       "      <th>window.document.cookie</th>\n",
       "      <td>NaN</td>\n",
       "      <td>0.342406</td>\n",
       "    </tr>\n",
       "    <tr>\n",
       "      <th>window.navigator.userAgent</th>\n",
       "      <td>NaN</td>\n",
       "      <td>0.149935</td>\n",
       "    </tr>\n",
       "    <tr>\n",
       "      <th>window.Storage.getItem</th>\n",
       "      <td>NaN</td>\n",
       "      <td>0.101712</td>\n",
       "    </tr>\n",
       "  </tbody>\n",
       "</table>\n",
       "</div>"
      ],
      "text/plain": [
       "                                json     other\n",
       "window.localStorage         0.653011  0.020276\n",
       "window.sessionStorage       0.307743  0.009565\n",
       "HTMLCanvasElement.style     0.020859  0.000780\n",
       "window.document.cookie           NaN  0.342406\n",
       "window.navigator.userAgent       NaN  0.149935\n",
       "window.Storage.getItem           NaN  0.101712"
      ]
     },
     "execution_count": 13,
     "metadata": {},
     "output_type": "execute_result"
    },
    {
     "data": {
      "image/png": "[encoded data removed]",
      "text/plain": [
       "<Figure size 432x288 with 1 Axes>"
      ]
     },
     "metadata": {
      "needs_background": "light"
     },
     "output_type": "display_data"
    }
   ],
   "source": [
    "plotTopUsageComparation(df_json, df_other, 'symbol', 3)"
   ]
  },
  {
   "cell_type": "markdown",
   "metadata": {},
   "source": [
    "### Above the mean Sample:"
   ]
  },
  {
   "cell_type": "code",
   "execution_count": 43,
   "metadata": {},
   "outputs": [
    {
     "name": "stdout",
     "output_type": "stream",
     "text": [
      "There are 2 unique symbol present on the non-json dataset and 5 on the JSONs\n"
     ]
    },
    {
     "data": {
      "image/png": "[encoded data removed]",
      "text/plain": [
       "<Figure size 432x288 with 1 Axes>"
      ]
     },
     "metadata": {
      "needs_background": "light"
     },
     "output_type": "display_data"
    }
   ],
   "source": [
    "p2 = plotUniqueValuesComparation(df_a_json, df_a_other, 'symbol')"
   ]
  },
  {
   "cell_type": "code",
   "execution_count": 15,
   "metadata": {},
   "outputs": [
    {
     "data": {
      "text/html": [
       "<div>\n",
       "<style scoped>\n",
       "    .dataframe tbody tr th:only-of-type {\n",
       "        vertical-align: middle;\n",
       "    }\n",
       "\n",
       "    .dataframe tbody tr th {\n",
       "        vertical-align: top;\n",
       "    }\n",
       "\n",
       "    .dataframe thead th {\n",
       "        text-align: right;\n",
       "    }\n",
       "</style>\n",
       "<table border=\"1\" class=\"dataframe\">\n",
       "  <thead>\n",
       "    <tr style=\"text-align: right;\">\n",
       "      <th></th>\n",
       "      <th>json</th>\n",
       "      <th>other</th>\n",
       "    </tr>\n",
       "  </thead>\n",
       "  <tbody>\n",
       "    <tr>\n",
       "      <th>window.localStorage</th>\n",
       "      <td>0.822601</td>\n",
       "      <td>NaN</td>\n",
       "    </tr>\n",
       "    <tr>\n",
       "      <th>window.sessionStorage</th>\n",
       "      <td>0.171297</td>\n",
       "      <td>NaN</td>\n",
       "    </tr>\n",
       "    <tr>\n",
       "      <th>HTMLCanvasElement.ownerDocument</th>\n",
       "      <td>0.004006</td>\n",
       "      <td>NaN</td>\n",
       "    </tr>\n",
       "    <tr>\n",
       "      <th>window.name</th>\n",
       "      <td>0.002076</td>\n",
       "      <td>0.000182</td>\n",
       "    </tr>\n",
       "    <tr>\n",
       "      <th>HTMLCanvasElement.style</th>\n",
       "      <td>0.000021</td>\n",
       "      <td>NaN</td>\n",
       "    </tr>\n",
       "    <tr>\n",
       "      <th>window.document.cookie</th>\n",
       "      <td>NaN</td>\n",
       "      <td>0.999818</td>\n",
       "    </tr>\n",
       "  </tbody>\n",
       "</table>\n",
       "</div>"
      ],
      "text/plain": [
       "                                     json     other\n",
       "window.localStorage              0.822601       NaN\n",
       "window.sessionStorage            0.171297       NaN\n",
       "HTMLCanvasElement.ownerDocument  0.004006       NaN\n",
       "window.name                      0.002076  0.000182\n",
       "HTMLCanvasElement.style          0.000021       NaN\n",
       "window.document.cookie                NaN  0.999818"
      ]
     },
     "execution_count": 15,
     "metadata": {},
     "output_type": "execute_result"
    },
    {
     "data": {
      "image/png": "[encoded data removed]",
      "text/plain": [
       "<Figure size 432x288 with 1 Axes>"
      ]
     },
     "metadata": {
      "needs_background": "light"
     },
     "output_type": "display_data"
    }
   ],
   "source": [
    "plotUsageComparation(df_a_json, df_a_other, 'symbol')"
   ]
  },
  {
   "cell_type": "code",
   "execution_count": 45,
   "metadata": {},
   "outputs": [
    {
     "data": {
      "text/html": [
       "<div>\n",
       "<style scoped>\n",
       "    .dataframe tbody tr th:only-of-type {\n",
       "        vertical-align: middle;\n",
       "    }\n",
       "\n",
       "    .dataframe tbody tr th {\n",
       "        vertical-align: top;\n",
       "    }\n",
       "\n",
       "    .dataframe thead th {\n",
       "        text-align: right;\n",
       "    }\n",
       "</style>\n",
       "<table border=\"1\" class=\"dataframe\">\n",
       "  <thead>\n",
       "    <tr style=\"text-align: right;\">\n",
       "      <th></th>\n",
       "      <th>Value Counts</th>\n",
       "      <th>Value Counts</th>\n",
       "    </tr>\n",
       "  </thead>\n",
       "  <tbody>\n",
       "    <tr>\n",
       "      <th>Json</th>\n",
       "      <td>12</td>\n",
       "      <td>5</td>\n",
       "    </tr>\n",
       "    <tr>\n",
       "      <th>Other</th>\n",
       "      <td>245</td>\n",
       "      <td>2</td>\n",
       "    </tr>\n",
       "  </tbody>\n",
       "</table>\n",
       "</div>"
      ],
      "text/plain": [
       "       Value Counts  Value Counts\n",
       "Json             12             5\n",
       "Other           245             2"
      ]
     },
     "execution_count": 45,
     "metadata": {},
     "output_type": "execute_result"
    },
    {
     "data": {
      "image/png": "[encoded data removed]",
      "text/plain": [
       "<Figure size 432x288 with 1 Axes>"
      ]
     },
     "metadata": {
      "needs_background": "light"
     },
     "output_type": "display_data"
    }
   ],
   "source": [
    "p3 = pd.concat([p1, p2], axis=1, sort=False).drop_duplicates()\n",
    "p3.plot(kind='bar')\n",
    "p3"
   ]
  },
  {
   "cell_type": "markdown",
   "metadata": {},
   "source": [
    "# DOMAINS\n",
    "\n",
    "Again, the difference for unique values for the whole sample and the filtered one is really big. Only 7.2%<sup>[1]</sup> of the values remain on the filtered sample for the non-JSON values and  30% for the JSON’s. \n",
    "\n",
    "---\n",
    "<small> For futher investigation: \n",
    "1. Only few of domains produce bigger values, why? Do they have something in common? Does that mean that some domains only produce bigger values?  \n",
    "    \n",
    "2. What are the top domains commonly used for?</small>"
   ]
  },
  {
   "cell_type": "markdown",
   "metadata": {},
   "source": [
    "### Full Sample"
   ]
  },
  {
   "cell_type": "code",
   "execution_count": 16,
   "metadata": {
    "scrolled": true
   },
   "outputs": [
    {
     "name": "stdout",
     "output_type": "stream",
     "text": [
      "There are 11166 unique script_domain present on the non-json dataset and 3507 on the JSONs\n"
     ]
    },
    {
     "data": {
      "image/png": "[encoded data removed]",
      "text/plain": [
       "<Figure size 432x288 with 1 Axes>"
      ]
     },
     "metadata": {
      "needs_background": "light"
     },
     "output_type": "display_data"
    }
   ],
   "source": [
    "plotUniqueValuesComparation(df_json, df_other, 'script_domain')"
   ]
  },
  {
   "cell_type": "code",
   "execution_count": 17,
   "metadata": {},
   "outputs": [
    {
     "data": {
      "text/html": [
       "<div>\n",
       "<style scoped>\n",
       "    .dataframe tbody tr th:only-of-type {\n",
       "        vertical-align: middle;\n",
       "    }\n",
       "\n",
       "    .dataframe tbody tr th {\n",
       "        vertical-align: top;\n",
       "    }\n",
       "\n",
       "    .dataframe thead th {\n",
       "        text-align: right;\n",
       "    }\n",
       "</style>\n",
       "<table border=\"1\" class=\"dataframe\">\n",
       "  <thead>\n",
       "    <tr style=\"text-align: right;\">\n",
       "      <th></th>\n",
       "      <th>json</th>\n",
       "      <th>other</th>\n",
       "    </tr>\n",
       "  </thead>\n",
       "  <tbody>\n",
       "    <tr>\n",
       "      <th>baidu.com</th>\n",
       "      <td>0.156162</td>\n",
       "      <td>0.029125</td>\n",
       "    </tr>\n",
       "    <tr>\n",
       "      <th>cloudfront.net</th>\n",
       "      <td>0.082307</td>\n",
       "      <td>0.031655</td>\n",
       "    </tr>\n",
       "    <tr>\n",
       "      <th>rambler.ru</th>\n",
       "      <td>0.048266</td>\n",
       "      <td>0.010561</td>\n",
       "    </tr>\n",
       "    <tr>\n",
       "      <th>google-analytics.com</th>\n",
       "      <td>0.000005</td>\n",
       "      <td>0.121869</td>\n",
       "    </tr>\n",
       "    <tr>\n",
       "      <th>yandex.ru</th>\n",
       "      <td>0.021904</td>\n",
       "      <td>0.030423</td>\n",
       "    </tr>\n",
       "  </tbody>\n",
       "</table>\n",
       "</div>"
      ],
      "text/plain": [
       "                          json     other\n",
       "baidu.com             0.156162  0.029125\n",
       "cloudfront.net        0.082307  0.031655\n",
       "rambler.ru            0.048266  0.010561\n",
       "google-analytics.com  0.000005  0.121869\n",
       "yandex.ru             0.021904  0.030423"
      ]
     },
     "execution_count": 17,
     "metadata": {},
     "output_type": "execute_result"
    },
    {
     "data": {
      "image/png": "[encoded data removed]",
      "text/plain": [
       "<Figure size 432x288 with 1 Axes>"
      ]
     },
     "metadata": {
      "needs_background": "light"
     },
     "output_type": "display_data"
    }
   ],
   "source": [
    "plotTopUsageComparation(df_json, df_other, 'script_domain', 3)"
   ]
  },
  {
   "cell_type": "markdown",
   "metadata": {},
   "source": [
    "### Above the mean Sample"
   ]
  },
  {
   "cell_type": "code",
   "execution_count": 18,
   "metadata": {
    "scrolled": true
   },
   "outputs": [
    {
     "name": "stdout",
     "output_type": "stream",
     "text": [
      "There are 811 unique script_domain present on the non-json dataset and 1051 on the JSONs\n"
     ]
    },
    {
     "data": {
      "image/png": "[encoded data removed]",
      "text/plain": [
       "<Figure size 432x288 with 1 Axes>"
      ]
     },
     "metadata": {
      "needs_background": "light"
     },
     "output_type": "display_data"
    }
   ],
   "source": [
    "plotUniqueValuesComparation(df_a_json, df_a_other, 'script_domain')"
   ]
  },
  {
   "cell_type": "code",
   "execution_count": 19,
   "metadata": {},
   "outputs": [
    {
     "data": {
      "text/html": [
       "<div>\n",
       "<style scoped>\n",
       "    .dataframe tbody tr th:only-of-type {\n",
       "        vertical-align: middle;\n",
       "    }\n",
       "\n",
       "    .dataframe tbody tr th {\n",
       "        vertical-align: top;\n",
       "    }\n",
       "\n",
       "    .dataframe thead th {\n",
       "        text-align: right;\n",
       "    }\n",
       "</style>\n",
       "<table border=\"1\" class=\"dataframe\">\n",
       "  <thead>\n",
       "    <tr style=\"text-align: right;\">\n",
       "      <th></th>\n",
       "      <th>json</th>\n",
       "      <th>other</th>\n",
       "    </tr>\n",
       "  </thead>\n",
       "  <tbody>\n",
       "    <tr>\n",
       "      <th>sociaplus.com</th>\n",
       "      <td>0.089909</td>\n",
       "      <td>0.006558</td>\n",
       "    </tr>\n",
       "    <tr>\n",
       "      <th>tiqcdn.com</th>\n",
       "      <td>0.081866</td>\n",
       "      <td>0.037636</td>\n",
       "    </tr>\n",
       "    <tr>\n",
       "      <th>twimg.com</th>\n",
       "      <td>0.079437</td>\n",
       "      <td>NaN</td>\n",
       "    </tr>\n",
       "    <tr>\n",
       "      <th>google-analytics.com</th>\n",
       "      <td>0.000005</td>\n",
       "      <td>0.100417</td>\n",
       "    </tr>\n",
       "    <tr>\n",
       "      <th>adobedtm.com</th>\n",
       "      <td>0.008422</td>\n",
       "      <td>0.050673</td>\n",
       "    </tr>\n",
       "    <tr>\n",
       "      <th>yoox.biz</th>\n",
       "      <td>0.001498</td>\n",
       "      <td>0.041437</td>\n",
       "    </tr>\n",
       "  </tbody>\n",
       "</table>\n",
       "</div>"
      ],
      "text/plain": [
       "                          json     other\n",
       "sociaplus.com         0.089909  0.006558\n",
       "tiqcdn.com            0.081866  0.037636\n",
       "twimg.com             0.079437       NaN\n",
       "google-analytics.com  0.000005  0.100417\n",
       "adobedtm.com          0.008422  0.050673\n",
       "yoox.biz              0.001498  0.041437"
      ]
     },
     "execution_count": 19,
     "metadata": {},
     "output_type": "execute_result"
    },
    {
     "data": {
      "image/png": "[encoded data removed]",
      "text/plain": [
       "<Figure size 432x288 with 1 Axes>"
      ]
     },
     "metadata": {
      "needs_background": "light"
     },
     "output_type": "display_data"
    }
   ],
   "source": [
    "plotTopUsageComparation(df_a_json, df_a_other, 'script_domain', 3)"
   ]
  },
  {
   "cell_type": "markdown",
   "metadata": {},
   "source": [
    "# TLD\n",
    "All top 3 domains are the same for both valid JSON and non-JSON, and they remain for the filtered data. But the are some domains that only appear in the whole sample producing only smaller values<sup>[1]</sup>.\n",
    "\n",
    "---\n",
    "<small> For futher investigation: \n",
    "1. Why are there TLD that only produces smaller values? What are they? Are there also the ones that only produces bigger values?  </small>"
   ]
  },
  {
   "cell_type": "code",
   "execution_count": 20,
   "metadata": {
    "scrolled": true
   },
   "outputs": [
    {
     "name": "stdout",
     "output_type": "stream",
     "text": [
      "There are 248 unique script_tld present on the non-json dataset and 141 on the JSONs\n"
     ]
    },
    {
     "data": {
      "image/png": "[encoded data removed]",
      "text/plain": [
       "<Figure size 432x288 with 1 Axes>"
      ]
     },
     "metadata": {
      "needs_background": "light"
     },
     "output_type": "display_data"
    }
   ],
   "source": [
    "plotUniqueValuesComparation(df_json, df_other, 'script_tld')"
   ]
  },
  {
   "cell_type": "code",
   "execution_count": 21,
   "metadata": {},
   "outputs": [
    {
     "data": {
      "text/html": [
       "<div>\n",
       "<style scoped>\n",
       "    .dataframe tbody tr th:only-of-type {\n",
       "        vertical-align: middle;\n",
       "    }\n",
       "\n",
       "    .dataframe tbody tr th {\n",
       "        vertical-align: top;\n",
       "    }\n",
       "\n",
       "    .dataframe thead th {\n",
       "        text-align: right;\n",
       "    }\n",
       "</style>\n",
       "<table border=\"1\" class=\"dataframe\">\n",
       "  <thead>\n",
       "    <tr style=\"text-align: right;\">\n",
       "      <th></th>\n",
       "      <th>json</th>\n",
       "      <th>other</th>\n",
       "    </tr>\n",
       "  </thead>\n",
       "  <tbody>\n",
       "    <tr>\n",
       "      <th>com</th>\n",
       "      <td>0.646485</td>\n",
       "      <td>0.650045</td>\n",
       "    </tr>\n",
       "    <tr>\n",
       "      <th>net</th>\n",
       "      <td>0.143621</td>\n",
       "      <td>0.170509</td>\n",
       "    </tr>\n",
       "    <tr>\n",
       "      <th>ru</th>\n",
       "      <td>0.082325</td>\n",
       "      <td>0.053212</td>\n",
       "    </tr>\n",
       "    <tr>\n",
       "      <th>fr</th>\n",
       "      <td>0.023078</td>\n",
       "      <td>0.006061</td>\n",
       "    </tr>\n",
       "    <tr>\n",
       "      <th>cn</th>\n",
       "      <td>0.006060</td>\n",
       "      <td>0.014413</td>\n",
       "    </tr>\n",
       "  </tbody>\n",
       "</table>\n",
       "</div>"
      ],
      "text/plain": [
       "         json     other\n",
       "com  0.646485  0.650045\n",
       "net  0.143621  0.170509\n",
       "ru   0.082325  0.053212\n",
       "fr   0.023078  0.006061\n",
       "cn   0.006060  0.014413"
      ]
     },
     "execution_count": 21,
     "metadata": {},
     "output_type": "execute_result"
    },
    {
     "data": {
      "image/png": "[encoded data removed]",
      "text/plain": [
       "<Figure size 432x288 with 1 Axes>"
      ]
     },
     "metadata": {
      "needs_background": "light"
     },
     "output_type": "display_data"
    }
   ],
   "source": [
    "plotTopUsageComparation(df_json, df_other, 'script_tld', 4)"
   ]
  },
  {
   "cell_type": "code",
   "execution_count": 22,
   "metadata": {
    "scrolled": true
   },
   "outputs": [
    {
     "name": "stdout",
     "output_type": "stream",
     "text": [
      "There are 52 unique script_tld present on the non-json dataset and 89 on the JSONs\n"
     ]
    },
    {
     "data": {
      "image/png": "[encoded data removed]",
      "text/plain": [
       "<Figure size 432x288 with 1 Axes>"
      ]
     },
     "metadata": {
      "needs_background": "light"
     },
     "output_type": "display_data"
    }
   ],
   "source": [
    "plotUniqueValuesComparation(df_a_json, df_a_other, 'script_tld')"
   ]
  },
  {
   "cell_type": "code",
   "execution_count": 23,
   "metadata": {},
   "outputs": [
    {
     "data": {
      "text/html": [
       "<div>\n",
       "<style scoped>\n",
       "    .dataframe tbody tr th:only-of-type {\n",
       "        vertical-align: middle;\n",
       "    }\n",
       "\n",
       "    .dataframe tbody tr th {\n",
       "        vertical-align: top;\n",
       "    }\n",
       "\n",
       "    .dataframe thead th {\n",
       "        text-align: right;\n",
       "    }\n",
       "</style>\n",
       "<table border=\"1\" class=\"dataframe\">\n",
       "  <thead>\n",
       "    <tr style=\"text-align: right;\">\n",
       "      <th></th>\n",
       "      <th>json</th>\n",
       "      <th>other</th>\n",
       "    </tr>\n",
       "  </thead>\n",
       "  <tbody>\n",
       "    <tr>\n",
       "      <th>com</th>\n",
       "      <td>0.705027</td>\n",
       "      <td>0.627121</td>\n",
       "    </tr>\n",
       "    <tr>\n",
       "      <th>net</th>\n",
       "      <td>0.150878</td>\n",
       "      <td>0.190486</td>\n",
       "    </tr>\n",
       "    <tr>\n",
       "      <th>ru</th>\n",
       "      <td>0.055486</td>\n",
       "      <td>0.002650</td>\n",
       "    </tr>\n",
       "    <tr>\n",
       "      <th>biz</th>\n",
       "      <td>0.001498</td>\n",
       "      <td>0.041437</td>\n",
       "    </tr>\n",
       "  </tbody>\n",
       "</table>\n",
       "</div>"
      ],
      "text/plain": [
       "         json     other\n",
       "com  0.705027  0.627121\n",
       "net  0.150878  0.190486\n",
       "ru   0.055486  0.002650\n",
       "biz  0.001498  0.041437"
      ]
     },
     "execution_count": 23,
     "metadata": {},
     "output_type": "execute_result"
    },
    {
     "data": {
      "image/png": "[encoded data removed]",
      "text/plain": [
       "<Figure size 432x288 with 1 Axes>"
      ]
     },
     "metadata": {
      "needs_background": "light"
     },
     "output_type": "display_data"
    }
   ],
   "source": [
    "plotTopUsageComparation(df_a_json, df_a_other, 'script_tld', 3)"
   ]
  }
 ],
 "metadata": {
  "kernelspec": {
   "display_name": "Python 3",
   "language": "python",
   "name": "python3"
  },
  "language_info": {
   "codemirror_mode": {
    "name": "ipython",
    "version": 3
   },
   "file_extension": ".py",
   "mimetype": "text/x-python",
   "name": "python",
   "nbconvert_exporter": "python",
   "pygments_lexer": "ipython3",
   "version": "3.6.8"
  }
 },
 "nbformat": 4,
 "nbformat_minor": 2
}
