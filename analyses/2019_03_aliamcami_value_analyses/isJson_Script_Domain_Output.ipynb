{
 "cells": [
  {
   "cell_type": "markdown",
   "metadata": {},
   "source": [
    "# Start Dask"
   ]
  },
  {
   "cell_type": "code",
   "execution_count": 1,
   "metadata": {},
   "outputs": [
    {
     "name": "stderr",
     "output_type": "stream",
     "text": [
      "/anaconda3/envs/overscripted/lib/python3.6/site-packages/dask/config.py:168: YAMLLoadWarning: calling yaml.load() without Loader=... is deprecated, as the default Loader is unsafe. Please read https://msg.pyyaml.org/load for full details.\n",
      "  data = yaml.load(f.read()) or {}\n"
     ]
    }
   ],
   "source": [
    "import dask.dataframe as dd\n",
    "from dask.diagnostics import ProgressBar\n",
    "import matplotlib.pyplot as plt\n",
    "import pandas as pd\n",
    "import numpy as np\n",
    "%matplotlib inline"
   ]
  },
  {
   "cell_type": "markdown",
   "metadata": {},
   "source": [
    "# Objective\n",
    "\n",
    "The objective of this notebook is to answer two main questions: \n",
    " - \"Are there a set of location domains that always produces a JSON?\""
   ]
  },
  {
   "cell_type": "markdown",
   "metadata": {},
   "source": [
    "## Conclusion\n",
    "To answer \"Are there a set of location domains that always produces a JSON?\", YES, but it counts only to 0.16%, and\n",
    "about 31% of all the domains can produces both types of values, json and non-json, so, we can say that only 31% of all the domains are capaple of geting JSONs, all the others 69% will never get a JSON value. \n",
    "\n",
    "---\n",
    "\n",
    "There are 11185 different scripts domains, 93.60% of those appear in multiple rows across the dataset. \n",
    "\n",
    "Most domains only have one type of value output, either they are json or not-json.\n",
    "For the domains that have one tipe of output, 99% of the time they get the same keys_md5, but it may not be very accurate because every non-json value has a empty key and thus equal, so, after filtering to valid jsons we have only 19 domains with unique output && valid jsons, out of this, 63% are aways the same json."
   ]
  },
  {
   "cell_type": "code",
   "execution_count": 2,
   "metadata": {},
   "outputs": [],
   "source": [
    "DIR = 'sample_0_prep/'"
   ]
  },
  {
   "cell_type": "code",
   "execution_count": 3,
   "metadata": {},
   "outputs": [
    {
     "data": {
      "text/plain": [
       "Index(['is_json', 'location_domain', 'script_domain', 'keys_md5'], dtype='object')"
      ]
     },
     "execution_count": 3,
     "metadata": {},
     "output_type": "execute_result"
    }
   ],
   "source": [
    "df = dd.read_parquet(DIR + 's0_domains_isJson_jsonKeys_md5_TLD.parquet',\n",
    "                         engine='pyarrow',\n",
    "                         columns=['is_json', 'location_domain', 'script_domain', 'keys_md5'])\n",
    "df.columns"
   ]
  },
  {
   "cell_type": "markdown",
   "metadata": {},
   "source": [
    "---\n",
    "\n",
    "# Are there a set of location domains that always produces a JSON?\n"
   ]
  },
  {
   "cell_type": "code",
   "execution_count": 4,
   "metadata": {},
   "outputs": [
    {
     "name": "stdout",
     "output_type": "stream",
     "text": [
      "[########################################] | 100% Completed |  3.5s\n",
      "The total number of different script_domain is 11185\n"
     ]
    }
   ],
   "source": [
    "with ProgressBar():\n",
    "    group_by_script_domain = df.compute().groupby(['script_domain'])\n",
    "    group_by_script_domain_len = len(group_by_script_domain)\n",
    "    print(\"The total number of different {} is {}\".format('script_domain', group_by_script_domain_len))"
   ]
  },
  {
   "cell_type": "code",
   "execution_count": 5,
   "metadata": {},
   "outputs": [],
   "source": [
    "agg = group_by_script_domain.agg({'is_json': ['nunique', 'sum'],\n",
    "                             'location_domain': ['nunique'],\n",
    "                             'keys_md5': ['nunique']})"
   ]
  },
  {
   "cell_type": "code",
   "execution_count": 6,
   "metadata": {},
   "outputs": [
    {
     "name": "stdout",
     "output_type": "stream",
     "text": [
      "There are a total of 10469(93.60%) JSONs that appear in multiple rows\n"
     ]
    }
   ],
   "source": [
    "appear_multiple_times = agg['is_json'][group_by_script_domain['is_json'].count() > 1]\n",
    "appear_multiple_times_len = len(appear_multiple_times)\n",
    "agg_len = len(agg['is_json'])\n",
    "print('There are a total of {0}({1:0.2f}%) JSONs that appear in multiple rows'.format(\n",
    "    appear_multiple_times_len, \n",
    "    appear_multiple_times_len*100/agg_len))"
   ]
  },
  {
   "cell_type": "code",
   "execution_count": 7,
   "metadata": {},
   "outputs": [],
   "source": [
    "def get_unique(agg, column, title=''):\n",
    "    agg_len = len(agg[column])\n",
    "    x = agg[agg[column]['nunique'] == 1]\n",
    "    x_len = len(x)\n",
    "    print(title + '{0} ({1:0.2f}%) unique {2},\\n{3} ({4:0.2f}%) multiple {2}'.format(\n",
    "        x_len,\n",
    "        x_len*100/agg_len,\n",
    "        column, \n",
    "        agg_len - x_len,\n",
    "        (agg_len - x_len) * 100 / agg_len\n",
    "    ))\n",
    "    return x"
   ]
  },
  {
   "cell_type": "code",
   "execution_count": 8,
   "metadata": {},
   "outputs": [
    {
     "name": "stdout",
     "output_type": "stream",
     "text": [
      "JSON data:\n",
      "7697 (68.82%) unique is_json,\n",
      "3488 (31.18%) multiple is_json\n",
      "\n",
      "KEYS data: out of the unique jsons\n",
      "7690 (99.91%) unique keys_md5,\n",
      "7 (0.09%) multiple keys_md5\n"
     ]
    }
   ],
   "source": [
    "unique_is_json = get_unique(agg, 'is_json', 'JSON data:\\n')\n",
    "unique_json_key = get_unique(unique_is_json, 'keys_md5', '\\nKEYS data: out of the unique jsons\\n')\n",
    "#it may not be very accurate because every non-json value has a empty key and thus equal"
   ]
  },
  {
   "cell_type": "code",
   "execution_count": 9,
   "metadata": {},
   "outputs": [
    {
     "name": "stdout",
     "output_type": "stream",
     "text": [
      "There are only 19 domains with unique valid json output\n",
      "\n",
      "KEYS data: out of the unique valid jsons\n",
      "12 (63.16%) unique keys_md5,\n",
      "7 (36.84%) multiple keys_md5\n"
     ]
    }
   ],
   "source": [
    "#Filter to only valid jsons\n",
    "unique_is_json_jsons = unique_is_json[unique_is_json['is_json']['sum'] > 0]\n",
    "print(\"There are only {} domains with unique valid json output\".format(len(unique_is_json_jsons)))\n",
    "unique_key_jsons = get_unique(unique_is_json_jsons, 'keys_md5', '\\nKEYS data: out of the unique valid jsons\\n')"
   ]
  }
 ],
 "metadata": {
  "kernelspec": {
   "display_name": "Python 3",
   "language": "python",
   "name": "python3"
  },
  "language_info": {
   "codemirror_mode": {
    "name": "ipython",
    "version": 3
   },
   "file_extension": ".py",
   "mimetype": "text/x-python",
   "name": "python",
   "nbconvert_exporter": "python",
   "pygments_lexer": "ipython3",
   "version": "3.6.8"
  }
 },
 "nbformat": 4,
 "nbformat_minor": 2
}
