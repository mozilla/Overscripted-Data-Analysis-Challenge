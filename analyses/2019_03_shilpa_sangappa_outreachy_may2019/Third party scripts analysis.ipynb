{
 "cells": [
  {
   "cell_type": "markdown",
   "metadata": {},
   "source": [
    "# Third party scripts analysis\n",
    "\n",
    "The analysis performed here is to measure how many of the scripts executed are from a third party domain.\n",
    "\n",
    "e.g.<br> \n",
    "__location__: https://staticxx.facebook.com/connect/xd_arbit... \t\n",
    "__script_url__: https://staticxx.facebook.com/connect/xd_arbit..\n",
    "<br>In the above entry, both location and script_url are from the domain facebook.\n",
    "\n",
    "\n",
    "But,<br>__location__:   cas.us.criteo.com \t\n",
    "__script_url__: ajax.googleapis.com\n",
    "<br>In this entry, location and script_url are from different domain. \n",
    "\n",
    "\n",
    "An inference is drawn at the end, dicussing the implications."
   ]
  },
  {
   "cell_type": "code",
   "execution_count": 1,
   "metadata": {},
   "outputs": [
    {
     "name": "stderr",
     "output_type": "stream",
     "text": [
      "/home/shilpa/anaconda3/envs/overscripted/lib/python3.6/site-packages/dask/config.py:168: YAMLLoadWarning: calling yaml.load() without Loader=... is deprecated, as the default Loader is unsafe. Please read https://msg.pyyaml.org/load for full details.\n",
      "  data = yaml.load(f.read()) or {}\n",
      "/home/shilpa/anaconda3/envs/overscripted/lib/python3.6/site-packages/distributed/config.py:20: YAMLLoadWarning: calling yaml.load() without Loader=... is deprecated, as the default Loader is unsafe. Please read https://msg.pyyaml.org/load for full details.\n",
      "  defaults = yaml.load(f)\n"
     ]
    }
   ],
   "source": [
    "import dask.dataframe as dd\n",
    "import pandas\n",
    "from dask.distributed import Client"
   ]
  },
  {
   "cell_type": "code",
   "execution_count": 2,
   "metadata": {},
   "outputs": [
    {
     "name": "stderr",
     "output_type": "stream",
     "text": [
      "/home/shilpa/anaconda3/envs/overscripted/lib/python3.6/site-packages/distributed/bokeh/core.py:57: UserWarning: \n",
      "Port 8787 is already in use. \n",
      "Perhaps you already have a cluster running?\n",
      "Hosting the diagnostics dashboard on a random port instead.\n",
      "  warnings.warn('\\n' + msg)\n"
     ]
    },
    {
     "data": {
      "text/html": [
       "<table style=\"border: 2px solid white;\">\n",
       "<tr>\n",
       "<td style=\"vertical-align: top; border: 0px solid white\">\n",
       "<h3>Client</h3>\n",
       "<ul>\n",
       "  <li><b>Scheduler: </b>tcp://127.0.0.1:35261\n",
       "  <li><b>Dashboard: </b><a href='http://127.0.0.1:33141/status' target='_blank'>http://127.0.0.1:33141/status</a>\n",
       "</ul>\n",
       "</td>\n",
       "<td style=\"vertical-align: top; border: 0px solid white\">\n",
       "<h3>Cluster</h3>\n",
       "<ul>\n",
       "  <li><b>Workers: </b>4</li>\n",
       "  <li><b>Cores: </b>12</li>\n",
       "  <li><b>Memory: </b>3.92 GB</li>\n",
       "</ul>\n",
       "</td>\n",
       "</tr>\n",
       "</table>"
      ],
      "text/plain": [
       "<Client: scheduler='tcp://127.0.0.1:35261' processes=4 cores=12>"
      ]
     },
     "execution_count": 2,
     "metadata": {},
     "output_type": "execute_result"
    }
   ],
   "source": [
    "client=Client()\n",
    "client"
   ]
  },
  {
   "cell_type": "code",
   "execution_count": 3,
   "metadata": {},
   "outputs": [],
   "source": [
    "import os\n",
    "DATA_DIR = '/home/shilpa/work/overscripted/dataset'    "
   ]
  },
  {
   "cell_type": "code",
   "execution_count": 4,
   "metadata": {},
   "outputs": [],
   "source": [
    "#sampleDataDir = os.path.join(DATA_DIR, 'sample/part-00000-34d9b361-ea79-42eb-82ee-9c9f9259c339-c000.snappy.parquet')\n",
    "sampleDataDir = os.path.join(DATA_DIR, 'sample/')"
   ]
  },
  {
   "cell_type": "code",
   "execution_count": 5,
   "metadata": {},
   "outputs": [
    {
     "data": {
      "text/html": [
       "<div>\n",
       "<style scoped>\n",
       "    .dataframe tbody tr th:only-of-type {\n",
       "        vertical-align: middle;\n",
       "    }\n",
       "\n",
       "    .dataframe tbody tr th {\n",
       "        vertical-align: top;\n",
       "    }\n",
       "\n",
       "    .dataframe thead th {\n",
       "        text-align: right;\n",
       "    }\n",
       "</style>\n",
       "<table border=\"1\" class=\"dataframe\">\n",
       "  <thead>\n",
       "    <tr style=\"text-align: right;\">\n",
       "      <th></th>\n",
       "      <th>location</th>\n",
       "      <th>script_url</th>\n",
       "    </tr>\n",
       "  </thead>\n",
       "  <tbody>\n",
       "    <tr>\n",
       "      <th>0</th>\n",
       "      <td>https://staticxx.facebook.com/connect/xd_arbit...</td>\n",
       "      <td>https://staticxx.facebook.com/connect/xd_arbit...</td>\n",
       "    </tr>\n",
       "    <tr>\n",
       "      <th>1</th>\n",
       "      <td>https://staticxx.facebook.com/connect/xd_arbit...</td>\n",
       "      <td>https://staticxx.facebook.com/connect/xd_arbit...</td>\n",
       "    </tr>\n",
       "    <tr>\n",
       "      <th>2</th>\n",
       "      <td>https://staticxx.facebook.com/connect/xd_arbit...</td>\n",
       "      <td>https://staticxx.facebook.com/connect/xd_arbit...</td>\n",
       "    </tr>\n",
       "    <tr>\n",
       "      <th>3</th>\n",
       "      <td>https://staticxx.facebook.com/connect/xd_arbit...</td>\n",
       "      <td>https://staticxx.facebook.com/connect/xd_arbit...</td>\n",
       "    </tr>\n",
       "    <tr>\n",
       "      <th>4</th>\n",
       "      <td>https://cas.us.criteo.com/delivery/r/afr.php?d...</td>\n",
       "      <td>https://ajax.googleapis.com/ajax/libs/webfont/...</td>\n",
       "    </tr>\n",
       "  </tbody>\n",
       "</table>\n",
       "</div>"
      ],
      "text/plain": [
       "                                            location  \\\n",
       "0  https://staticxx.facebook.com/connect/xd_arbit...   \n",
       "1  https://staticxx.facebook.com/connect/xd_arbit...   \n",
       "2  https://staticxx.facebook.com/connect/xd_arbit...   \n",
       "3  https://staticxx.facebook.com/connect/xd_arbit...   \n",
       "4  https://cas.us.criteo.com/delivery/r/afr.php?d...   \n",
       "\n",
       "                                          script_url  \n",
       "0  https://staticxx.facebook.com/connect/xd_arbit...  \n",
       "1  https://staticxx.facebook.com/connect/xd_arbit...  \n",
       "2  https://staticxx.facebook.com/connect/xd_arbit...  \n",
       "3  https://staticxx.facebook.com/connect/xd_arbit...  \n",
       "4  https://ajax.googleapis.com/ajax/libs/webfont/...  "
      ]
     },
     "execution_count": 5,
     "metadata": {},
     "output_type": "execute_result"
    }
   ],
   "source": [
    "pandas.set_option('display.max_columns', None)\n",
    "#read the columns 'location' and 'script_url' only from the dataset\n",
    "df_domain = dd.read_parquet(sampleDataDir, columns=['location', 'script_url'])\n",
    "df_domain.head()"
   ]
  },
  {
   "cell_type": "code",
   "execution_count": 6,
   "metadata": {},
   "outputs": [
    {
     "name": "stdout",
     "output_type": "stream",
     "text": [
      "Listing the domain extractions from location and script_url field: 9234\n"
     ]
    },
    {
     "data": {
      "text/html": [
       "<div>\n",
       "<style scoped>\n",
       "    .dataframe tbody tr th:only-of-type {\n",
       "        vertical-align: middle;\n",
       "    }\n",
       "\n",
       "    .dataframe tbody tr th {\n",
       "        vertical-align: top;\n",
       "    }\n",
       "\n",
       "    .dataframe thead th {\n",
       "        text-align: right;\n",
       "    }\n",
       "</style>\n",
       "<table border=\"1\" class=\"dataframe\">\n",
       "  <thead>\n",
       "    <tr style=\"text-align: right;\">\n",
       "      <th></th>\n",
       "      <th>location</th>\n",
       "      <th>script_url</th>\n",
       "    </tr>\n",
       "  </thead>\n",
       "  <tbody>\n",
       "    <tr>\n",
       "      <th>0</th>\n",
       "      <td>staticxx.facebook.com</td>\n",
       "      <td>staticxx.facebook.com</td>\n",
       "    </tr>\n",
       "    <tr>\n",
       "      <th>1</th>\n",
       "      <td>staticxx.facebook.com</td>\n",
       "      <td>staticxx.facebook.com</td>\n",
       "    </tr>\n",
       "    <tr>\n",
       "      <th>2</th>\n",
       "      <td>staticxx.facebook.com</td>\n",
       "      <td>staticxx.facebook.com</td>\n",
       "    </tr>\n",
       "    <tr>\n",
       "      <th>3</th>\n",
       "      <td>staticxx.facebook.com</td>\n",
       "      <td>staticxx.facebook.com</td>\n",
       "    </tr>\n",
       "    <tr>\n",
       "      <th>4</th>\n",
       "      <td>cas.us.criteo.com</td>\n",
       "      <td>ajax.googleapis.com</td>\n",
       "    </tr>\n",
       "  </tbody>\n",
       "</table>\n",
       "</div>"
      ],
      "text/plain": [
       "                location             script_url\n",
       "0  staticxx.facebook.com  staticxx.facebook.com\n",
       "1  staticxx.facebook.com  staticxx.facebook.com\n",
       "2  staticxx.facebook.com  staticxx.facebook.com\n",
       "3  staticxx.facebook.com  staticxx.facebook.com\n",
       "4      cas.us.criteo.com    ajax.googleapis.com"
      ]
     },
     "execution_count": 6,
     "metadata": {},
     "output_type": "execute_result"
    }
   ],
   "source": [
    "#Split the script_url field on the string '/' and index the 2nd element, to get the domain only from the whole URL\n",
    "df_domain['script_url'] = df_domain['script_url'].str.split('/').str[2]\n",
    "\n",
    "#Split the location field on the string '/' and index the 2nd element, to get the domain only from the whole URL\n",
    "df_domain['location'] = df_domain['location'].str.split('/').str[2]\n",
    "\n",
    "print('Listing the domain extractions from location and script_url field:', len(df_domain))\n",
    "df_domain.head()"
   ]
  },
  {
   "cell_type": "code",
   "execution_count": 7,
   "metadata": {},
   "outputs": [
    {
     "name": "stdout",
     "output_type": "stream",
     "text": [
      "Number of entries where location domain is not same as script_url: 7695\n"
     ]
    },
    {
     "data": {
      "text/html": [
       "<div>\n",
       "<style scoped>\n",
       "    .dataframe tbody tr th:only-of-type {\n",
       "        vertical-align: middle;\n",
       "    }\n",
       "\n",
       "    .dataframe tbody tr th {\n",
       "        vertical-align: top;\n",
       "    }\n",
       "\n",
       "    .dataframe thead th {\n",
       "        text-align: right;\n",
       "    }\n",
       "</style>\n",
       "<table border=\"1\" class=\"dataframe\">\n",
       "  <thead>\n",
       "    <tr style=\"text-align: right;\">\n",
       "      <th></th>\n",
       "      <th>location</th>\n",
       "      <th>script_url</th>\n",
       "    </tr>\n",
       "  </thead>\n",
       "  <tbody>\n",
       "    <tr>\n",
       "      <th>4</th>\n",
       "      <td>cas.us.criteo.com</td>\n",
       "      <td>ajax.googleapis.com</td>\n",
       "    </tr>\n",
       "    <tr>\n",
       "      <th>5</th>\n",
       "      <td>pos.baidu.com</td>\n",
       "      <td>cpro.baidustatic.com</td>\n",
       "    </tr>\n",
       "    <tr>\n",
       "      <th>10</th>\n",
       "      <td>www.jumia.co.ke</td>\n",
       "      <td>static.dynamicyield.com</td>\n",
       "    </tr>\n",
       "    <tr>\n",
       "      <th>11</th>\n",
       "      <td>www.jumia.co.ke</td>\n",
       "      <td>static.dynamicyield.com</td>\n",
       "    </tr>\n",
       "    <tr>\n",
       "      <th>12</th>\n",
       "      <td>www.jumia.co.ke</td>\n",
       "      <td>static.dynamicyield.com</td>\n",
       "    </tr>\n",
       "  </tbody>\n",
       "</table>\n",
       "</div>"
      ],
      "text/plain": [
       "             location               script_url\n",
       "4   cas.us.criteo.com      ajax.googleapis.com\n",
       "5       pos.baidu.com     cpro.baidustatic.com\n",
       "10    www.jumia.co.ke  static.dynamicyield.com\n",
       "11    www.jumia.co.ke  static.dynamicyield.com\n",
       "12    www.jumia.co.ke  static.dynamicyield.com"
      ]
     },
     "execution_count": 7,
     "metadata": {},
     "output_type": "execute_result"
    }
   ],
   "source": [
    "#Get rows where location domain and script_url domain are not the same.\n",
    "#i.e., get the entries, where third party scripts are being executed\n",
    "\n",
    "df_domain_diff = df_domain[df_domain['location'] != df_domain['script_url']]\n",
    "print('Number of entries where location domain is not same as script_url:', len(df_domain_diff))\n",
    "df_domain_diff.head()"
   ]
  },
  {
   "cell_type": "code",
   "execution_count": 8,
   "metadata": {},
   "outputs": [
    {
     "name": "stdout",
     "output_type": "stream",
     "text": [
      "Number of unique entries where location domain is not same as script_url: 304\n"
     ]
    },
    {
     "data": {
      "text/html": [
       "<div>\n",
       "<style scoped>\n",
       "    .dataframe tbody tr th:only-of-type {\n",
       "        vertical-align: middle;\n",
       "    }\n",
       "\n",
       "    .dataframe tbody tr th {\n",
       "        vertical-align: top;\n",
       "    }\n",
       "\n",
       "    .dataframe thead th {\n",
       "        text-align: right;\n",
       "    }\n",
       "</style>\n",
       "<table border=\"1\" class=\"dataframe\">\n",
       "  <thead>\n",
       "    <tr style=\"text-align: right;\">\n",
       "      <th></th>\n",
       "      <th>location</th>\n",
       "      <th>script_url</th>\n",
       "    </tr>\n",
       "  </thead>\n",
       "  <tbody>\n",
       "    <tr>\n",
       "      <th>4</th>\n",
       "      <td>cas.us.criteo.com</td>\n",
       "      <td>ajax.googleapis.com</td>\n",
       "    </tr>\n",
       "    <tr>\n",
       "      <th>5</th>\n",
       "      <td>pos.baidu.com</td>\n",
       "      <td>cpro.baidustatic.com</td>\n",
       "    </tr>\n",
       "    <tr>\n",
       "      <th>10</th>\n",
       "      <td>www.jumia.co.ke</td>\n",
       "      <td>static.dynamicyield.com</td>\n",
       "    </tr>\n",
       "    <tr>\n",
       "      <th>34</th>\n",
       "      <td>www.syracuse.edu</td>\n",
       "      <td>www.googletagmanager.com</td>\n",
       "    </tr>\n",
       "    <tr>\n",
       "      <th>37</th>\n",
       "      <td>www.syracuse.edu</td>\n",
       "      <td>www.google-analytics.com</td>\n",
       "    </tr>\n",
       "  </tbody>\n",
       "</table>\n",
       "</div>"
      ],
      "text/plain": [
       "             location                script_url\n",
       "4   cas.us.criteo.com       ajax.googleapis.com\n",
       "5       pos.baidu.com      cpro.baidustatic.com\n",
       "10    www.jumia.co.ke   static.dynamicyield.com\n",
       "34   www.syracuse.edu  www.googletagmanager.com\n",
       "37   www.syracuse.edu  www.google-analytics.com"
      ]
     },
     "execution_count": 8,
     "metadata": {},
     "output_type": "execute_result"
    }
   ],
   "source": [
    "# Find the unique entries where location domain and corresponding script_url are not the same.\n",
    "# i.e. drop duplicates from the dataframe where location domain and script_url are not the same\n",
    "df_domain_diff_unique = df_domain_diff.drop_duplicates()\n",
    "print('Number of unique entries where location domain is not same as script_url:', len(df_domain_diff_unique))\n",
    "df_domain_diff_unique.head()\n",
    "\n",
    "#In the above output, www.jumia.co.ke was showing up multiple times, accessing the url static.dynamicyield.com. \n",
    "# We reduce it to a single entry, here, in this cell output"
   ]
  },
  {
   "cell_type": "code",
   "execution_count": 9,
   "metadata": {},
   "outputs": [
    {
     "name": "stdout",
     "output_type": "stream",
     "text": [
      "Total number of unique domain locations: 114\n"
     ]
    }
   ],
   "source": [
    "other_domain = len(df_domain['location'].drop_duplicates())\n",
    "print('Total number of unique domain locations:', other_domain)"
   ]
  },
  {
   "cell_type": "code",
   "execution_count": 10,
   "metadata": {},
   "outputs": [
    {
     "name": "stdout",
     "output_type": "stream",
     "text": [
      "Total number of unique domain locations which are not accessing scripts from their own domain: 91\n"
     ]
    }
   ],
   "source": [
    "same_domain = len(df_domain_diff_unique['location'].drop_duplicates())\n",
    "print('Total number of unique domain locations which are not accessing scripts from their own domain:', same_domain)"
   ]
  },
  {
   "cell_type": "code",
   "execution_count": 12,
   "metadata": {},
   "outputs": [
    {
     "data": {
      "image/png": "[encoded data removed]",
      "text/plain": [
       "<Figure size 432x288 with 1 Axes>"
      ]
     },
     "metadata": {},
     "output_type": "display_data"
    }
   ],
   "source": [
    "import matplotlib.pyplot as plotter\n",
    "pieLabels = '3rd party scripts', 'self domain scripts'\n",
    "pieShare = [same_domain, abs(other_domain - same_domain)]\n",
    "figureObject, axesObject = plotter.subplots()\n",
    "\n",
    "axesObject.pie(pieShare,\n",
    "        labels=pieLabels,\n",
    "        autopct='%1.2f',\n",
    "        startangle=90)\n",
    "\n",
    "axesObject.axis('equal')\n",
    "plotter.show()"
   ]
  },
  {
   "cell_type": "markdown",
   "metadata": {},
   "source": [
    "### Inference\n",
    "Out of the total 114 unique domains in the dataset, 91 are calling scripts which is on a different domain.\n",
    "For e.g. In the above output, cas.us.criteo.com is calling a script which resides at ajax.googleapis.com\n",
    "\n",
    "From a end-user point of view, the user data is being captured by the domain at \"location\" and is also being passed to the domain \"script_url\". So the user data is not just being captured by one domain but is also being spread to another domain. Which implies, spread of user data.\n",
    "\n",
    "From a technical perspective, why are few sites loading scripts from a third party domain?\n",
    "(i) Are these third party domain scripts so technically superior?\n",
    "                                  OR\n",
    "(ii) For a Small and Medium Business(SMB) company, investing in developing tracking software is time-consuming or expensive and so they take the help of these third party script providers?\n",
    "                                  OR\n",
    "(iii) Is it a service like Ads and Analytics, for which a script located on a third party domain needs to be executed?\n",
    "\n",
    "In any case, user data is spreading to more people."
   ]
  },
  {
   "cell_type": "markdown",
   "metadata": {},
   "source": [
    "p.s.: This has been run on a small sample dataset. Can be extended to the whole big dataset."
   ]
  },
  {
   "cell_type": "code",
   "execution_count": null,
   "metadata": {},
   "outputs": [],
   "source": []
  }
 ],
 "metadata": {
  "kernelspec": {
   "display_name": "Python 3",
   "language": "python",
   "name": "python3"
  },
  "language_info": {
   "codemirror_mode": {
    "name": "ipython",
    "version": 3
   },
   "file_extension": ".py",
   "mimetype": "text/x-python",
   "name": "python",
   "nbconvert_exporter": "python",
   "pygments_lexer": "ipython3",
   "version": "3.6.8"
  }
 },
 "nbformat": 4,
 "nbformat_minor": 2
}
