{
 "cells": [
  {
   "cell_type": "code",
   "execution_count": 2,
   "metadata": {},
   "outputs": [],
   "source": [
    "import dask.dataframe as dd\n",
    "import os\n",
    "import re\n",
    "import json\n",
    "\n",
    "from dask.distributed import Client, progress\n",
    "from pandas.api.types import CategoricalDtype\n",
    "\n",
    "DATA_DIR = 'YOUR DATA DIRECTORY HERE'\n",
    "DATA_DIR_FULL = DATA_DIR + \"PATH TO PARQUET FILES\""
   ]
  },
  {
   "cell_type": "code",
   "execution_count": 3,
   "metadata": {
    "scrolled": false
   },
   "outputs": [
    {
     "data": {
      "text/html": [
       "<table style=\"border: 2px solid white;\">\n",
       "<tr>\n",
       "<td style=\"vertical-align: top; border: 0px solid white\">\n",
       "<h3>Client</h3>\n",
       "<ul>\n",
       "  <li><b>Scheduler: </b>tcp://127.0.0.1:64926\n",
       "  <li><b>Dashboard: </b><a href='http://127.0.0.1:8787/status' target='_blank'>http://127.0.0.1:8787/status</a>\n",
       "</ul>\n",
       "</td>\n",
       "<td style=\"vertical-align: top; border: 0px solid white\">\n",
       "<h3>Cluster</h3>\n",
       "<ul>\n",
       "  <li><b>Workers: </b>4</li>\n",
       "  <li><b>Cores: </b>4</li>\n",
       "  <li><b>Memory: </b>32.00 GB</li>\n",
       "</ul>\n",
       "</td>\n",
       "</tr>\n",
       "</table>"
      ],
      "text/plain": [
       "<Client: scheduler='tcp://127.0.0.1:64926' processes=4 cores=4>"
      ]
     },
     "execution_count": 3,
     "metadata": {},
     "output_type": "execute_result"
    }
   ],
   "source": [
    "Client()"
   ]
  },
  {
   "cell_type": "markdown",
   "metadata": {},
   "source": [
    "# Build candidates"
   ]
  },
  {
   "cell_type": "code",
   "execution_count": 3,
   "metadata": {},
   "outputs": [
    {
     "data": {
      "text/plain": [
       "0                  http://www.qvc.com/akam/10/2b30e194\n",
       "1                      http://www.qvc.com/_bm/async.js\n",
       "2                http://www.coupang.com/akam/10/4f2b47\n",
       "3     https://www.coches.net/ztkieflaaxcvaiwh121837.js\n",
       "4    https://a1.alicdn.com/creation/html/2016/06/20...\n",
       "Name: script_url, dtype: object"
      ]
     },
     "execution_count": 3,
     "metadata": {},
     "output_type": "execute_result"
    }
   ],
   "source": [
    "df_to_data_urls_df = dd.read_parquet(DATA_FILE, columns=['script_url', 'symbol'])\n",
    "df_to_data_urls_df = df_to_data_urls_df[df_to_data_urls_df.symbol == 'HTMLCanvasElement.toDataURL']\n",
    "to_data_urls = df_to_data_urls_df.script_url.unique().compute()\n",
    "to_data_urls[0:5]"
   ]
  },
  {
   "cell_type": "code",
   "execution_count": 4,
   "metadata": {},
   "outputs": [
    {
     "data": {
      "text/plain": [
       "0    http://p6.drtst.com/templates/drtuber/js/drtub...\n",
       "1      https://www.jigsawplanet.com/js/jp.js?v=b177a4b\n",
       "2    http://p5.vptpsn.com/templates/frontend/viptub...\n",
       "3    https://code.createjs.com/createjs-2015.11.26....\n",
       "4           http://cdn.promodj.com/core/core.js?1ce4f0\n",
       "Name: script_url, dtype: object"
      ]
     },
     "execution_count": 4,
     "metadata": {},
     "output_type": "execute_result"
    }
   ],
   "source": [
    "def large_enough(row):\n",
    "    width = float(row.argument_2)\n",
    "    height = float(row.argument_3)\n",
    "    return width >= 16 and height >= 16\n",
    "\n",
    "df_get_image_data_df = dd.read_parquet(DATA_FILE, columns=['script_url', 'symbol', 'argument_2', 'argument_3'])\n",
    "df_get_image_data_df = df_get_image_data_df[df_get_image_data_df.symbol == 'CanvasRenderingContext2D.getImageData']\n",
    "df_get_image_data_df = df_get_image_data_df[df_get_image_data_df.apply(large_enough, axis=1, meta=('bool'))]\n",
    "get_image_data_urls = df_get_image_data_df.script_url.unique().compute()\n",
    "get_image_data_urls[0:5]"
   ]
  },
  {
   "cell_type": "code",
   "execution_count": 5,
   "metadata": {},
   "outputs": [
    {
     "name": "stdout",
     "output_type": "stream",
     "text": [
      "n to_data_urls 26481\n",
      "n get_image_data_urls 559\n",
      "n candidate urls 27009\n"
     ]
    }
   ],
   "source": [
    "print('n to_data_urls', len(to_data_urls))\n",
    "print('n get_image_data_urls', len(get_image_data_urls))\n",
    "candidate_urls = to_data_urls.append(get_image_data_urls).unique()\n",
    "print('n candidate urls', len(candidate_urls))"
   ]
  },
  {
   "cell_type": "code",
   "execution_count": 6,
   "metadata": {},
   "outputs": [],
   "source": [
    "all_candidate_urls = candidate_urls.copy()"
   ]
  },
  {
   "cell_type": "markdown",
   "metadata": {},
   "source": [
    "# Start removing\n",
    "\n",
    "## 1. Remove manually filtered"
   ]
  },
  {
   "cell_type": "code",
   "execution_count": 7,
   "metadata": {},
   "outputs": [],
   "source": [
    "false_positive_script_urls = {\n",
    "    'http://www.fivola.com/',\n",
    "    'http://cdn02.centraledachats.be/dist/js/holder.js',\n",
    "    'http://ccmedia.fr/accueil.php',\n",
    "    'http://rozup.ir/up/moisrex/themes/space_theme/script.js'\n",
    "}"
   ]
  },
  {
   "cell_type": "code",
   "execution_count": 8,
   "metadata": {},
   "outputs": [
    {
     "name": "stdout",
     "output_type": "stream",
     "text": [
      "n candidate urls 27009\n"
     ]
    }
   ],
   "source": [
    "candidate_urls = [url for url in candidate_urls if url not in false_positive_script_urls]\n",
    "print('n candidate urls', len(candidate_urls))"
   ]
  },
  {
   "cell_type": "code",
   "execution_count": 9,
   "metadata": {},
   "outputs": [
    {
     "name": "stdout",
     "output_type": "stream",
     "text": [
      "0\n"
     ]
    }
   ],
   "source": [
    "print(len(set(all_candidate_urls) - set(candidate_urls)))\n",
    "disgarded_urls = [url for url in all_candidate_urls if url not in candidate_urls]\n",
    "with open('not_canvas_fingerprinting_1.json', 'w') as f:\n",
    "    f.write(json.dumps(disgarded_urls)) "
   ]
  },
  {
   "cell_type": "markdown",
   "metadata": {},
   "source": [
    "## 2. Remove save, restore, addEventListener"
   ]
  },
  {
   "cell_type": "code",
   "execution_count": 10,
   "metadata": {
    "scrolled": true
   },
   "outputs": [
    {
     "data": {
      "text/plain": [
       "array(['https://tpc.googlesyndication.com/sadbundle/$csp%3Der3%26dns%3Doff$/4134920871885725337/createjs-2015.11.26.min.js',\n",
       "       'http://pics3.city-data.com/js/maps/CANVAS/boxMap.js',\n",
       "       'https://code.createjs.com/createjs-2015.11.26.min.js',\n",
       "       'http://media.ufc.tv/ufc_system_assets/ufc_201707101050/js/cufon-yui.js',\n",
       "       'https://sale.yhd.com/act/J3oKuL4Izcsvpn.html'], dtype=object)"
      ]
     },
     "execution_count": 10,
     "metadata": {},
     "output_type": "execute_result"
    }
   ],
   "source": [
    "df_valid_calls_df = dd.read_parquet(DATA_FILE, columns=['script_url', 'symbol'])\n",
    "df_valid_calls_df = df_valid_calls_df[df_valid_calls_df.symbol.isin(\n",
    "    ['CanvasRenderingContext2D.save', 'CanvasRenderingContext2D.restore', 'HTMLCanvasElement.addEventListener']\n",
    ")]\n",
    "valid_calls_urls = df_valid_calls_df.script_url.unique().values.compute()\n",
    "valid_calls_urls[0:5]"
   ]
  },
  {
   "cell_type": "code",
   "execution_count": 11,
   "metadata": {},
   "outputs": [
    {
     "name": "stdout",
     "output_type": "stream",
     "text": [
      "n candidate urls 26877\n"
     ]
    }
   ],
   "source": [
    "candidate_urls = [url for url in candidate_urls if url not in valid_calls_urls]\n",
    "print('n candidate urls', len(candidate_urls))"
   ]
  },
  {
   "cell_type": "code",
   "execution_count": 12,
   "metadata": {},
   "outputs": [
    {
     "data": {
      "text/plain": [
       "132"
      ]
     },
     "execution_count": 12,
     "metadata": {},
     "output_type": "execute_result"
    }
   ],
   "source": [
    "len(set(all_candidate_urls) - set(candidate_urls))"
   ]
  },
  {
   "cell_type": "code",
   "execution_count": 13,
   "metadata": {},
   "outputs": [
    {
     "name": "stdout",
     "output_type": "stream",
     "text": [
      "132\n"
     ]
    }
   ],
   "source": [
    "print(len(set(all_candidate_urls) - set(candidate_urls)))\n",
    "disgarded_urls = [url for url in all_candidate_urls if url not in candidate_urls]\n",
    "with open('not_canvas_fingerprinting_2.json', 'w') as f:\n",
    "    f.write(json.dumps(disgarded_urls)) "
   ]
  },
  {
   "cell_type": "markdown",
   "metadata": {},
   "source": [
    "## 3. Must have written 10 or more characters"
   ]
  },
  {
   "cell_type": "code",
   "execution_count": 14,
   "metadata": {},
   "outputs": [],
   "source": [
    "## Code sourced from: github.com/sensor-js/OpenWPM-mobile/blob/mobile_sensors/feature_extraction/extract_features.py\n",
    "\n",
    "def text_length(arg_0):\n",
    "    return len(arg_0.encode('ascii', 'ignore'))"
   ]
  },
  {
   "cell_type": "code",
   "execution_count": 15,
   "metadata": {
    "scrolled": true
   },
   "outputs": [
    {
     "data": {
      "text/html": [
       "<div>\n",
       "<style scoped>\n",
       "    .dataframe tbody tr th:only-of-type {\n",
       "        vertical-align: middle;\n",
       "    }\n",
       "\n",
       "    .dataframe tbody tr th {\n",
       "        vertical-align: top;\n",
       "    }\n",
       "\n",
       "    .dataframe thead th {\n",
       "        text-align: right;\n",
       "    }\n",
       "</style>\n",
       "<table border=\"1\" class=\"dataframe\">\n",
       "  <thead>\n",
       "    <tr style=\"text-align: right;\">\n",
       "      <th></th>\n",
       "      <th>script_url</th>\n",
       "      <th>symbol</th>\n",
       "      <th>argument_0</th>\n",
       "      <th>len_arg</th>\n",
       "    </tr>\n",
       "  </thead>\n",
       "  <tbody>\n",
       "    <tr>\n",
       "      <th>944</th>\n",
       "      <td>http://www.qvc.com/akam/10/2b30e194</td>\n",
       "      <td>CanvasRenderingContext2D.fillText</td>\n",
       "      <td>Soft Ruddy Foothold 2</td>\n",
       "      <td>21</td>\n",
       "    </tr>\n",
       "    <tr>\n",
       "      <th>951</th>\n",
       "      <td>http://www.qvc.com/akam/10/2b30e194</td>\n",
       "      <td>CanvasRenderingContext2D.fillText</td>\n",
       "      <td>!H71JCaj)]# 1@#</td>\n",
       "      <td>15</td>\n",
       "    </tr>\n",
       "    <tr>\n",
       "      <th>1007</th>\n",
       "      <td>http://www.qvc.com/_bm/async.js</td>\n",
       "      <td>CanvasRenderingContext2D.fillText</td>\n",
       "      <td>&lt;@nv45. F1n63r,Pr1n71n6!</td>\n",
       "      <td>24</td>\n",
       "    </tr>\n",
       "    <tr>\n",
       "      <th>2824</th>\n",
       "      <td>http://www.coupang.com/akam/10/4f2b47</td>\n",
       "      <td>CanvasRenderingContext2D.fillText</td>\n",
       "      <td>Soft Ruddy Foothold 2</td>\n",
       "      <td>21</td>\n",
       "    </tr>\n",
       "    <tr>\n",
       "      <th>2831</th>\n",
       "      <td>http://www.coupang.com/akam/10/4f2b47</td>\n",
       "      <td>CanvasRenderingContext2D.fillText</td>\n",
       "      <td>!H71JCaj)]# 1@#</td>\n",
       "      <td>15</td>\n",
       "    </tr>\n",
       "  </tbody>\n",
       "</table>\n",
       "</div>"
      ],
      "text/plain": [
       "                                 script_url  \\\n",
       "944     http://www.qvc.com/akam/10/2b30e194   \n",
       "951     http://www.qvc.com/akam/10/2b30e194   \n",
       "1007        http://www.qvc.com/_bm/async.js   \n",
       "2824  http://www.coupang.com/akam/10/4f2b47   \n",
       "2831  http://www.coupang.com/akam/10/4f2b47   \n",
       "\n",
       "                                 symbol                argument_0  len_arg  \n",
       "944   CanvasRenderingContext2D.fillText     Soft Ruddy Foothold 2       21  \n",
       "951   CanvasRenderingContext2D.fillText           !H71JCaj)]# 1@#       15  \n",
       "1007  CanvasRenderingContext2D.fillText  <@nv45. F1n63r,Pr1n71n6!       24  \n",
       "2824  CanvasRenderingContext2D.fillText     Soft Ruddy Foothold 2       21  \n",
       "2831  CanvasRenderingContext2D.fillText           !H71JCaj)]# 1@#       15  "
      ]
     },
     "execution_count": 15,
     "metadata": {},
     "output_type": "execute_result"
    }
   ],
   "source": [
    "df_write = dd.read_parquet(DATA_FILE, columns=['script_url', 'symbol', 'argument_0'])\n",
    "df_write = df_write[df_write.script_url.isin(candidate_urls)]\n",
    "df_write = df_write[df_write.symbol.isin(['CanvasRenderingContext2D.fillText', 'CanvasRenderingContext2D.strokeText'])]\n",
    "df_write['len_arg'] = df_write.argument_0.apply(text_length, meta=('int'))\n",
    "df_write = df_write[df_write.len_arg >= 10]\n",
    "df_write = df_write.compute()\n",
    "df_write.head()"
   ]
  },
  {
   "cell_type": "code",
   "execution_count": 16,
   "metadata": {
    "scrolled": true
   },
   "outputs": [
    {
     "name": "stdout",
     "output_type": "stream",
     "text": [
      "n \"3 too long writes\" urls 8514\n"
     ]
    }
   ],
   "source": [
    "too_many_write_urls = df_write.script_url.unique()\n",
    "print('n \"3 too long writes\" urls', len(too_many_write_urls))"
   ]
  },
  {
   "cell_type": "markdown",
   "metadata": {},
   "source": [
    "## Apply 3"
   ]
  },
  {
   "cell_type": "code",
   "execution_count": 17,
   "metadata": {},
   "outputs": [],
   "source": [
    "text_filter = set(too_many_write_urls)\n",
    "candidate_urls = list(text_filter)"
   ]
  },
  {
   "cell_type": "code",
   "execution_count": 18,
   "metadata": {
    "scrolled": true
   },
   "outputs": [
    {
     "name": "stdout",
     "output_type": "stream",
     "text": [
      "18495\n"
     ]
    }
   ],
   "source": [
    "print(len(set(all_candidate_urls) - set(candidate_urls)))\n",
    "disgarded_urls = [url for url in all_candidate_urls if url not in candidate_urls]\n",
    "with open('not_canvas_fingerprinting_3.json', 'w') as f:\n",
    "    f.write(json.dumps(disgarded_urls)) "
   ]
  },
  {
   "cell_type": "code",
   "execution_count": 19,
   "metadata": {},
   "outputs": [],
   "source": [
    "with open('canvas_fingerprinting.json', 'w') as f:\n",
    "    f.write(json.dumps(candidate_urls))"
   ]
  },
  {
   "cell_type": "code",
   "execution_count": 20,
   "metadata": {},
   "outputs": [],
   "source": [
    "with open('not_canvas_fingerprinting.json', 'w') as f:\n",
    "    f.write(json.dumps(disgarded_urls))"
   ]
  },
  {
   "cell_type": "markdown",
   "metadata": {},
   "source": [
    "## Find Locations"
   ]
  },
  {
   "cell_type": "code",
   "execution_count": 32,
   "metadata": {},
   "outputs": [
    {
     "name": "stdout",
     "output_type": "stream",
     "text": [
      "8514 == 8514\n"
     ]
    }
   ],
   "source": [
    "with open('canvas_fingerprinting.json', 'r') as f:\n",
    "    canvas_fp_urls = json.load(f)\n",
    "    \n",
    "print(len(canvas_fp_urls), '== 8514')"
   ]
  },
  {
   "cell_type": "code",
   "execution_count": 7,
   "metadata": {},
   "outputs": [],
   "source": [
    "df = dd.read_parquet(DATA_FILE, columns=['script_url', 'location'])"
   ]
  },
  {
   "cell_type": "code",
   "execution_count": 34,
   "metadata": {},
   "outputs": [
    {
     "name": "stdout",
     "output_type": "stream",
     "text": [
      "[########################################] | 100% Completed |  3min  0.8s\r"
     ]
    }
   ],
   "source": [
    "df_locs = df[df.script_url.isin(canvas_fp_urls)]\n",
    "locs = df_locs.location.unique().persist()\n",
    "progress(locs, notebook=False)"
   ]
  },
  {
   "cell_type": "code",
   "execution_count": 35,
   "metadata": {},
   "outputs": [
    {
     "name": "stdout",
     "output_type": "stream",
     "text": [
      "# of locations that call canvas fingerprinting scripts: 38419\n"
     ]
    }
   ],
   "source": [
    "print('# of locations that call canvas fingerprinting scripts:', len(locs))"
   ]
  },
  {
   "cell_type": "code",
   "execution_count": null,
   "metadata": {},
   "outputs": [],
   "source": []
  }
 ],
 "metadata": {
  "kernelspec": {
   "display_name": "overscripted",
   "language": "python",
   "name": "overscripted"
  },
  "language_info": {
   "codemirror_mode": {
    "name": "ipython",
    "version": 3
   },
   "file_extension": ".py",
   "mimetype": "text/x-python",
   "name": "python",
   "nbconvert_exporter": "python",
   "pygments_lexer": "ipython3",
   "version": "3.5.6"
  }
 },
 "nbformat": 4,
 "nbformat_minor": 2
}
