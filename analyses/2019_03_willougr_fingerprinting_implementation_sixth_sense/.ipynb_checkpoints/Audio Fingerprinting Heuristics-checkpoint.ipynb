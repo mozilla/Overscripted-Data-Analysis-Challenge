{
 "cells": [
  {
   "cell_type": "code",
   "execution_count": 1,
   "metadata": {
    "scrolled": false
   },
   "outputs": [
    {
     "data": {
      "text/html": [
       "<table style=\"border: 2px solid white;\">\n",
       "<tr>\n",
       "<td style=\"vertical-align: top; border: 0px solid white\">\n",
       "<h3>Client</h3>\n",
       "<ul>\n",
       "  <li><b>Scheduler: </b>tcp://127.0.0.1:56640\n",
       "  <li><b>Dashboard: </b><a href='http://127.0.0.1:8787/status' target='_blank'>http://127.0.0.1:8787/status</a>\n",
       "</ul>\n",
       "</td>\n",
       "<td style=\"vertical-align: top; border: 0px solid white\">\n",
       "<h3>Cluster</h3>\n",
       "<ul>\n",
       "  <li><b>Workers: </b>4</li>\n",
       "  <li><b>Cores: </b>4</li>\n",
       "  <li><b>Memory: </b>12.00 GB</li>\n",
       "</ul>\n",
       "</td>\n",
       "</tr>\n",
       "</table>"
      ],
      "text/plain": [
       "<Client: scheduler='tcp://127.0.0.1:56640' processes=4 cores=4>"
      ]
     },
     "execution_count": 1,
     "metadata": {},
     "output_type": "execute_result"
    }
   ],
   "source": [
    "import dask.dataframe as dd\n",
    "import json\n",
    "\n",
    "from dask.distributed import Client, progress\n",
    "\n",
    "DATA_DIR = 'YOUR DATA DIRECTORY HERE'\n",
    "DATA_DIR_FULL = DATA_DIR + \"PATH TO PARQUET FILES\"\n",
    "Client()"
   ]
  },
  {
   "cell_type": "markdown",
   "metadata": {},
   "source": [
    "## Setup"
   ]
  },
  {
   "cell_type": "code",
   "execution_count": 6,
   "metadata": {},
   "outputs": [],
   "source": [
    "df = dd.read_parquet(DATA_DIR_FULL, columns=['script_url', 'symbol'])"
   ]
  },
  {
   "cell_type": "markdown",
   "metadata": {},
   "source": [
    "## Build Candidate URLs for `OfflineAudioContext.createOscillator`"
   ]
  },
  {
   "cell_type": "code",
   "execution_count": 7,
   "metadata": {},
   "outputs": [
    {
     "name": "stdout",
     "output_type": "stream",
     "text": [
      "[########################################] | 100% Completed | 51.8s\r"
     ]
    }
   ],
   "source": [
    "create_oscillator_df = df[df.symbol == 'OfflineAudioContext.createOscillator']\n",
    "create_oscillator_urls = create_oscillator_df.script_url.unique().persist()\n",
    "progress(create_oscillator_urls, notebook=False)"
   ]
  },
  {
   "cell_type": "code",
   "execution_count": 8,
   "metadata": {},
   "outputs": [
    {
     "data": {
      "text/plain": [
       "0      https://www.alaskaair.com/px/client/main.min.js\n",
       "1    https://client.perimeterx.net/PXQ76Auu14/main....\n",
       "2    https://client.perimeterx.net/PXM636Svr4/main....\n",
       "3    http://client.perimeterx.net/PX0F3091f3/main.m...\n",
       "4             https://media1.admicro.vn/core/fipmin.js\n",
       "Name: script_url, dtype: object"
      ]
     },
     "execution_count": 8,
     "metadata": {},
     "output_type": "execute_result"
    }
   ],
   "source": [
    "create_oscillator_urls = create_oscillator_urls.compute()\n",
    "create_oscillator_urls[0:5]"
   ]
  },
  {
   "cell_type": "markdown",
   "metadata": {},
   "source": [
    "## Build Candidate URLs for `OfflineAudioContext.createDynamicsCompressor`"
   ]
  },
  {
   "cell_type": "code",
   "execution_count": 9,
   "metadata": {},
   "outputs": [
    {
     "name": "stdout",
     "output_type": "stream",
     "text": [
      "[########################################] | 100% Completed | 47.3s\r"
     ]
    }
   ],
   "source": [
    "create_dynamics_df = df[df.symbol == 'OfflineAudioContext.createDynamicsCompressor']\n",
    "create_dynamics_urls = create_dynamics_df.script_url.unique().persist()\n",
    "progress(create_dynamics_urls, notebook=False)"
   ]
  },
  {
   "cell_type": "code",
   "execution_count": 10,
   "metadata": {},
   "outputs": [
    {
     "data": {
      "text/plain": [
       "0      https://www.alaskaair.com/px/client/main.min.js\n",
       "1    https://client.perimeterx.net/PXQ76Auu14/main....\n",
       "2    https://client.perimeterx.net/PXM636Svr4/main....\n",
       "3    http://client.perimeterx.net/PX0F3091f3/main.m...\n",
       "4             https://media1.admicro.vn/core/fipmin.js\n",
       "Name: script_url, dtype: object"
      ]
     },
     "execution_count": 10,
     "metadata": {},
     "output_type": "execute_result"
    }
   ],
   "source": [
    "create_dynamics_urls = create_dynamics_urls.compute()\n",
    "create_dynamics_urls[0:5]"
   ]
  },
  {
   "cell_type": "markdown",
   "metadata": {},
   "source": [
    "## Build Candidate URLs for `OfflineAudioContext.destination`"
   ]
  },
  {
   "cell_type": "code",
   "execution_count": 11,
   "metadata": {},
   "outputs": [
    {
     "name": "stdout",
     "output_type": "stream",
     "text": [
      "[########################################] | 100% Completed | 39.6s\r"
     ]
    }
   ],
   "source": [
    "destination_df = df[df.symbol == 'OfflineAudioContext.destination']\n",
    "destination_urls = destination_df.script_url.unique().persist()\n",
    "progress(destination_urls, notebook=False)"
   ]
  },
  {
   "cell_type": "code",
   "execution_count": 12,
   "metadata": {},
   "outputs": [
    {
     "data": {
      "text/plain": [
       "0      https://www.alaskaair.com/px/client/main.min.js\n",
       "1    https://client.perimeterx.net/PXQ76Auu14/main....\n",
       "2    https://client.perimeterx.net/PXM636Svr4/main....\n",
       "3    http://client.perimeterx.net/PX0F3091f3/main.m...\n",
       "4             https://media1.admicro.vn/core/fipmin.js\n",
       "Name: script_url, dtype: object"
      ]
     },
     "execution_count": 12,
     "metadata": {},
     "output_type": "execute_result"
    }
   ],
   "source": [
    "destination_urls = destination_urls.compute()\n",
    "destination_urls[0:5]"
   ]
  },
  {
   "cell_type": "markdown",
   "metadata": {},
   "source": [
    "## Build Candidate URLs for `OfflineAudioContext.startRendering`"
   ]
  },
  {
   "cell_type": "code",
   "execution_count": 13,
   "metadata": {},
   "outputs": [
    {
     "name": "stdout",
     "output_type": "stream",
     "text": [
      "[########################################] | 100% Completed | 40.3s\r"
     ]
    }
   ],
   "source": [
    "start_rendering_df = df[df.symbol == 'OfflineAudioContext.startRendering']\n",
    "start_rendering_urls = start_rendering_df.script_url.unique().persist()\n",
    "progress(start_rendering_urls, notebook=False)"
   ]
  },
  {
   "cell_type": "code",
   "execution_count": 14,
   "metadata": {},
   "outputs": [
    {
     "data": {
      "text/plain": [
       "0      https://www.alaskaair.com/px/client/main.min.js\n",
       "1    https://client.perimeterx.net/PXQ76Auu14/main....\n",
       "2    https://client.perimeterx.net/PXM636Svr4/main....\n",
       "3    http://client.perimeterx.net/PX0F3091f3/main.m...\n",
       "4             https://media1.admicro.vn/core/fipmin.js\n",
       "Name: script_url, dtype: object"
      ]
     },
     "execution_count": 14,
     "metadata": {},
     "output_type": "execute_result"
    }
   ],
   "source": [
    "start_rendering_urls = start_rendering_urls.compute()\n",
    "start_rendering_urls[0:5]"
   ]
  },
  {
   "cell_type": "markdown",
   "metadata": {},
   "source": [
    "## Build Candidate URLs for `OfflineAudioContext.oncomplete`"
   ]
  },
  {
   "cell_type": "code",
   "execution_count": 15,
   "metadata": {},
   "outputs": [
    {
     "name": "stdout",
     "output_type": "stream",
     "text": [
      "[########################################] | 100% Completed | 44.8s\r"
     ]
    }
   ],
   "source": [
    "on_complete_df = df[df.symbol == 'OfflineAudioContext.createOscillator']\n",
    "on_complete_urls = on_complete_df.script_url.unique().persist()\n",
    "progress(on_complete_urls, notebook=False)"
   ]
  },
  {
   "cell_type": "code",
   "execution_count": 16,
   "metadata": {},
   "outputs": [
    {
     "data": {
      "text/plain": [
       "0      https://www.alaskaair.com/px/client/main.min.js\n",
       "1    https://client.perimeterx.net/PXQ76Auu14/main....\n",
       "2    https://client.perimeterx.net/PXM636Svr4/main....\n",
       "3    http://client.perimeterx.net/PX0F3091f3/main.m...\n",
       "4             https://media1.admicro.vn/core/fipmin.js\n",
       "Name: script_url, dtype: object"
      ]
     },
     "execution_count": 16,
     "metadata": {},
     "output_type": "execute_result"
    }
   ],
   "source": [
    "on_complete_urls = on_complete_urls.compute()\n",
    "on_complete_urls[0:5]"
   ]
  },
  {
   "cell_type": "markdown",
   "metadata": {},
   "source": [
    "## Scripts must call all 5 functions: [\"OfflineAudioContext.createOscillator\", \"OfflineAudioContext.createDynamicsCompressor\", \"OfflineAudioContext.destination\", \"OfflineAudioContext.startRendering\", \"OfflineAudioContext.oncomplete\"]"
   ]
  },
  {
   "cell_type": "code",
   "execution_count": 17,
   "metadata": {},
   "outputs": [
    {
     "name": "stdout",
     "output_type": "stream",
     "text": [
      "# of script_urls using audio fingerprinting: 170\n"
     ]
    }
   ],
   "source": [
    "audio_fp_urls = set(create_oscillator_urls) & \\\n",
    "    set(create_dynamics_urls) & \\\n",
    "    set(destination_urls) & \\\n",
    "    set(start_rendering_urls) & \\\n",
    "    set(on_complete_urls)\n",
    "print('# of script_urls using audio fingerprinting:', len(audio_fp_urls))"
   ]
  },
  {
   "cell_type": "code",
   "execution_count": 18,
   "metadata": {},
   "outputs": [
    {
     "name": "stdout",
     "output_type": "stream",
     "text": [
      "# of script_urls that did not call all 5 symbols: 0\n"
     ]
    }
   ],
   "source": [
    "all_candidate_urls = set(create_oscillator_urls) | \\\n",
    "    set(create_dynamics_urls) | \\\n",
    "    set(destination_urls) | \\\n",
    "    set(start_rendering_urls) | \\\n",
    "    set(on_complete_urls)\n",
    "not_audio_fp_urls = all_candidate_urls - audio_fp_urls\n",
    "print('# of script_urls that did not call all 5 symbols:', len(not_audio_fp_urls))"
   ]
  },
  {
   "cell_type": "markdown",
   "metadata": {},
   "source": [
    "## Save URLs"
   ]
  },
  {
   "cell_type": "code",
   "execution_count": 19,
   "metadata": {},
   "outputs": [],
   "source": [
    "with open('audio_fingerprinting.json', 'w') as f:\n",
    "    f.write(json.dumps(list(audio_fp_urls)))"
   ]
  },
  {
   "cell_type": "code",
   "execution_count": 20,
   "metadata": {},
   "outputs": [],
   "source": [
    "with open('not_audio_fingerprinting.json', 'w') as f:\n",
    "    f.write(json.dumps(list(not_audio_fp_urls)))"
   ]
  },
  {
   "cell_type": "markdown",
   "metadata": {},
   "source": [
    "## Find Locations"
   ]
  },
  {
   "cell_type": "code",
   "execution_count": 2,
   "metadata": {},
   "outputs": [],
   "source": [
    "with open('audio_fingerprinting.json', 'r') as f:\n",
    "    audio_fp_urls = json.load(f)"
   ]
  },
  {
   "cell_type": "code",
   "execution_count": 4,
   "metadata": {},
   "outputs": [],
   "source": [
    "df = dd.read_parquet(DATA_DIR_FULL, columns=['script_url', 'location'])"
   ]
  },
  {
   "cell_type": "code",
   "execution_count": 6,
   "metadata": {},
   "outputs": [
    {
     "name": "stdout",
     "output_type": "stream",
     "text": [
      "[########################################] | 100% Completed | 44.7s\r"
     ]
    }
   ],
   "source": [
    "df_locs = df[df.script_url.isin(audio_fp_urls)]\n",
    "locs = df_locs.location.unique().persist()\n",
    "progress(locs, notebook=False)"
   ]
  },
  {
   "cell_type": "code",
   "execution_count": 8,
   "metadata": {},
   "outputs": [
    {
     "name": "stdout",
     "output_type": "stream",
     "text": [
      "# of locations that call audio fingerprinting scripts: 2006\n"
     ]
    }
   ],
   "source": [
    "print('# of locations that call audio fingerprinting scripts:', len(locs))"
   ]
  },
  {
   "cell_type": "code",
   "execution_count": null,
   "metadata": {},
   "outputs": [],
   "source": []
  }
 ],
 "metadata": {
  "kernelspec": {
   "display_name": "overscripted",
   "language": "python",
   "name": "overscripted"
  },
  "language_info": {
   "codemirror_mode": {
    "name": "ipython",
    "version": 3
   },
   "file_extension": ".py",
   "mimetype": "text/x-python",
   "name": "python",
   "nbconvert_exporter": "python",
   "pygments_lexer": "ipython3",
   "version": "3.5.6"
  }
 },
 "nbformat": 4,
 "nbformat_minor": 2
}
