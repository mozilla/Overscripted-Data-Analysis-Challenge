{
 "cells": [
  {
   "cell_type": "code",
   "execution_count": 1,
   "metadata": {},
   "outputs": [
    {
     "data": {
      "text/html": [
       "<table style=\"border: 2px solid white;\">\n",
       "<tr>\n",
       "<td style=\"vertical-align: top; border: 0px solid white\">\n",
       "<h3>Client</h3>\n",
       "<ul>\n",
       "  <li><b>Scheduler: </b>tcp://127.0.0.1:60869\n",
       "  <li><b>Dashboard: </b><a href='http://127.0.0.1:8787/status' target='_blank'>http://127.0.0.1:8787/status</a>\n",
       "</ul>\n",
       "</td>\n",
       "<td style=\"vertical-align: top; border: 0px solid white\">\n",
       "<h3>Cluster</h3>\n",
       "<ul>\n",
       "  <li><b>Workers: </b>4</li>\n",
       "  <li><b>Cores: </b>4</li>\n",
       "  <li><b>Memory: </b>12.00 GB</li>\n",
       "</ul>\n",
       "</td>\n",
       "</tr>\n",
       "</table>"
      ],
      "text/plain": [
       "<Client: scheduler='tcp://127.0.0.1:60869' processes=4 cores=4>"
      ]
     },
     "execution_count": 1,
     "metadata": {},
     "output_type": "execute_result"
    }
   ],
   "source": [
    "import dask.dataframe as dd\n",
    "import re\n",
    "import json\n",
    "\n",
    "from dask.distributed import Client, progress\n",
    "from collections import defaultdict\n",
    "\n",
    "DATA_DIR = 'YOUR DATA DIRECTORY HERE'\n",
    "DATA_DIR_FULL = DATA_DIR + \"PATH TO PARQUET FILES\"\n",
    "Client()"
   ]
  },
  {
   "cell_type": "markdown",
   "metadata": {},
   "source": [
    "## Setup"
   ]
  },
  {
   "cell_type": "code",
   "execution_count": 2,
   "metadata": {
    "scrolled": true
   },
   "outputs": [
    {
     "data": {
      "text/html": [
       "<div>\n",
       "<style scoped>\n",
       "    .dataframe tbody tr th:only-of-type {\n",
       "        vertical-align: middle;\n",
       "    }\n",
       "\n",
       "    .dataframe tbody tr th {\n",
       "        vertical-align: top;\n",
       "    }\n",
       "\n",
       "    .dataframe thead th {\n",
       "        text-align: right;\n",
       "    }\n",
       "</style>\n",
       "<table border=\"1\" class=\"dataframe\">\n",
       "  <thead>\n",
       "    <tr style=\"text-align: right;\">\n",
       "      <th></th>\n",
       "      <th>script_url</th>\n",
       "      <th>symbol</th>\n",
       "      <th>value</th>\n",
       "      <th>location</th>\n",
       "      <th>argument_0</th>\n",
       "    </tr>\n",
       "  </thead>\n",
       "  <tbody>\n",
       "    <tr>\n",
       "      <th>0</th>\n",
       "      <td>https://mech.iitm.ac.in/meiitm/wp-includes/js/...</td>\n",
       "      <td>window.navigator.userAgent</td>\n",
       "      <td>Mozilla/5.0 (X11; Linux x86_64; rv:52.0) Gecko...</td>\n",
       "      <td>https://mech.iitm.ac.in/meiitm/</td>\n",
       "      <td></td>\n",
       "    </tr>\n",
       "    <tr>\n",
       "      <th>1</th>\n",
       "      <td>https://mech.iitm.ac.in/meiitm/wp-includes/js/...</td>\n",
       "      <td>window.navigator.userAgent</td>\n",
       "      <td>Mozilla/5.0 (X11; Linux x86_64; rv:52.0) Gecko...</td>\n",
       "      <td>https://mech.iitm.ac.in/meiitm/</td>\n",
       "      <td></td>\n",
       "    </tr>\n",
       "    <tr>\n",
       "      <th>2</th>\n",
       "      <td>https://mech.iitm.ac.in/meiitm/wp-admin/js/iri...</td>\n",
       "      <td>window.navigator.userAgent</td>\n",
       "      <td>Mozilla/5.0 (X11; Linux x86_64; rv:52.0) Gecko...</td>\n",
       "      <td>https://mech.iitm.ac.in/meiitm/</td>\n",
       "      <td></td>\n",
       "    </tr>\n",
       "    <tr>\n",
       "      <th>3</th>\n",
       "      <td>https://mech.iitm.ac.in/meiitm/wp-admin/js/iri...</td>\n",
       "      <td>window.navigator.appName</td>\n",
       "      <td>Netscape</td>\n",
       "      <td>https://mech.iitm.ac.in/meiitm/</td>\n",
       "      <td></td>\n",
       "    </tr>\n",
       "    <tr>\n",
       "      <th>4</th>\n",
       "      <td>https://mech.iitm.ac.in/meiitm/wp-includes/js/...</td>\n",
       "      <td>window.navigator.appVersion</td>\n",
       "      <td>5.0 (X11)</td>\n",
       "      <td>https://mech.iitm.ac.in/meiitm/</td>\n",
       "      <td></td>\n",
       "    </tr>\n",
       "  </tbody>\n",
       "</table>\n",
       "</div>"
      ],
      "text/plain": [
       "                                          script_url  \\\n",
       "0  https://mech.iitm.ac.in/meiitm/wp-includes/js/...   \n",
       "1  https://mech.iitm.ac.in/meiitm/wp-includes/js/...   \n",
       "2  https://mech.iitm.ac.in/meiitm/wp-admin/js/iri...   \n",
       "3  https://mech.iitm.ac.in/meiitm/wp-admin/js/iri...   \n",
       "4  https://mech.iitm.ac.in/meiitm/wp-includes/js/...   \n",
       "\n",
       "                        symbol  \\\n",
       "0   window.navigator.userAgent   \n",
       "1   window.navigator.userAgent   \n",
       "2   window.navigator.userAgent   \n",
       "3     window.navigator.appName   \n",
       "4  window.navigator.appVersion   \n",
       "\n",
       "                                               value  \\\n",
       "0  Mozilla/5.0 (X11; Linux x86_64; rv:52.0) Gecko...   \n",
       "1  Mozilla/5.0 (X11; Linux x86_64; rv:52.0) Gecko...   \n",
       "2  Mozilla/5.0 (X11; Linux x86_64; rv:52.0) Gecko...   \n",
       "3                                           Netscape   \n",
       "4                                          5.0 (X11)   \n",
       "\n",
       "                          location argument_0  \n",
       "0  https://mech.iitm.ac.in/meiitm/             \n",
       "1  https://mech.iitm.ac.in/meiitm/             \n",
       "2  https://mech.iitm.ac.in/meiitm/             \n",
       "3  https://mech.iitm.ac.in/meiitm/             \n",
       "4  https://mech.iitm.ac.in/meiitm/             "
      ]
     },
     "execution_count": 2,
     "metadata": {},
     "output_type": "execute_result"
    }
   ],
   "source": [
    "df = dd.read_parquet(DATA_DIR_FULL, columns=['script_url', 'symbol', 'value', 'location', 'argument_0'])\n",
    "df.head()"
   ]
  },
  {
   "cell_type": "markdown",
   "metadata": {},
   "source": [
    "## Candidate URLs for 'CanvasRenderingContext2D.font'"
   ]
  },
  {
   "cell_type": "code",
   "execution_count": 4,
   "metadata": {},
   "outputs": [
    {
     "name": "stdout",
     "output_type": "stream",
     "text": [
      "[########################################] | 100% Completed |  7min 27.5s\r"
     ]
    }
   ],
   "source": [
    "font_df_sixth_sense = df[df.symbol == 'CanvasRenderingContext2D.font']\n",
    "font_df_sixth_sense = font_df_sixth_sense[['value', 'script_url', 'location']]\n",
    "font_df_sixth_sense = font_df_sixth_sense.drop_duplicates().persist()\n",
    "progress(font_df_sixth_sense, notebook=False)"
   ]
  },
  {
   "cell_type": "code",
   "execution_count": 5,
   "metadata": {},
   "outputs": [
    {
     "data": {
      "text/html": [
       "<div>\n",
       "<style scoped>\n",
       "    .dataframe tbody tr th:only-of-type {\n",
       "        vertical-align: middle;\n",
       "    }\n",
       "\n",
       "    .dataframe tbody tr th {\n",
       "        vertical-align: top;\n",
       "    }\n",
       "\n",
       "    .dataframe thead th {\n",
       "        text-align: right;\n",
       "    }\n",
       "</style>\n",
       "<table border=\"1\" class=\"dataframe\">\n",
       "  <thead>\n",
       "    <tr style=\"text-align: right;\">\n",
       "      <th></th>\n",
       "      <th>value</th>\n",
       "      <th>script_url</th>\n",
       "      <th>location</th>\n",
       "    </tr>\n",
       "  </thead>\n",
       "  <tbody>\n",
       "    <tr>\n",
       "      <th>942</th>\n",
       "      <td>18pt Tahoma</td>\n",
       "      <td>http://www.qvc.com/akam/10/2b30e194</td>\n",
       "      <td>http://www.qvc.com/for-the-home/northern-night...</td>\n",
       "    </tr>\n",
       "    <tr>\n",
       "      <th>1006</th>\n",
       "      <td>16pt Arial</td>\n",
       "      <td>http://www.qvc.com/_bm/async.js</td>\n",
       "      <td>http://www.qvc.com/for-the-home/northern-night...</td>\n",
       "    </tr>\n",
       "    <tr>\n",
       "      <th>1015</th>\n",
       "      <td>6pt Arial</td>\n",
       "      <td>http://www.qvc.com/_bm/async.js</td>\n",
       "      <td>http://www.qvc.com/for-the-home/northern-night...</td>\n",
       "    </tr>\n",
       "    <tr>\n",
       "      <th>2822</th>\n",
       "      <td>18pt Tahoma</td>\n",
       "      <td>http://www.coupang.com/akam/10/4f2b47</td>\n",
       "      <td>http://www.coupang.com/np/categories/331811</td>\n",
       "    </tr>\n",
       "    <tr>\n",
       "      <th>3399</th>\n",
       "      <td>11pt Arial</td>\n",
       "      <td>https://www.coches.net/ztkieflaaxcvaiwh121837.js</td>\n",
       "      <td>https://www.coches.net/fiat/segunda-mano/</td>\n",
       "    </tr>\n",
       "  </tbody>\n",
       "</table>\n",
       "</div>"
      ],
      "text/plain": [
       "            value                                        script_url  \\\n",
       "942   18pt Tahoma               http://www.qvc.com/akam/10/2b30e194   \n",
       "1006   16pt Arial                   http://www.qvc.com/_bm/async.js   \n",
       "1015    6pt Arial                   http://www.qvc.com/_bm/async.js   \n",
       "2822  18pt Tahoma             http://www.coupang.com/akam/10/4f2b47   \n",
       "3399   11pt Arial  https://www.coches.net/ztkieflaaxcvaiwh121837.js   \n",
       "\n",
       "                                               location  \n",
       "942   http://www.qvc.com/for-the-home/northern-night...  \n",
       "1006  http://www.qvc.com/for-the-home/northern-night...  \n",
       "1015  http://www.qvc.com/for-the-home/northern-night...  \n",
       "2822        http://www.coupang.com/np/categories/331811  \n",
       "3399          https://www.coches.net/fiat/segunda-mano/  "
      ]
     },
     "execution_count": 5,
     "metadata": {},
     "output_type": "execute_result"
    }
   ],
   "source": [
    "font_df_sixth_sense = font_df_sixth_sense.compute()\n",
    "font_df_sixth_sense.head()"
   ]
  },
  {
   "cell_type": "code",
   "execution_count": 6,
   "metadata": {},
   "outputs": [
    {
     "name": "stdout",
     "output_type": "stream",
     "text": [
      "CPU times: user 44.7 s, sys: 654 ms, total: 45.4 s\n",
      "Wall time: 45.2 s\n"
     ]
    }
   ],
   "source": [
    "%%time\n",
    "\n",
    "num_fonts_sixth_sense = defaultdict(set)\n",
    "    \n",
    "for index, row in font_df_sixth_sense.iterrows():\n",
    "    num_fonts_sixth_sense[(row.script_url, row.location)].add(row.value)"
   ]
  },
  {
   "cell_type": "code",
   "execution_count": 7,
   "metadata": {},
   "outputs": [],
   "source": [
    "font_urls_not_enough_sixth_sense = [x for x, font_set in num_fonts_sixth_sense.items() if len(font_set) < 50]\n",
    "font_urls_candidates_sixth_sense = [x for x, font_set in num_fonts_sixth_sense.items() if len(font_set) >= 50]"
   ]
  },
  {
   "cell_type": "code",
   "execution_count": 8,
   "metadata": {},
   "outputs": [
    {
     "name": "stdout",
     "output_type": "stream",
     "text": [
      "# of unique tuples (script_url, location) with 50 or more calls: 2089\n",
      "# of unique tuples (script_url, location) with less than 50: 58664\n"
     ]
    }
   ],
   "source": [
    "print('# of unique tuples (script_url, location) with 50 or more calls:', len(font_urls_candidates_sixth_sense))\n",
    "print('# of unique tuples (script_url, location) with less than 50:', len(font_urls_not_enough_sixth_sense))"
   ]
  },
  {
   "cell_type": "code",
   "execution_count": 9,
   "metadata": {},
   "outputs": [],
   "source": [
    "with open('not_font_fingerprinting_1.json', 'w') as f:\n",
    "    f.write(json.dumps(list(set([script_url for script_url, location in font_urls_not_enough_sixth_sense]))))"
   ]
  },
  {
   "cell_type": "markdown",
   "metadata": {},
   "source": [
    "## Candidate URLs for 'CanvasRenderingContext2D.measureText'"
   ]
  },
  {
   "cell_type": "code",
   "execution_count": 10,
   "metadata": {},
   "outputs": [
    {
     "name": "stdout",
     "output_type": "stream",
     "text": [
      "[########################################] | 100% Completed |  7min  5.0s\r"
     ]
    }
   ],
   "source": [
    "measure_text_df_sixth_sense = df[df.symbol == 'CanvasRenderingContext2D.measureText']\n",
    "measure_text_df_sixth_sense = measure_text_df_sixth_sense[['argument_0', 'script_url', 'location']]\n",
    "measure_text_df_sixth_sense['to_count'] = 1\n",
    "measure_text_df_sixth_sense = measure_text_df_sixth_sense.groupby(['argument_0', 'script_url', 'location']).count().persist()\n",
    "progress(measure_text_df_sixth_sense, notebook=False)"
   ]
  },
  {
   "cell_type": "code",
   "execution_count": 11,
   "metadata": {},
   "outputs": [
    {
     "data": {
      "text/html": [
       "<div>\n",
       "<style scoped>\n",
       "    .dataframe tbody tr th:only-of-type {\n",
       "        vertical-align: middle;\n",
       "    }\n",
       "\n",
       "    .dataframe tbody tr th {\n",
       "        vertical-align: top;\n",
       "    }\n",
       "\n",
       "    .dataframe thead th {\n",
       "        text-align: right;\n",
       "    }\n",
       "</style>\n",
       "<table border=\"1\" class=\"dataframe\">\n",
       "  <thead>\n",
       "    <tr style=\"text-align: right;\">\n",
       "      <th></th>\n",
       "      <th></th>\n",
       "      <th>to_count</th>\n",
       "    </tr>\n",
       "    <tr>\n",
       "      <th>script_url</th>\n",
       "      <th>location</th>\n",
       "      <th></th>\n",
       "    </tr>\n",
       "  </thead>\n",
       "  <tbody>\n",
       "    <tr>\n",
       "      <th>https://m.stripe.network/inner.html#referrer=&amp;title=Create%20Your%20Account%20%7C%20GradeSaver&amp;url=https%3A%2F%2Fwww.gradesaver.com%2Fregister&amp;muid=75e6d553-5e3e-4e86-abe4-50be8d0921f3&amp;sid=6e407d7b-e80c-4706-9813-b5ca7ddc27ea&amp;preview=false&amp;</th>\n",
       "      <th>https://m.stripe.network/inner.html#referrer=&amp;title=Create%20Your%20Account%20%7C%20GradeSaver&amp;url=https%3A%2F%2Fwww.gradesaver.com%2Fregister&amp;muid=75e6d553-5e3e-4e86-abe4-50be8d0921f3&amp;sid=6e407d7b-e80c-4706-9813-b5ca7ddc27ea&amp;preview=false&amp;</th>\n",
       "      <td>58</td>\n",
       "    </tr>\n",
       "    <tr>\n",
       "      <th>https://tpc.googlesyndication.com/pagead/gadgets/~deexit/teracent_product_template_V1/Responsive_Logo_GpaSiriusSingleIframe.js</th>\n",
       "      <th>https://googleads.g.doubleclick.net/pagead/ads?client=ca-pub-3554925842071598&amp;output=html&amp;h=600&amp;slotname=1709000598&amp;adk=3121461673&amp;adf=3930172369&amp;w=120&amp;lmt=1513469673&amp;loeid=38893312&amp;format=120x600&amp;url=http%3A%2F%2Fwww.mwave.me%2Fen%2Fnews%2Fnews%2Fview%2F116040%2F%255BMEET-GREET-X-Monsta-X%255D-Speak-Your-Language-EVENT&amp;flash=28.0.0&amp;wgl=1&amp;adsid=NT&amp;dt=1513469667194&amp;bpp=10&amp;bdt=3422&amp;fdt=5711&amp;idt=5852&amp;shv=r20171206&amp;cbv=r20170110&amp;saldr=aa&amp;prev_fmts=728x90&amp;correlator=6202382215328&amp;frm=20&amp;ga_vid=1640720279.1513469667&amp;ga_sid=1513469670&amp;ga_hid=627195724&amp;ga_fc=0&amp;pv=1&amp;icsg=2&amp;nhd=1&amp;dssz=2&amp;mdo=0&amp;mso=0&amp;u_tz=0&amp;u_his=1&amp;u_java=0&amp;u_h=768&amp;u_w=1366&amp;u_ah=768&amp;u_aw=1366&amp;u_cd=24&amp;u_nplug=1&amp;u_nmime=2&amp;adx=1267&amp;ady=480&amp;biw=1353&amp;bih=697&amp;abxe=1&amp;eid=21061122%2C38893302%2C191880502&amp;oid=3&amp;nmo=1&amp;rx=0&amp;eae=0&amp;fc=528&amp;brdim=%2C%2C0%2C0%2C1366%2C0%2C1366%2C768%2C1366%2C697&amp;vis=1&amp;rsz=%7C%7CaeE%7C&amp;abl=CA&amp;ppjl=f&amp;pfx=0&amp;fu=16&amp;bc=1&amp;ifi=2&amp;xpc=EviF72vR4I&amp;p=http%3A//www.mwave.me&amp;dtd=5930</th>\n",
       "      <td>2</td>\n",
       "    </tr>\n",
       "    <tr>\n",
       "      <th>https://m.stripe.network/inner.html#url=https%3A%2F%2Fwww.premiumbeat.com%2Froyalty-free-music-mood%2Fuplifting&amp;title=Royalty%20Free%20Uplifting%20Music%20-%20PremiumBeat&amp;referrer=&amp;muid=53f351ea-5d26-4dd2-b1aa-387f0b3f3874&amp;sid=ef374ac3-46bf-44b1-a470-3d9941870b17&amp;preview=false</th>\n",
       "      <th>https://m.stripe.network/inner.html#url=https%3A%2F%2Fwww.premiumbeat.com%2Froyalty-free-music-mood%2Fuplifting&amp;title=Royalty%20Free%20Uplifting%20Music%20-%20PremiumBeat&amp;referrer=&amp;muid=53f351ea-5d26-4dd2-b1aa-387f0b3f3874&amp;sid=ef374ac3-46bf-44b1-a470-3d9941870b17&amp;preview=false</th>\n",
       "      <td>16</td>\n",
       "    </tr>\n",
       "    <tr>\n",
       "      <th rowspan=\"2\" valign=\"top\">https://s.flipboard.com/webapp/js/app-c5213e3f.js</th>\n",
       "      <th>https://flipboard.com/@libertaddigital</th>\n",
       "      <td>1</td>\n",
       "    </tr>\n",
       "    <tr>\n",
       "      <th>https://flipboard.com/@libertaddigital</th>\n",
       "      <td>1</td>\n",
       "    </tr>\n",
       "  </tbody>\n",
       "</table>\n",
       "</div>"
      ],
      "text/plain": [
       "                                                                                                       to_count\n",
       "script_url                                         location                                                    \n",
       "https://m.stripe.network/inner.html#referrer=&t... https://m.stripe.network/inner.html#referrer=&t...        58\n",
       "https://tpc.googlesyndication.com/pagead/gadget... https://googleads.g.doubleclick.net/pagead/ads?...         2\n",
       "https://m.stripe.network/inner.html#url=https%3... https://m.stripe.network/inner.html#url=https%3...        16\n",
       "https://s.flipboard.com/webapp/js/app-c5213e3f.js  https://flipboard.com/@libertaddigital                     1\n",
       "                                                   https://flipboard.com/@libertaddigital                     1"
      ]
     },
     "execution_count": 11,
     "metadata": {},
     "output_type": "execute_result"
    }
   ],
   "source": [
    "measure_text_df_sixth_sense = measure_text_df_sixth_sense.compute()\n",
    "measure_text_df_sixth_sense = measure_text_df_sixth_sense.reset_index('argument_0', drop=True)\n",
    "measure_text_df_sixth_sense.head()"
   ]
  },
  {
   "cell_type": "code",
   "execution_count": 12,
   "metadata": {},
   "outputs": [],
   "source": [
    "measure_text_not_enough_df_sixth_sense = measure_text_df_sixth_sense[measure_text_df_sixth_sense['to_count'] < 50]"
   ]
  },
  {
   "cell_type": "code",
   "execution_count": 13,
   "metadata": {},
   "outputs": [],
   "source": [
    "measure_text_df_sixth_sense = measure_text_df_sixth_sense[measure_text_df_sixth_sense['to_count'] >= 50]"
   ]
  },
  {
   "cell_type": "code",
   "execution_count": 14,
   "metadata": {},
   "outputs": [],
   "source": [
    "measure_text_urls_candidates_sixth_sense = set(measure_text_df_sixth_sense.index.tolist())\n",
    "measure_text_urls_not_enough_sixth_sense = set(measure_text_not_enough_df_sixth_sense.index.tolist())"
   ]
  },
  {
   "cell_type": "code",
   "execution_count": 15,
   "metadata": {},
   "outputs": [
    {
     "name": "stdout",
     "output_type": "stream",
     "text": [
      "# of unique tuples (script_url, location) with 50 or more calls: 2409\n",
      "# of unique tuples (script_url, location) with less than 50: 2661\n"
     ]
    }
   ],
   "source": [
    "print('# of unique tuples (script_url, location) with 50 or more calls:', len(measure_text_urls_candidates_sixth_sense))\n",
    "print('# of unique tuples (script_url, location) with less than 50:', len(measure_text_urls_not_enough_sixth_sense))"
   ]
  },
  {
   "cell_type": "code",
   "execution_count": 16,
   "metadata": {},
   "outputs": [],
   "source": [
    "with open('not_font_fingerprinting_2.json', 'w') as f:\n",
    "    f.write(json.dumps(list(set([script_url for script_url, location in measure_text_urls_not_enough_sixth_sense]))))"
   ]
  },
  {
   "cell_type": "markdown",
   "metadata": {},
   "source": [
    "## Cross reference lists"
   ]
  },
  {
   "cell_type": "code",
   "execution_count": 18,
   "metadata": {},
   "outputs": [
    {
     "name": "stdout",
     "output_type": "stream",
     "text": [
      "# of unique tuples (script_url, location) meeting both criteria: 1900\n",
      "# of unique tuples (script_url, location) that only meet one criteria: 698\n"
     ]
    }
   ],
   "source": [
    "font_urls_candidates_sixth_sense = set(font_urls_candidates_sixth_sense)\n",
    "\n",
    "all_candidate_urls_sixth_sense = font_urls_candidates_sixth_sense | measure_text_urls_candidates_sixth_sense\n",
    "canvas_font_fp_urls_sixth_sense = font_urls_candidates_sixth_sense & measure_text_urls_candidates_sixth_sense\n",
    "\n",
    "print('# of unique tuples (script_url, location) meeting both criteria:', len(canvas_font_fp_urls_sixth_sense))\n",
    "print('# of unique tuples (script_url, location) that only meet one criteria:', len(all_candidate_urls_sixth_sense - canvas_font_fp_urls_sixth_sense))"
   ]
  },
  {
   "cell_type": "code",
   "execution_count": 19,
   "metadata": {},
   "outputs": [],
   "source": [
    "with open('not_font_fingerprinting_3.json', 'w') as f:\n",
    "    f.write(json.dumps(list(set([script_url for script_url, location in (all_candidate_urls_sixth_sense - canvas_font_fp_urls_sixth_sense)]))))"
   ]
  },
  {
   "cell_type": "markdown",
   "metadata": {},
   "source": [
    "## Save Candidate URLs"
   ]
  },
  {
   "cell_type": "code",
   "execution_count": 20,
   "metadata": {},
   "outputs": [],
   "source": [
    "with open('font_fingerprinting.json', 'w') as f:\n",
    "    f.write(json.dumps(list(set([script_url for script_url, location in canvas_font_fp_urls_sixth_sense]))))"
   ]
  },
  {
   "cell_type": "markdown",
   "metadata": {},
   "source": [
    "## Find Locations"
   ]
  },
  {
   "cell_type": "code",
   "execution_count": 2,
   "metadata": {},
   "outputs": [
    {
     "name": "stdout",
     "output_type": "stream",
     "text": [
      "1387 == 1387\n"
     ]
    }
   ],
   "source": [
    "with open('font_fingerprinting.json', 'r') as f:\n",
    "    font_fp_urls = json.load(f)\n",
    "    \n",
    "print(len(font_fp_urls), '== 1387')"
   ]
  },
  {
   "cell_type": "code",
   "execution_count": 3,
   "metadata": {},
   "outputs": [],
   "source": [
    "df = dd.read_parquet(DATA_DIR_FULL, columns=['script_url', 'location'])"
   ]
  },
  {
   "cell_type": "code",
   "execution_count": 4,
   "metadata": {},
   "outputs": [
    {
     "name": "stdout",
     "output_type": "stream",
     "text": [
      "[########################################] | 100% Completed |  1min 14.3s\r"
     ]
    }
   ],
   "source": [
    "df_locs = df[df.script_url.isin(font_fp_urls)]\n",
    "locs = df_locs.location.unique().persist()\n",
    "progress(locs, notebook=False)"
   ]
  },
  {
   "cell_type": "code",
   "execution_count": 5,
   "metadata": {},
   "outputs": [
    {
     "name": "stdout",
     "output_type": "stream",
     "text": [
      "# of locations that call audio fingerprinting scripts: 2293\n"
     ]
    }
   ],
   "source": [
    "print('# of locations that call audio fingerprinting scripts:', len(locs))"
   ]
  },
  {
   "cell_type": "code",
   "execution_count": null,
   "metadata": {},
   "outputs": [],
   "source": []
  }
 ],
 "metadata": {
  "kernelspec": {
   "display_name": "overscripted",
   "language": "python",
   "name": "overscripted"
  },
  "language_info": {
   "codemirror_mode": {
    "name": "ipython",
    "version": 3
   },
   "file_extension": ".py",
   "mimetype": "text/x-python",
   "name": "python",
   "nbconvert_exporter": "python",
   "pygments_lexer": "ipython3",
   "version": "3.5.6"
  }
 },
 "nbformat": 4,
 "nbformat_minor": 2
}
