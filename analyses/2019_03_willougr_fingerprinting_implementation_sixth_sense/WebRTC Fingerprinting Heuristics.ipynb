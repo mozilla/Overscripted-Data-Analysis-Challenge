{
 "cells": [
  {
   "cell_type": "code",
   "execution_count": 1,
   "metadata": {},
   "outputs": [
    {
     "data": {
      "text/html": [
       "<table style=\"border: 2px solid white;\">\n",
       "<tr>\n",
       "<td style=\"vertical-align: top; border: 0px solid white\">\n",
       "<h3>Client</h3>\n",
       "<ul>\n",
       "  <li><b>Scheduler: </b>tcp://127.0.0.1:51889\n",
       "  <li><b>Dashboard: </b><a href='http://127.0.0.1:8787/status' target='_blank'>http://127.0.0.1:8787/status</a>\n",
       "</ul>\n",
       "</td>\n",
       "<td style=\"vertical-align: top; border: 0px solid white\">\n",
       "<h3>Cluster</h3>\n",
       "<ul>\n",
       "  <li><b>Workers: </b>4</li>\n",
       "  <li><b>Cores: </b>4</li>\n",
       "  <li><b>Memory: </b>8.59 GB</li>\n",
       "</ul>\n",
       "</td>\n",
       "</tr>\n",
       "</table>"
      ],
      "text/plain": [
       "<Client: scheduler='tcp://127.0.0.1:51889' processes=4 cores=4>"
      ]
     },
     "execution_count": 1,
     "metadata": {},
     "output_type": "execute_result"
    }
   ],
   "source": [
    "import dask.dataframe as dd\n",
    "import json\n",
    "\n",
    "from dask.distributed import Client, progress\n",
    "\n",
    "DATA_DIR = 'YOUR DATA DIRECTORY HERE'\n",
    "DATA_DIR_FULL = DATA_DIR + \"PATH TO PARQUET FILES\"\n",
    "Client()"
   ]
  },
  {
   "cell_type": "markdown",
   "metadata": {},
   "source": [
    "## Setup"
   ]
  },
  {
   "cell_type": "code",
   "execution_count": 4,
   "metadata": {},
   "outputs": [
    {
     "data": {
      "text/html": [
       "<div>\n",
       "<style scoped>\n",
       "    .dataframe tbody tr th:only-of-type {\n",
       "        vertical-align: middle;\n",
       "    }\n",
       "\n",
       "    .dataframe tbody tr th {\n",
       "        vertical-align: top;\n",
       "    }\n",
       "\n",
       "    .dataframe thead th {\n",
       "        text-align: right;\n",
       "    }\n",
       "</style>\n",
       "<table border=\"1\" class=\"dataframe\">\n",
       "  <thead>\n",
       "    <tr style=\"text-align: right;\">\n",
       "      <th></th>\n",
       "      <th>script_url</th>\n",
       "      <th>symbol</th>\n",
       "      <th>location</th>\n",
       "    </tr>\n",
       "  </thead>\n",
       "  <tbody>\n",
       "    <tr>\n",
       "      <th>0</th>\n",
       "      <td>https://mech.iitm.ac.in/meiitm/wp-includes/js/...</td>\n",
       "      <td>window.navigator.userAgent</td>\n",
       "      <td>https://mech.iitm.ac.in/meiitm/</td>\n",
       "    </tr>\n",
       "    <tr>\n",
       "      <th>1</th>\n",
       "      <td>https://mech.iitm.ac.in/meiitm/wp-includes/js/...</td>\n",
       "      <td>window.navigator.userAgent</td>\n",
       "      <td>https://mech.iitm.ac.in/meiitm/</td>\n",
       "    </tr>\n",
       "    <tr>\n",
       "      <th>2</th>\n",
       "      <td>https://mech.iitm.ac.in/meiitm/wp-admin/js/iri...</td>\n",
       "      <td>window.navigator.userAgent</td>\n",
       "      <td>https://mech.iitm.ac.in/meiitm/</td>\n",
       "    </tr>\n",
       "    <tr>\n",
       "      <th>3</th>\n",
       "      <td>https://mech.iitm.ac.in/meiitm/wp-admin/js/iri...</td>\n",
       "      <td>window.navigator.appName</td>\n",
       "      <td>https://mech.iitm.ac.in/meiitm/</td>\n",
       "    </tr>\n",
       "    <tr>\n",
       "      <th>4</th>\n",
       "      <td>https://mech.iitm.ac.in/meiitm/wp-includes/js/...</td>\n",
       "      <td>window.navigator.appVersion</td>\n",
       "      <td>https://mech.iitm.ac.in/meiitm/</td>\n",
       "    </tr>\n",
       "  </tbody>\n",
       "</table>\n",
       "</div>"
      ],
      "text/plain": [
       "                                          script_url  \\\n",
       "0  https://mech.iitm.ac.in/meiitm/wp-includes/js/...   \n",
       "1  https://mech.iitm.ac.in/meiitm/wp-includes/js/...   \n",
       "2  https://mech.iitm.ac.in/meiitm/wp-admin/js/iri...   \n",
       "3  https://mech.iitm.ac.in/meiitm/wp-admin/js/iri...   \n",
       "4  https://mech.iitm.ac.in/meiitm/wp-includes/js/...   \n",
       "\n",
       "                        symbol                         location  \n",
       "0   window.navigator.userAgent  https://mech.iitm.ac.in/meiitm/  \n",
       "1   window.navigator.userAgent  https://mech.iitm.ac.in/meiitm/  \n",
       "2   window.navigator.userAgent  https://mech.iitm.ac.in/meiitm/  \n",
       "3     window.navigator.appName  https://mech.iitm.ac.in/meiitm/  \n",
       "4  window.navigator.appVersion  https://mech.iitm.ac.in/meiitm/  "
      ]
     },
     "execution_count": 4,
     "metadata": {},
     "output_type": "execute_result"
    }
   ],
   "source": [
    "df = dd.read_parquet(DATA_DIR_FULL, columns=['script_url', 'symbol', 'location'])\n",
    "df = df[['script_url', 'symbol', 'location']]\n",
    "df.head()"
   ]
  },
  {
   "cell_type": "markdown",
   "metadata": {},
   "source": [
    "## Pull out Candidate URLs for RTCPeerConnection.onicecandidate"
   ]
  },
  {
   "cell_type": "code",
   "execution_count": 5,
   "metadata": {},
   "outputs": [
    {
     "name": "stdout",
     "output_type": "stream",
     "text": [
      "[########################################] | 100% Completed |  1min  0.8s\r"
     ]
    }
   ],
   "source": [
    "onicecandidate_candidate_urls_df = df[df.symbol == 'RTCPeerConnection.onicecandidate']\n",
    "onicecandidate_candidate_urls_df = onicecandidate_candidate_urls_df[['script_url', 'location']].drop_duplicates().persist()\n",
    "progress(onicecandidate_candidate_urls_df, notebook=False)"
   ]
  },
  {
   "cell_type": "code",
   "execution_count": 6,
   "metadata": {},
   "outputs": [
    {
     "data": {
      "text/html": [
       "<div>\n",
       "<style scoped>\n",
       "    .dataframe tbody tr th:only-of-type {\n",
       "        vertical-align: middle;\n",
       "    }\n",
       "\n",
       "    .dataframe tbody tr th {\n",
       "        vertical-align: top;\n",
       "    }\n",
       "\n",
       "    .dataframe thead th {\n",
       "        text-align: right;\n",
       "    }\n",
       "</style>\n",
       "<table border=\"1\" class=\"dataframe\">\n",
       "  <thead>\n",
       "    <tr style=\"text-align: right;\">\n",
       "      <th></th>\n",
       "      <th>script_url</th>\n",
       "      <th>location</th>\n",
       "    </tr>\n",
       "  </thead>\n",
       "  <tbody>\n",
       "    <tr>\n",
       "      <th>2722</th>\n",
       "      <td>https://g.alicdn.com/secdev/sufei_data/3.2.2/i...</td>\n",
       "      <td>https://maniform.world.tmall.com/category-1282...</td>\n",
       "    </tr>\n",
       "    <tr>\n",
       "      <th>4180</th>\n",
       "      <td>https://static.adsafeprotected.com/sca.17.4.20.js</td>\n",
       "      <td>https://politikus.ru/2017/11/05/</td>\n",
       "    </tr>\n",
       "    <tr>\n",
       "      <th>8071</th>\n",
       "      <td>https://static.adsafeprotected.com/sca.17.4.20.js</td>\n",
       "      <td>https://googleads.g.doubleclick.net/pagead/ads...</td>\n",
       "    </tr>\n",
       "    <tr>\n",
       "      <th>17736</th>\n",
       "      <td>https://g.alicdn.com/secdev/sufei_data/3.2.2/i...</td>\n",
       "      <td>https://list.tmall.com/search_product.htm?cat=...</td>\n",
       "    </tr>\n",
       "    <tr>\n",
       "      <th>23762</th>\n",
       "      <td>https://static.adsafeprotected.com/sca.17.4.20.js</td>\n",
       "      <td>https://googleads.g.doubleclick.net/pagead/ads...</td>\n",
       "    </tr>\n",
       "  </tbody>\n",
       "</table>\n",
       "</div>"
      ],
      "text/plain": [
       "                                              script_url  \\\n",
       "2722   https://g.alicdn.com/secdev/sufei_data/3.2.2/i...   \n",
       "4180   https://static.adsafeprotected.com/sca.17.4.20.js   \n",
       "8071   https://static.adsafeprotected.com/sca.17.4.20.js   \n",
       "17736  https://g.alicdn.com/secdev/sufei_data/3.2.2/i...   \n",
       "23762  https://static.adsafeprotected.com/sca.17.4.20.js   \n",
       "\n",
       "                                                location  \n",
       "2722   https://maniform.world.tmall.com/category-1282...  \n",
       "4180                    https://politikus.ru/2017/11/05/  \n",
       "8071   https://googleads.g.doubleclick.net/pagead/ads...  \n",
       "17736  https://list.tmall.com/search_product.htm?cat=...  \n",
       "23762  https://googleads.g.doubleclick.net/pagead/ads...  "
      ]
     },
     "execution_count": 6,
     "metadata": {},
     "output_type": "execute_result"
    }
   ],
   "source": [
    "onicecandidate_candidate_urls_df = onicecandidate_candidate_urls_df.compute()\n",
    "onicecandidate_candidate_urls_df.head()"
   ]
  },
  {
   "cell_type": "code",
   "execution_count": 7,
   "metadata": {},
   "outputs": [],
   "source": [
    "onicecandidate_candidate_urls = set(onicecandidate_candidate_urls_df.itertuples(index=False))"
   ]
  },
  {
   "cell_type": "markdown",
   "metadata": {},
   "source": [
    "## Pull out Candidate URLs for RTCPeerConnection.createDataChannel"
   ]
  },
  {
   "cell_type": "code",
   "execution_count": 8,
   "metadata": {},
   "outputs": [
    {
     "name": "stdout",
     "output_type": "stream",
     "text": [
      "[########################################] | 100% Completed | 48.5s\r"
     ]
    }
   ],
   "source": [
    "create_data_channel_candidate_urls_df = df[df.symbol == 'RTCPeerConnection.createDataChannel']\n",
    "create_data_channel_candidate_urls_df = create_data_channel_candidate_urls_df[['script_url', 'location']].drop_duplicates().persist()\n",
    "progress(create_data_channel_candidate_urls_df, notebook=False)"
   ]
  },
  {
   "cell_type": "code",
   "execution_count": 9,
   "metadata": {},
   "outputs": [
    {
     "data": {
      "text/html": [
       "<div>\n",
       "<style scoped>\n",
       "    .dataframe tbody tr th:only-of-type {\n",
       "        vertical-align: middle;\n",
       "    }\n",
       "\n",
       "    .dataframe tbody tr th {\n",
       "        vertical-align: top;\n",
       "    }\n",
       "\n",
       "    .dataframe thead th {\n",
       "        text-align: right;\n",
       "    }\n",
       "</style>\n",
       "<table border=\"1\" class=\"dataframe\">\n",
       "  <thead>\n",
       "    <tr style=\"text-align: right;\">\n",
       "      <th></th>\n",
       "      <th>script_url</th>\n",
       "      <th>location</th>\n",
       "    </tr>\n",
       "  </thead>\n",
       "  <tbody>\n",
       "    <tr>\n",
       "      <th>2723</th>\n",
       "      <td>https://g.alicdn.com/secdev/sufei_data/3.2.2/i...</td>\n",
       "      <td>https://maniform.world.tmall.com/category-1282...</td>\n",
       "    </tr>\n",
       "    <tr>\n",
       "      <th>17737</th>\n",
       "      <td>https://g.alicdn.com/secdev/sufei_data/3.2.2/i...</td>\n",
       "      <td>https://list.tmall.com/search_product.htm?cat=...</td>\n",
       "    </tr>\n",
       "    <tr>\n",
       "      <th>25944</th>\n",
       "      <td>https://pixel.yabidos.com/flimpobj.js?cb=15133...</td>\n",
       "      <td>https://www.hobbyconsolas.com/videojuegos/hori...</td>\n",
       "    </tr>\n",
       "    <tr>\n",
       "      <th>11478</th>\n",
       "      <td>http://g.alicdn.com/secdev/sufei_data/3.2.2/in...</td>\n",
       "      <td>http://c.youku.com/abouteg/youtu</td>\n",
       "    </tr>\n",
       "    <tr>\n",
       "      <th>21311</th>\n",
       "      <td>https://g.alicdn.com/secdev/sufei_data/3.2.2/i...</td>\n",
       "      <td>https://list.tmall.com//search_product.htm?cat...</td>\n",
       "    </tr>\n",
       "  </tbody>\n",
       "</table>\n",
       "</div>"
      ],
      "text/plain": [
       "                                              script_url  \\\n",
       "2723   https://g.alicdn.com/secdev/sufei_data/3.2.2/i...   \n",
       "17737  https://g.alicdn.com/secdev/sufei_data/3.2.2/i...   \n",
       "25944  https://pixel.yabidos.com/flimpobj.js?cb=15133...   \n",
       "11478  http://g.alicdn.com/secdev/sufei_data/3.2.2/in...   \n",
       "21311  https://g.alicdn.com/secdev/sufei_data/3.2.2/i...   \n",
       "\n",
       "                                                location  \n",
       "2723   https://maniform.world.tmall.com/category-1282...  \n",
       "17737  https://list.tmall.com/search_product.htm?cat=...  \n",
       "25944  https://www.hobbyconsolas.com/videojuegos/hori...  \n",
       "11478                   http://c.youku.com/abouteg/youtu  \n",
       "21311  https://list.tmall.com//search_product.htm?cat...  "
      ]
     },
     "execution_count": 9,
     "metadata": {},
     "output_type": "execute_result"
    }
   ],
   "source": [
    "create_data_channel_candidate_urls_df = create_data_channel_candidate_urls_df.compute()\n",
    "create_data_channel_candidate_urls_df.head()"
   ]
  },
  {
   "cell_type": "code",
   "execution_count": 10,
   "metadata": {},
   "outputs": [],
   "source": [
    "create_data_channel_candidate_urls = set(create_data_channel_candidate_urls_df.itertuples(index=False))"
   ]
  },
  {
   "cell_type": "markdown",
   "metadata": {},
   "source": [
    "## Pull out Candidate URLs for RTCPeerConnection.createOffer"
   ]
  },
  {
   "cell_type": "code",
   "execution_count": 11,
   "metadata": {},
   "outputs": [
    {
     "name": "stdout",
     "output_type": "stream",
     "text": [
      "[########################################] | 100% Completed | 49.5s\r"
     ]
    }
   ],
   "source": [
    "create_offer_candidate_urls_df = df[df.symbol == 'RTCPeerConnection.createOffer']\n",
    "create_offer_candidate_urls_df = create_offer_candidate_urls_df[['script_url', 'location']].drop_duplicates().persist()\n",
    "progress(create_offer_candidate_urls_df, notebook=False)"
   ]
  },
  {
   "cell_type": "code",
   "execution_count": 12,
   "metadata": {},
   "outputs": [
    {
     "data": {
      "text/html": [
       "<div>\n",
       "<style scoped>\n",
       "    .dataframe tbody tr th:only-of-type {\n",
       "        vertical-align: middle;\n",
       "    }\n",
       "\n",
       "    .dataframe tbody tr th {\n",
       "        vertical-align: top;\n",
       "    }\n",
       "\n",
       "    .dataframe thead th {\n",
       "        text-align: right;\n",
       "    }\n",
       "</style>\n",
       "<table border=\"1\" class=\"dataframe\">\n",
       "  <thead>\n",
       "    <tr style=\"text-align: right;\">\n",
       "      <th></th>\n",
       "      <th>script_url</th>\n",
       "      <th>location</th>\n",
       "    </tr>\n",
       "  </thead>\n",
       "  <tbody>\n",
       "    <tr>\n",
       "      <th>2724</th>\n",
       "      <td>https://g.alicdn.com/secdev/sufei_data/3.2.2/i...</td>\n",
       "      <td>https://maniform.world.tmall.com/category-1282...</td>\n",
       "    </tr>\n",
       "    <tr>\n",
       "      <th>17738</th>\n",
       "      <td>https://g.alicdn.com/secdev/sufei_data/3.2.2/i...</td>\n",
       "      <td>https://list.tmall.com/search_product.htm?cat=...</td>\n",
       "    </tr>\n",
       "    <tr>\n",
       "      <th>25945</th>\n",
       "      <td>https://pixel.yabidos.com/flimpobj.js?cb=15133...</td>\n",
       "      <td>https://www.hobbyconsolas.com/videojuegos/hori...</td>\n",
       "    </tr>\n",
       "    <tr>\n",
       "      <th>11479</th>\n",
       "      <td>http://g.alicdn.com/secdev/sufei_data/3.2.2/in...</td>\n",
       "      <td>http://c.youku.com/abouteg/youtu</td>\n",
       "    </tr>\n",
       "    <tr>\n",
       "      <th>21312</th>\n",
       "      <td>https://g.alicdn.com/secdev/sufei_data/3.2.2/i...</td>\n",
       "      <td>https://list.tmall.com//search_product.htm?cat...</td>\n",
       "    </tr>\n",
       "  </tbody>\n",
       "</table>\n",
       "</div>"
      ],
      "text/plain": [
       "                                              script_url  \\\n",
       "2724   https://g.alicdn.com/secdev/sufei_data/3.2.2/i...   \n",
       "17738  https://g.alicdn.com/secdev/sufei_data/3.2.2/i...   \n",
       "25945  https://pixel.yabidos.com/flimpobj.js?cb=15133...   \n",
       "11479  http://g.alicdn.com/secdev/sufei_data/3.2.2/in...   \n",
       "21312  https://g.alicdn.com/secdev/sufei_data/3.2.2/i...   \n",
       "\n",
       "                                                location  \n",
       "2724   https://maniform.world.tmall.com/category-1282...  \n",
       "17738  https://list.tmall.com/search_product.htm?cat=...  \n",
       "25945  https://www.hobbyconsolas.com/videojuegos/hori...  \n",
       "11479                   http://c.youku.com/abouteg/youtu  \n",
       "21312  https://list.tmall.com//search_product.htm?cat...  "
      ]
     },
     "execution_count": 12,
     "metadata": {},
     "output_type": "execute_result"
    }
   ],
   "source": [
    "create_offer_candidate_urls_df = create_offer_candidate_urls_df.compute()\n",
    "create_offer_candidate_urls_df.head()"
   ]
  },
  {
   "cell_type": "code",
   "execution_count": 13,
   "metadata": {},
   "outputs": [],
   "source": [
    "create_offer_candidate_urls = set(create_offer_candidate_urls_df.itertuples(index=False))"
   ]
  },
  {
   "cell_type": "markdown",
   "metadata": {},
   "source": [
    "## URLs should call all of: [RTCPeerConnection.onicecandidate, RTCPeerConnection.createDataChannel, RTCPeerConnection.createOffer]"
   ]
  },
  {
   "cell_type": "code",
   "execution_count": 14,
   "metadata": {},
   "outputs": [],
   "source": [
    "all_candidate_urls = onicecandidate_candidate_urls | create_data_channel_candidate_urls | create_offer_candidate_urls\n",
    "candidate_urls = onicecandidate_candidate_urls & create_data_channel_candidate_urls & create_offer_candidate_urls"
   ]
  },
  {
   "cell_type": "code",
   "execution_count": 15,
   "metadata": {},
   "outputs": [
    {
     "name": "stdout",
     "output_type": "stream",
     "text": [
      "# of unique tuples (script_url, location) that call all 3 symbols: 12936\n",
      "# of unique tuples (script_url, location) that only call 1 or 2 symols: 6614\n"
     ]
    }
   ],
   "source": [
    "print('# of unique tuples (script_url, location) that call all 3 symbols:', len(candidate_urls))\n",
    "print('# of unique tuples (script_url, location) that only call 1 or 2 symols:', len(all_candidate_urls - candidate_urls))"
   ]
  },
  {
   "cell_type": "code",
   "execution_count": 16,
   "metadata": {},
   "outputs": [],
   "source": [
    "with open('not_webrtc_multi_symbol_fingerprinting_1.json', 'w') as f:\n",
    "    f.write(json.dumps(list(set([script_url for script_url, location in (all_candidate_urls - candidate_urls)]))))"
   ]
  },
  {
   "cell_type": "markdown",
   "metadata": {},
   "source": [
    "Note: conversion from a list to a set to a list above is used in case the same script_url is called from multiple locations"
   ]
  },
  {
   "cell_type": "markdown",
   "metadata": {},
   "source": [
    "## Drop false positives"
   ]
  },
  {
   "cell_type": "code",
   "execution_count": 17,
   "metadata": {},
   "outputs": [],
   "source": [
    "false_positives = {\n",
    "    \"nextwebsnetworks.com/in/video\",\n",
    "    \"nextwebsnetworks.com/in/remnant\",\n",
    "    \"sandbox02.kaxsdc.com/collect/logo.htm\",\n",
    "    \"digitalforexnfashionstyles.com/sms4send2.php\",\n",
    "    \"www.badlion.net/\",\n",
    "    \"ajax.googleapis.com/ajax/libs/jquery/1.8/jquery.min.js\"\n",
    "}\n",
    "\n",
    "webrtc_fp_urls = set([(script_url, location) for script_url, location in candidate_urls if script_url not in false_positives])"
   ]
  },
  {
   "cell_type": "code",
   "execution_count": 18,
   "metadata": {},
   "outputs": [
    {
     "name": "stdout",
     "output_type": "stream",
     "text": [
      "# of unique tuples (script_url, location) that were false positives: 0\n",
      "# of unique tuples (script_url, location) that used WebRTC fingerprinting: 12936\n"
     ]
    }
   ],
   "source": [
    "print('# of unique tuples (script_url, location) that were false positives:', len(candidate_urls - webrtc_fp_urls))\n",
    "print('# of unique tuples (script_url, location) that used WebRTC fingerprinting:', len(webrtc_fp_urls))"
   ]
  },
  {
   "cell_type": "code",
   "execution_count": 19,
   "metadata": {},
   "outputs": [],
   "source": [
    "with open('not_webrtc_multi_symbol_fingerprinting_2.json', 'w') as f:\n",
    "    f.write(json.dumps(list(set([script_url for script_url, location in (candidate_urls - webrtc_fp_urls)]))))"
   ]
  },
  {
   "cell_type": "markdown",
   "metadata": {},
   "source": [
    "## Save Candidate URLs"
   ]
  },
  {
   "cell_type": "code",
   "execution_count": 20,
   "metadata": {},
   "outputs": [],
   "source": [
    "with open('webrtc_multi_symbol_fingerprinting.json', 'w') as f:\n",
    "    f.write(json.dumps(list(set([script_url for script_url, location in webrtc_fp_urls]))))"
   ]
  },
  {
   "cell_type": "markdown",
   "metadata": {},
   "source": [
    "## Find Locations"
   ]
  },
  {
   "cell_type": "code",
   "execution_count": 4,
   "metadata": {},
   "outputs": [
    {
     "name": "stdout",
     "output_type": "stream",
     "text": [
      "1313 == 1313\n"
     ]
    }
   ],
   "source": [
    "with open('webrtc_multi_symbol_fingerprinting.json', 'r') as f:\n",
    "    webrtc_fp_urls = json.load(f)\n",
    "    \n",
    "print(len(webrtc_fp_urls), '== 1313')"
   ]
  },
  {
   "cell_type": "code",
   "execution_count": 5,
   "metadata": {},
   "outputs": [],
   "source": [
    "df = dd.read_parquet(DATA_DIR_FULL, columns=['script_url', 'location'])"
   ]
  },
  {
   "cell_type": "code",
   "execution_count": 6,
   "metadata": {},
   "outputs": [
    {
     "name": "stdout",
     "output_type": "stream",
     "text": [
      "[########################################] | 100% Completed |  1min  6.0s\r"
     ]
    }
   ],
   "source": [
    "df_locs = df[df.script_url.isin(webrtc_fp_urls)]\n",
    "locs = df_locs.location.unique().persist()\n",
    "progress(locs, notebook=False)"
   ]
  },
  {
   "cell_type": "code",
   "execution_count": 7,
   "metadata": {},
   "outputs": [
    {
     "name": "stdout",
     "output_type": "stream",
     "text": [
      "# of locations that call WebRTC fingerprinting scripts: 15360\n"
     ]
    }
   ],
   "source": [
    "print('# of locations that call WebRTC fingerprinting scripts:', len(locs))"
   ]
  },
  {
   "cell_type": "code",
   "execution_count": null,
   "metadata": {},
   "outputs": [],
   "source": []
  }
 ],
 "metadata": {
  "kernelspec": {
   "display_name": "overscripted",
   "language": "python",
   "name": "overscripted"
  },
  "language_info": {
   "codemirror_mode": {
    "name": "ipython",
    "version": 3
   },
   "file_extension": ".py",
   "mimetype": "text/x-python",
   "name": "python",
   "nbconvert_exporter": "python",
   "pygments_lexer": "ipython3",
   "version": "3.5.6"
  }
 },
 "nbformat": 4,
 "nbformat_minor": 2
}
