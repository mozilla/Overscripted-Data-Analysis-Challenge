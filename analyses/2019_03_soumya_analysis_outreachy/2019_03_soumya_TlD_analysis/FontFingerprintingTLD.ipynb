{
 "cells": [
  {
   "cell_type": "markdown",
   "metadata": {},
   "source": [
    "## Extract TLD in ont Fingerprinting scripts\n",
    "\n",
    "This notebook extracts the TLDs for script_url and location in Font Fingerprinting scripts. The heuristics to find out the Font Fingerprinting scripts is directly taken from [2019_03_willougr_fingerprinting_implementation_sixth_sense/Font Fingerprinting Heuristics](https://github.com/mozilla/overscripted/blob/master/analyses/2019_03_willougr_fingerprinting_implementation_sixth_sense/Font%20Fingerprinting%20Heuristics.ipynb)."
   ]
  },
  {
   "cell_type": "code",
   "execution_count": 49,
   "metadata": {},
   "outputs": [
    {
     "name": "stderr",
     "output_type": "stream",
     "text": [
      "/home/soumya/.conda/envs/overscripted/lib/python3.6/site-packages/distributed/bokeh/core.py:57: UserWarning: \n",
      "Port 8787 is already in use. \n",
      "Perhaps you already have a cluster running?\n",
      "Hosting the diagnostics dashboard on a random port instead.\n",
      "  warnings.warn('\\n' + msg)\n"
     ]
    },
    {
     "data": {
      "text/html": [
       "<table style=\"border: 2px solid white;\">\n",
       "<tr>\n",
       "<td style=\"vertical-align: top; border: 0px solid white\">\n",
       "<h3>Client</h3>\n",
       "<ul>\n",
       "  <li><b>Scheduler: </b>tcp://127.0.0.1:43797\n",
       "  <li><b>Dashboard: </b><a href='http://127.0.0.1:38401/status' target='_blank'>http://127.0.0.1:38401/status</a>\n",
       "</ul>\n",
       "</td>\n",
       "<td style=\"vertical-align: top; border: 0px solid white\">\n",
       "<h3>Cluster</h3>\n",
       "<ul>\n",
       "  <li><b>Workers: </b>4</li>\n",
       "  <li><b>Cores: </b>12</li>\n",
       "  <li><b>Memory: </b>8.25 GB</li>\n",
       "</ul>\n",
       "</td>\n",
       "</tr>\n",
       "</table>"
      ],
      "text/plain": [
       "<Client: scheduler='tcp://127.0.0.1:43797' processes=4 cores=12>"
      ]
     },
     "execution_count": 49,
     "metadata": {},
     "output_type": "execute_result"
    }
   ],
   "source": [
    "import dask.dataframe as dd\n",
    "import pandas as pd\n",
    "import re\n",
    "import json\n",
    "\n",
    "from dask.distributed import Client, progress\n",
    "from collections import defaultdict, Counter\n",
    "\n",
    "DATA_DIR = 'YOUR DATA DIRECTORY HERE'\n",
    "DATA_DIR_FULL = '/home/soumya/Dataset/sample_0.parquet'\n",
    "Client()"
   ]
  },
  {
   "cell_type": "markdown",
   "metadata": {},
   "source": [
    "## Setup"
   ]
  },
  {
   "cell_type": "code",
   "execution_count": 4,
   "metadata": {
    "scrolled": true
   },
   "outputs": [
    {
     "data": {
      "text/html": [
       "<div>\n",
       "<style scoped>\n",
       "    .dataframe tbody tr th:only-of-type {\n",
       "        vertical-align: middle;\n",
       "    }\n",
       "\n",
       "    .dataframe tbody tr th {\n",
       "        vertical-align: top;\n",
       "    }\n",
       "\n",
       "    .dataframe thead th {\n",
       "        text-align: right;\n",
       "    }\n",
       "</style>\n",
       "<table border=\"1\" class=\"dataframe\">\n",
       "  <thead>\n",
       "    <tr style=\"text-align: right;\">\n",
       "      <th></th>\n",
       "      <th>script_url</th>\n",
       "      <th>symbol</th>\n",
       "      <th>value</th>\n",
       "      <th>location</th>\n",
       "      <th>argument_0</th>\n",
       "    </tr>\n",
       "    <tr>\n",
       "      <th>call_id</th>\n",
       "      <th></th>\n",
       "      <th></th>\n",
       "      <th></th>\n",
       "      <th></th>\n",
       "      <th></th>\n",
       "    </tr>\n",
       "  </thead>\n",
       "  <tbody>\n",
       "    <tr>\n",
       "      <th>1_00006011493ed94fb8010cead84ee610cdbece5de961abe96f0cba54.json__0</th>\n",
       "      <td>https://vk.com/js/api/xdm.js?1449919642</td>\n",
       "      <td>window.name</td>\n",
       "      <td>fXDcab74</td>\n",
       "      <td>https://vk.com/widget_comments.php?app=2297596...</td>\n",
       "      <td>None</td>\n",
       "    </tr>\n",
       "    <tr>\n",
       "      <th>1_00006011493ed94fb8010cead84ee610cdbece5de961abe96f0cba54.json__1</th>\n",
       "      <td>https://vk.com/js/api/xdm.js?1449919642</td>\n",
       "      <td>window.name</td>\n",
       "      <td>fXDcab74</td>\n",
       "      <td>https://vk.com/widget_comments.php?app=2297596...</td>\n",
       "      <td>None</td>\n",
       "    </tr>\n",
       "    <tr>\n",
       "      <th>1_00006011493ed94fb8010cead84ee610cdbece5de961abe96f0cba54.json__2</th>\n",
       "      <td>https://vk.com/js/al/aes_light.js?592436914</td>\n",
       "      <td>window.navigator.userAgent</td>\n",
       "      <td>Mozilla/5.0 (X11; Linux x86_64; rv:52.0) Gecko...</td>\n",
       "      <td>https://vk.com/widget_comments.php?app=2297596...</td>\n",
       "      <td>None</td>\n",
       "    </tr>\n",
       "    <tr>\n",
       "      <th>1_00006b1ad6ce7a5b2b81a8ef96f0778853ea6d81a97693d85a52790c.json__0</th>\n",
       "      <td>https://cpro.baidustatic.com/cpro/ui/noexpire/...</td>\n",
       "      <td>window.navigator.userAgent</td>\n",
       "      <td>Mozilla/5.0 (X11; Linux x86_64; rv:52.0) Gecko...</td>\n",
       "      <td>https://pos.baidu.com/s?hei=70&amp;wid=670&amp;di=u313...</td>\n",
       "      <td>None</td>\n",
       "    </tr>\n",
       "    <tr>\n",
       "      <th>1_0000813d43acf1fe219ada01597cfb1d5dc9c12b61f343c6cfac362b.json__0</th>\n",
       "      <td>https://apis.google.com/js/plusone.js?_=151338...</td>\n",
       "      <td>window.document.cookie</td>\n",
       "      <td>_ga=GA1.2.1529583939.1513387469; _gid=GA1.2.17...</td>\n",
       "      <td>http://serienjunkies.org/smilf/smilf-season-1-...</td>\n",
       "      <td>None</td>\n",
       "    </tr>\n",
       "  </tbody>\n",
       "</table>\n",
       "</div>"
      ],
      "text/plain": [
       "                                                                                           script_url  \\\n",
       "call_id                                                                                                 \n",
       "1_00006011493ed94fb8010cead84ee610cdbece5de961a...            https://vk.com/js/api/xdm.js?1449919642   \n",
       "1_00006011493ed94fb8010cead84ee610cdbece5de961a...            https://vk.com/js/api/xdm.js?1449919642   \n",
       "1_00006011493ed94fb8010cead84ee610cdbece5de961a...        https://vk.com/js/al/aes_light.js?592436914   \n",
       "1_00006b1ad6ce7a5b2b81a8ef96f0778853ea6d81a9769...  https://cpro.baidustatic.com/cpro/ui/noexpire/...   \n",
       "1_0000813d43acf1fe219ada01597cfb1d5dc9c12b61f34...  https://apis.google.com/js/plusone.js?_=151338...   \n",
       "\n",
       "                                                                        symbol  \\\n",
       "call_id                                                                          \n",
       "1_00006011493ed94fb8010cead84ee610cdbece5de961a...                 window.name   \n",
       "1_00006011493ed94fb8010cead84ee610cdbece5de961a...                 window.name   \n",
       "1_00006011493ed94fb8010cead84ee610cdbece5de961a...  window.navigator.userAgent   \n",
       "1_00006b1ad6ce7a5b2b81a8ef96f0778853ea6d81a9769...  window.navigator.userAgent   \n",
       "1_0000813d43acf1fe219ada01597cfb1d5dc9c12b61f34...      window.document.cookie   \n",
       "\n",
       "                                                                                                value  \\\n",
       "call_id                                                                                                 \n",
       "1_00006011493ed94fb8010cead84ee610cdbece5de961a...                                           fXDcab74   \n",
       "1_00006011493ed94fb8010cead84ee610cdbece5de961a...                                           fXDcab74   \n",
       "1_00006011493ed94fb8010cead84ee610cdbece5de961a...  Mozilla/5.0 (X11; Linux x86_64; rv:52.0) Gecko...   \n",
       "1_00006b1ad6ce7a5b2b81a8ef96f0778853ea6d81a9769...  Mozilla/5.0 (X11; Linux x86_64; rv:52.0) Gecko...   \n",
       "1_0000813d43acf1fe219ada01597cfb1d5dc9c12b61f34...  _ga=GA1.2.1529583939.1513387469; _gid=GA1.2.17...   \n",
       "\n",
       "                                                                                             location  \\\n",
       "call_id                                                                                                 \n",
       "1_00006011493ed94fb8010cead84ee610cdbece5de961a...  https://vk.com/widget_comments.php?app=2297596...   \n",
       "1_00006011493ed94fb8010cead84ee610cdbece5de961a...  https://vk.com/widget_comments.php?app=2297596...   \n",
       "1_00006011493ed94fb8010cead84ee610cdbece5de961a...  https://vk.com/widget_comments.php?app=2297596...   \n",
       "1_00006b1ad6ce7a5b2b81a8ef96f0778853ea6d81a9769...  https://pos.baidu.com/s?hei=70&wid=670&di=u313...   \n",
       "1_0000813d43acf1fe219ada01597cfb1d5dc9c12b61f34...  http://serienjunkies.org/smilf/smilf-season-1-...   \n",
       "\n",
       "                                                   argument_0  \n",
       "call_id                                                        \n",
       "1_00006011493ed94fb8010cead84ee610cdbece5de961a...       None  \n",
       "1_00006011493ed94fb8010cead84ee610cdbece5de961a...       None  \n",
       "1_00006011493ed94fb8010cead84ee610cdbece5de961a...       None  \n",
       "1_00006b1ad6ce7a5b2b81a8ef96f0778853ea6d81a9769...       None  \n",
       "1_0000813d43acf1fe219ada01597cfb1d5dc9c12b61f34...       None  "
      ]
     },
     "execution_count": 4,
     "metadata": {},
     "output_type": "execute_result"
    }
   ],
   "source": [
    "df = dd.read_parquet(DATA_DIR_FULL, columns=['script_url', 'symbol', 'value', 'location', 'argument_0'])\n",
    "df.head()"
   ]
  },
  {
   "cell_type": "markdown",
   "metadata": {},
   "source": [
    "## Candidate URLs for 'CanvasRenderingContext2D.font'"
   ]
  },
  {
   "cell_type": "code",
   "execution_count": 8,
   "metadata": {},
   "outputs": [
    {
     "name": "stdout",
     "output_type": "stream",
     "text": [
      "[########################################] | 100% Completed |  1min 57.9s\r"
     ]
    }
   ],
   "source": [
    "font_df_sixth_sense = df[df.symbol == 'CanvasRenderingContext2D.font']\n",
    "font_df_sixth_sense = font_df_sixth_sense[['value', 'script_url', 'location']]\n",
    "font_df_sixth_sense = font_df_sixth_sense.drop_duplicates().persist()\n",
    "progress(font_df_sixth_sense, notebook=False)"
   ]
  },
  {
   "cell_type": "code",
   "execution_count": 9,
   "metadata": {},
   "outputs": [
    {
     "data": {
      "text/html": [
       "<div>\n",
       "<style scoped>\n",
       "    .dataframe tbody tr th:only-of-type {\n",
       "        vertical-align: middle;\n",
       "    }\n",
       "\n",
       "    .dataframe tbody tr th {\n",
       "        vertical-align: top;\n",
       "    }\n",
       "\n",
       "    .dataframe thead th {\n",
       "        text-align: right;\n",
       "    }\n",
       "</style>\n",
       "<table border=\"1\" class=\"dataframe\">\n",
       "  <thead>\n",
       "    <tr style=\"text-align: right;\">\n",
       "      <th></th>\n",
       "      <th>value</th>\n",
       "      <th>script_url</th>\n",
       "      <th>location</th>\n",
       "    </tr>\n",
       "    <tr>\n",
       "      <th>call_id</th>\n",
       "      <th></th>\n",
       "      <th></th>\n",
       "      <th></th>\n",
       "    </tr>\n",
       "  </thead>\n",
       "  <tbody>\n",
       "    <tr>\n",
       "      <th>1_00022de65942197e3855f68b373c5a2710eefe66945e40063c30419f.json__268</th>\n",
       "      <td>11pt Arial</td>\n",
       "      <td>https://www.coches.net/ztkieflaaxcvaiwh121837.js</td>\n",
       "      <td>https://www.coches.net/fiat/segunda-mano/</td>\n",
       "    </tr>\n",
       "    <tr>\n",
       "      <th>1_00022de65942197e3855f68b373c5a2710eefe66945e40063c30419f.json__271</th>\n",
       "      <td>18pt Arial</td>\n",
       "      <td>https://www.coches.net/ztkieflaaxcvaiwh121837.js</td>\n",
       "      <td>https://www.coches.net/fiat/segunda-mano/</td>\n",
       "    </tr>\n",
       "    <tr>\n",
       "      <th>1_0004d550953191c5723947694ac872f7e277d94041ae0112ffa577fd.json__353</th>\n",
       "      <td>7px 'sans-serif'</td>\n",
       "      <td>http://static.mvideo.ru/media/js/mvideo.js?v0.7</td>\n",
       "      <td>http://www.mvideo.ru/aksessuary-dlya-avtomobil...</td>\n",
       "    </tr>\n",
       "    <tr>\n",
       "      <th>1_0004d550953191c5723947694ac872f7e277d94041ae0112ffa577fd.json__358</th>\n",
       "      <td>7px 'Abadi MT Condensed'</td>\n",
       "      <td>http://static.mvideo.ru/media/js/mvideo.js?v0.7</td>\n",
       "      <td>http://www.mvideo.ru/aksessuary-dlya-avtomobil...</td>\n",
       "    </tr>\n",
       "    <tr>\n",
       "      <th>1_0004d550953191c5723947694ac872f7e277d94041ae0112ffa577fd.json__363</th>\n",
       "      <td>7px 'Adobe Fan Heiti Std'</td>\n",
       "      <td>http://static.mvideo.ru/media/js/mvideo.js?v0.7</td>\n",
       "      <td>http://www.mvideo.ru/aksessuary-dlya-avtomobil...</td>\n",
       "    </tr>\n",
       "  </tbody>\n",
       "</table>\n",
       "</div>"
      ],
      "text/plain": [
       "                                                                        value  \\\n",
       "call_id                                                                         \n",
       "1_00022de65942197e3855f68b373c5a2710eefe66945e4...                 11pt Arial   \n",
       "1_00022de65942197e3855f68b373c5a2710eefe66945e4...                 18pt Arial   \n",
       "1_0004d550953191c5723947694ac872f7e277d94041ae0...           7px 'sans-serif'   \n",
       "1_0004d550953191c5723947694ac872f7e277d94041ae0...   7px 'Abadi MT Condensed'   \n",
       "1_0004d550953191c5723947694ac872f7e277d94041ae0...  7px 'Adobe Fan Heiti Std'   \n",
       "\n",
       "                                                                                          script_url  \\\n",
       "call_id                                                                                                \n",
       "1_00022de65942197e3855f68b373c5a2710eefe66945e4...  https://www.coches.net/ztkieflaaxcvaiwh121837.js   \n",
       "1_00022de65942197e3855f68b373c5a2710eefe66945e4...  https://www.coches.net/ztkieflaaxcvaiwh121837.js   \n",
       "1_0004d550953191c5723947694ac872f7e277d94041ae0...   http://static.mvideo.ru/media/js/mvideo.js?v0.7   \n",
       "1_0004d550953191c5723947694ac872f7e277d94041ae0...   http://static.mvideo.ru/media/js/mvideo.js?v0.7   \n",
       "1_0004d550953191c5723947694ac872f7e277d94041ae0...   http://static.mvideo.ru/media/js/mvideo.js?v0.7   \n",
       "\n",
       "                                                                                             location  \n",
       "call_id                                                                                                \n",
       "1_00022de65942197e3855f68b373c5a2710eefe66945e4...          https://www.coches.net/fiat/segunda-mano/  \n",
       "1_00022de65942197e3855f68b373c5a2710eefe66945e4...          https://www.coches.net/fiat/segunda-mano/  \n",
       "1_0004d550953191c5723947694ac872f7e277d94041ae0...  http://www.mvideo.ru/aksessuary-dlya-avtomobil...  \n",
       "1_0004d550953191c5723947694ac872f7e277d94041ae0...  http://www.mvideo.ru/aksessuary-dlya-avtomobil...  \n",
       "1_0004d550953191c5723947694ac872f7e277d94041ae0...  http://www.mvideo.ru/aksessuary-dlya-avtomobil...  "
      ]
     },
     "execution_count": 9,
     "metadata": {},
     "output_type": "execute_result"
    }
   ],
   "source": [
    "font_df_sixth_sense = font_df_sixth_sense.compute()\n",
    "font_df_sixth_sense.head()"
   ]
  },
  {
   "cell_type": "code",
   "execution_count": 10,
   "metadata": {},
   "outputs": [
    {
     "name": "stdout",
     "output_type": "stream",
     "text": [
      "CPU times: user 5.22 s, sys: 143 ms, total: 5.37 s\n",
      "Wall time: 5.21 s\n"
     ]
    }
   ],
   "source": [
    "%%time\n",
    "\n",
    "num_fonts_sixth_sense = defaultdict(set)\n",
    "    \n",
    "for index, row in font_df_sixth_sense.iterrows():\n",
    "    num_fonts_sixth_sense[(row.script_url, row.location)].add(row.value)"
   ]
  },
  {
   "cell_type": "code",
   "execution_count": 11,
   "metadata": {},
   "outputs": [],
   "source": [
    "font_urls_not_enough_sixth_sense = [x for x, font_set in num_fonts_sixth_sense.items() if len(font_set) < 50]\n",
    "font_urls_candidates_sixth_sense = [x for x, font_set in num_fonts_sixth_sense.items() if len(font_set) >= 50]"
   ]
  },
  {
   "cell_type": "code",
   "execution_count": 12,
   "metadata": {},
   "outputs": [
    {
     "name": "stdout",
     "output_type": "stream",
     "text": [
      "# of unique tuples (script_url, location) with 50 or more calls: 227\n",
      "# of unique tuples (script_url, location) with less than 50: 5918\n"
     ]
    }
   ],
   "source": [
    "print('# of unique tuples (script_url, location) with 50 or more calls:', len(font_urls_candidates_sixth_sense))\n",
    "print('# of unique tuples (script_url, location) with less than 50:', len(font_urls_not_enough_sixth_sense))"
   ]
  },
  {
   "cell_type": "code",
   "execution_count": 13,
   "metadata": {},
   "outputs": [],
   "source": [
    "with open('not_font_fingerprinting_1.json', 'w') as f:\n",
    "    f.write(json.dumps(list(set([script_url for script_url, location in font_urls_not_enough_sixth_sense]))))"
   ]
  },
  {
   "cell_type": "markdown",
   "metadata": {},
   "source": [
    "## Candidate URLs for 'CanvasRenderingContext2D.measureText'"
   ]
  },
  {
   "cell_type": "code",
   "execution_count": 14,
   "metadata": {},
   "outputs": [
    {
     "name": "stdout",
     "output_type": "stream",
     "text": [
      "[########################################] | 100% Completed |  1min 59.8s\r"
     ]
    }
   ],
   "source": [
    "measure_text_df_sixth_sense = df[df.symbol == 'CanvasRenderingContext2D.measureText']\n",
    "measure_text_df_sixth_sense = measure_text_df_sixth_sense[['argument_0', 'script_url', 'location']]\n",
    "measure_text_df_sixth_sense['to_count'] = 1\n",
    "measure_text_df_sixth_sense = measure_text_df_sixth_sense.groupby(['argument_0', 'script_url', 'location']).count().persist()\n",
    "progress(measure_text_df_sixth_sense, notebook=False)"
   ]
  },
  {
   "cell_type": "code",
   "execution_count": 15,
   "metadata": {},
   "outputs": [
    {
     "data": {
      "text/html": [
       "<div>\n",
       "<style scoped>\n",
       "    .dataframe tbody tr th:only-of-type {\n",
       "        vertical-align: middle;\n",
       "    }\n",
       "\n",
       "    .dataframe tbody tr th {\n",
       "        vertical-align: top;\n",
       "    }\n",
       "\n",
       "    .dataframe thead th {\n",
       "        text-align: right;\n",
       "    }\n",
       "</style>\n",
       "<table border=\"1\" class=\"dataframe\">\n",
       "  <thead>\n",
       "    <tr style=\"text-align: right;\">\n",
       "      <th></th>\n",
       "      <th></th>\n",
       "      <th>to_count</th>\n",
       "    </tr>\n",
       "    <tr>\n",
       "      <th>script_url</th>\n",
       "      <th>location</th>\n",
       "      <th></th>\n",
       "    </tr>\n",
       "  </thead>\n",
       "  <tbody>\n",
       "    <tr>\n",
       "      <th rowspan=\"5\" valign=\"top\">http://sspy-up.gov.in/fusioncharts/js/fusioncharts.js</th>\n",
       "      <th>http://sspy-up.gov.in/index.aspx</th>\n",
       "      <td>10</td>\n",
       "    </tr>\n",
       "    <tr>\n",
       "      <th>http://sspy-up.gov.in/index.aspx</th>\n",
       "      <td>10</td>\n",
       "    </tr>\n",
       "    <tr>\n",
       "      <th>http://sspy-up.gov.in/index.aspx</th>\n",
       "      <td>2</td>\n",
       "    </tr>\n",
       "    <tr>\n",
       "      <th>http://sspy-up.gov.in/index.aspx</th>\n",
       "      <td>2</td>\n",
       "    </tr>\n",
       "    <tr>\n",
       "      <th>http://sspy-up.gov.in/index.aspx</th>\n",
       "      <td>2</td>\n",
       "    </tr>\n",
       "  </tbody>\n",
       "</table>\n",
       "</div>"
      ],
      "text/plain": [
       "                                                                                     to_count\n",
       "script_url                                         location                                  \n",
       "http://sspy-up.gov.in/fusioncharts/js/fusioncha... http://sspy-up.gov.in/index.aspx        10\n",
       "                                                   http://sspy-up.gov.in/index.aspx        10\n",
       "                                                   http://sspy-up.gov.in/index.aspx         2\n",
       "                                                   http://sspy-up.gov.in/index.aspx         2\n",
       "                                                   http://sspy-up.gov.in/index.aspx         2"
      ]
     },
     "execution_count": 15,
     "metadata": {},
     "output_type": "execute_result"
    }
   ],
   "source": [
    "measure_text_df_sixth_sense = measure_text_df_sixth_sense.compute()\n",
    "measure_text_df_sixth_sense = measure_text_df_sixth_sense.reset_index('argument_0', drop=True)\n",
    "measure_text_df_sixth_sense.head()"
   ]
  },
  {
   "cell_type": "code",
   "execution_count": 16,
   "metadata": {},
   "outputs": [],
   "source": [
    "measure_text_not_enough_df_sixth_sense = measure_text_df_sixth_sense[measure_text_df_sixth_sense['to_count'] < 50]"
   ]
  },
  {
   "cell_type": "code",
   "execution_count": 17,
   "metadata": {},
   "outputs": [],
   "source": [
    "measure_text_df_sixth_sense = measure_text_df_sixth_sense[measure_text_df_sixth_sense['to_count'] >= 50]"
   ]
  },
  {
   "cell_type": "code",
   "execution_count": 18,
   "metadata": {},
   "outputs": [],
   "source": [
    "measure_text_urls_candidates_sixth_sense = set(measure_text_df_sixth_sense.index.tolist())\n",
    "measure_text_urls_not_enough_sixth_sense = set(measure_text_not_enough_df_sixth_sense.index.tolist())"
   ]
  },
  {
   "cell_type": "code",
   "execution_count": 19,
   "metadata": {},
   "outputs": [
    {
     "name": "stdout",
     "output_type": "stream",
     "text": [
      "# of unique tuples (script_url, location) with 50 or more calls: 245\n",
      "# of unique tuples (script_url, location) with less than 50: 250\n"
     ]
    }
   ],
   "source": [
    "print('# of unique tuples (script_url, location) with 50 or more calls:', len(measure_text_urls_candidates_sixth_sense))\n",
    "print('# of unique tuples (script_url, location) with less than 50:', len(measure_text_urls_not_enough_sixth_sense))"
   ]
  },
  {
   "cell_type": "code",
   "execution_count": 20,
   "metadata": {},
   "outputs": [],
   "source": [
    "with open('not_font_fingerprinting_2.json', 'w') as f:\n",
    "    f.write(json.dumps(list(set([script_url for script_url, location in measure_text_urls_not_enough_sixth_sense]))))"
   ]
  },
  {
   "cell_type": "markdown",
   "metadata": {},
   "source": [
    "## Cross reference lists"
   ]
  },
  {
   "cell_type": "code",
   "execution_count": 21,
   "metadata": {},
   "outputs": [
    {
     "name": "stdout",
     "output_type": "stream",
     "text": [
      "# of unique tuples (script_url, location) meeting both criteria: 199\n",
      "# of unique tuples (script_url, location) that only meet one criteria: 74\n"
     ]
    }
   ],
   "source": [
    "font_urls_candidates_sixth_sense = set(font_urls_candidates_sixth_sense)\n",
    "\n",
    "all_candidate_urls_sixth_sense = font_urls_candidates_sixth_sense | measure_text_urls_candidates_sixth_sense\n",
    "canvas_font_fp_urls_sixth_sense = font_urls_candidates_sixth_sense & measure_text_urls_candidates_sixth_sense\n",
    "\n",
    "print('# of unique tuples (script_url, location) meeting both criteria:', len(canvas_font_fp_urls_sixth_sense))\n",
    "print('# of unique tuples (script_url, location) that only meet one criteria:', len(all_candidate_urls_sixth_sense - canvas_font_fp_urls_sixth_sense))"
   ]
  },
  {
   "cell_type": "code",
   "execution_count": 22,
   "metadata": {},
   "outputs": [],
   "source": [
    "with open('not_font_fingerprinting_3.json', 'w') as f:\n",
    "    f.write(json.dumps(list(set([script_url for script_url, location in (all_candidate_urls_sixth_sense - canvas_font_fp_urls_sixth_sense)]))))"
   ]
  },
  {
   "cell_type": "markdown",
   "metadata": {},
   "source": [
    "## Save Candidate URLs"
   ]
  },
  {
   "cell_type": "code",
   "execution_count": 23,
   "metadata": {},
   "outputs": [],
   "source": [
    "with open('font_fingerprinting.json', 'w') as f:\n",
    "    f.write(json.dumps(list(set([script_url for script_url, location in canvas_font_fp_urls_sixth_sense]))))"
   ]
  },
  {
   "cell_type": "markdown",
   "metadata": {},
   "source": [
    "## Find Locations"
   ]
  },
  {
   "cell_type": "code",
   "execution_count": 24,
   "metadata": {},
   "outputs": [
    {
     "name": "stdout",
     "output_type": "stream",
     "text": [
      "165 == 1387\n"
     ]
    }
   ],
   "source": [
    "with open('font_fingerprinting.json', 'r') as f:\n",
    "    font_fp_urls = json.load(f)\n",
    "    \n",
    "print(len(font_fp_urls), '== 1387')"
   ]
  },
  {
   "cell_type": "code",
   "execution_count": 25,
   "metadata": {},
   "outputs": [],
   "source": [
    "df = dd.read_parquet(DATA_DIR_FULL, columns=['script_url', 'location'])"
   ]
  },
  {
   "cell_type": "code",
   "execution_count": 26,
   "metadata": {},
   "outputs": [
    {
     "name": "stdout",
     "output_type": "stream",
     "text": [
      "[########################################] | 100% Completed | 12.6s\r"
     ]
    }
   ],
   "source": [
    "df_locs = df[df.script_url.isin(font_fp_urls)]\n",
    "locs = df_locs.location.unique().persist()\n",
    "progress(locs, notebook=False)"
   ]
  },
  {
   "cell_type": "code",
   "execution_count": 27,
   "metadata": {},
   "outputs": [
    {
     "name": "stdout",
     "output_type": "stream",
     "text": [
      "# of locations that call audio fingerprinting scripts: 229\n"
     ]
    }
   ],
   "source": [
    "print('# of locations that call audio fingerprinting scripts:', len(locs))"
   ]
  },
  {
   "cell_type": "code",
   "execution_count": 28,
   "metadata": {},
   "outputs": [
    {
     "data": {
      "text/plain": [
       "['https://m.stripe.network/inner.html#referrer=&title=Oops%20%7C%20Warrior%20Forum%20-%20The%20%231%20Internet%20Marketing%20Forum%20%26%20Marketplace&url=https%3A%2F%2Fwww.warriorforum.com%2Fhigh-voltage-video-forum%2F&muid=cb84799e-2cec-4091-b638-24dbd9b2f90e&sid=f1b662e6-3eb6-47cd-8494-3c54463f1cd5&preview=false&',\n",
       " 'https://m.stripe.network/inner.html#referrer=&title=Workplace%20Harassment%20Training%20for%20Employees%20Course%20-%20Online%20Video%20Lessons%20%7C%20Study.com&url=https%3A%2F%2Fstudy.com%2Facademy%2Fcourse%2Fworkplace-harassment-training-for-employees.html&muid=eae1878c-4491-4f63-b641-78c7ac614f21&sid=f5e399fc-96b4-4ac4-b452-7eba7f70f01c&preview=false&',\n",
       " 'https://t1.musthird.com/fp/check.js;CIS3SID=3BC39B2D37C93E953A0735D3AFCCBD4F?org_id=kfgn8s24&session_id=1513453722--4397116f1851ce69f7181ea3&nonce=a3c9b1ee33c05e98&pageid=1',\n",
       " 'https://m.stripe.network/inner.html#referrer=&title=Quantitative%20Analyst%20with%20R%20Track%20%7C%20DataCamp&url=https%3A%2F%2Fwww.datacamp.com%2Ftracks%2Fquantitative-analyst-with-r&muid=70db1b43-7f89-4fdd-8d46-f12eeb389340&sid=6b20aaa9-bfe7-449b-b34a-10ea9f02e06a&preview=false&',\n",
       " 'https://m.stripe.network/inner.html#url=https%3A%2F%2Fwww.wappalyzer.com%2Fcategories%2Fnetwork-devices&title=Wappalyzer%20-%20Network%20Devices&referrer=&muid=ff713277-81ce-4cc7-8947-7a51932aa196&sid=3f08bb58-aa3a-4ece-887d-dc5c50dcb1bd&preview=false']"
      ]
     },
     "execution_count": 28,
     "metadata": {},
     "output_type": "execute_result"
    }
   ],
   "source": [
    "font_fp_urls[0:5]"
   ]
  },
  {
   "cell_type": "code",
   "execution_count": 29,
   "metadata": {},
   "outputs": [
    {
     "data": {
      "text/plain": [
       "165"
      ]
     },
     "execution_count": 29,
     "metadata": {},
     "output_type": "execute_result"
    }
   ],
   "source": [
    "len(font_fp_urls)"
   ]
  },
  {
   "cell_type": "code",
   "execution_count": 30,
   "metadata": {},
   "outputs": [
    {
     "data": {
      "text/plain": [
       "0    https://m.stripe.network/inner.html#referrer=&...\n",
       "1    https://m.stripe.network/inner.html#referrer=&...\n",
       "2       https://phimbathu.com/tag/chau-tinh-tri-7.html\n",
       "3    https://www.macys.com/shop/kids-clothes/baby-c...\n",
       "4    https://www.llbean.com/llb/shop/514368?nav=ftl...\n",
       "5    https://m.stripe.network/inner.html#referrer=&...\n",
       "6    https://www.britishairways.com/travel/low-pric...\n",
       "7    https://m.stripe.network/inner.html#url=https%...\n",
       "8                http://kenh14.vn/sport/hau-truong.chn\n",
       "9    https://m.stripe.network/inner.html#referrer=&...\n",
       "Name: location, dtype: object"
      ]
     },
     "execution_count": 30,
     "metadata": {},
     "output_type": "execute_result"
    }
   ],
   "source": [
    "location=locs.compute()\n",
    "location[0:10]"
   ]
  },
  {
   "cell_type": "markdown",
   "metadata": {},
   "source": [
    "## Extract TLD for script_url"
   ]
  },
  {
   "cell_type": "code",
   "execution_count": 31,
   "metadata": {},
   "outputs": [
    {
     "name": "stdout",
     "output_type": "stream",
     "text": [
      "['network', 'network', 'com', 'network', 'network', 'com', 'com', 'network', 'network', 'com', 'network', 'network', 'network', 'network', 'network', 'network', 'com', 'com', 'network', 'network', 'network', 'com', 'com', 'com', 'network', 'network', 'network', 'com', 'network', 'network', 'network', 'com', 'vn', 'network', 'network', 'network', 'network', 'network', 'network', 'network', 'com', 'vn', 'network', 'network', 'com', 'network', 'network', 'network', 'com', 'com', 'network', 'network', 'network', 'net', 'network', 'network', 'network', 'network', 'com', 'net', 'network', 'com', 'com', 'com', 'network', 'network', 'network', 'network', 'network', 'network', 'network', 'network', 'network', 'com', 'com', 'network', 'network', 'com', 'network', 'com', 'network', 'network', 'com', 'network', 'com', 'network', 'network', 'network', 'com', 'network', 'network', 'network', 'net', 'com', 'network', 'network', 'com', 'com', 'network', 'network', 'com', 'network', 'com', 'net', 'network', 'network', 'com', 'com', 'network', 'network', 'network', 'network', 'network', 'com', 'com', 'com', 'com', 'network', 'network', 'network', 'network', 'network', 'network', 'com', 'network', 'network', 'network', 'com', 'network', 'network', 'com', 'network', 'com', 'network', 'network', 'network', 'network', 'network', 'network', 'network', 'network', 'com', 'com', 'com', 'com', 'network', 'network', 'network', 'network', 'network', 'network', 'network', 'network', 'network', 'com', 'com', 'network', 'com', 'network', 'network', 'network', 'com', 'network', 'network', 'network']\n"
     ]
    }
   ],
   "source": [
    "import tldextract\n",
    "opsuffix=[]\n",
    "opurls=[]\n",
    "for i in range(len(font_fp_urls)):\n",
    "    opurls.append(tldextract.extract(font_fp_urls[i]))\n",
    "    opsuffix.append(opurls[i].suffix)\n",
    "print(opsuffix)"
   ]
  },
  {
   "cell_type": "markdown",
   "metadata": {},
   "source": [
    "## Extract TLD for location"
   ]
  },
  {
   "cell_type": "code",
   "execution_count": 33,
   "metadata": {},
   "outputs": [
    {
     "name": "stdout",
     "output_type": "stream",
     "text": [
      "['network', 'network', 'com', 'com', 'com', 'network', 'com', 'network', 'vn', 'network', 'vn', 'network', 'network', 'network', 'network', 'com', 'com.tr', 'net', 'network', 'network']\n"
     ]
    }
   ],
   "source": [
    "opsuffix_locs=[]\n",
    "opurls_locs=[]\n",
    "for i in range(len(locs)):\n",
    "    opurls_locs.append(tldextract.extract(location[i]))\n",
    "    opsuffix_locs.append(opurls_locs[i].suffix)\n",
    "print(opsuffix_locs[0:20])"
   ]
  },
  {
   "cell_type": "markdown",
   "metadata": {},
   "source": [
    "## Frequency of each TLD for script_url"
   ]
  },
  {
   "cell_type": "code",
   "execution_count": 34,
   "metadata": {},
   "outputs": [
    {
     "name": "stdout",
     "output_type": "stream",
     "text": [
      "Counter({'network': 110, 'com': 49, 'net': 4, 'vn': 2})\n"
     ]
    }
   ],
   "source": [
    "import collections\n",
    "for i in range(len(opsuffix)):\n",
    "    counter_script_url=collections.Counter(opsuffix)\n",
    "print(counter_script_url)"
   ]
  },
  {
   "cell_type": "code",
   "execution_count": 36,
   "metadata": {},
   "outputs": [
    {
     "data": {
      "text/plain": [
       "4"
      ]
     },
     "execution_count": 36,
     "metadata": {},
     "output_type": "execute_result"
    }
   ],
   "source": [
    "len(counter_script_url)"
   ]
  },
  {
   "cell_type": "code",
   "execution_count": 47,
   "metadata": {},
   "outputs": [],
   "source": [
    "# Store in a json file\n",
    "with open('font_script_url.json', 'w') as f:\n",
    "    f.write(json.dumps(counter_script_url))\n"
   ]
  },
  {
   "cell_type": "code",
   "execution_count": 50,
   "metadata": {},
   "outputs": [
    {
     "data": {
      "image/png": "[encoded data removed]",
      "text/plain": [
       "<Figure size 432x288 with 1 Axes>"
      ]
     },
     "metadata": {
      "needs_background": "light"
     },
     "output_type": "display_data"
    }
   ],
   "source": [
    "# Arange in descending order    \n",
    "c=Counter(counter_script_url)\n",
    "counter_script_url=dict(c.most_common())\n",
    "#Convert to list for plotting\n",
    "domain=list(counter_script_url.keys())\n",
    "count=list(counter_script_url.values())\n",
    "\n",
    "dfplot = pd.DataFrame({'domain':domain, 'count':count})\n",
    "ax = dfplot.plot.bar(x='domain', y='count', rot=0)"
   ]
  },
  {
   "cell_type": "markdown",
   "metadata": {},
   "source": [
    "## Frequency of each TLD for location"
   ]
  },
  {
   "cell_type": "code",
   "execution_count": 40,
   "metadata": {},
   "outputs": [
    {
     "name": "stdout",
     "output_type": "stream",
     "text": [
      "Counter({'network': 110, 'com': 73, 'vn': 16, 'net': 16, 'com.vn': 4, 'com.tr': 2, 'in': 2, 'gr': 1, 'eu': 1, 'com.ar': 1, 'fi': 1, 'es': 1, 'com.uy': 1})\n"
     ]
    }
   ],
   "source": [
    "for i in range(len(locs)):\n",
    "    counter_location=collections.Counter(opsuffix_locs)\n",
    "print(counter_location)"
   ]
  },
  {
   "cell_type": "code",
   "execution_count": 41,
   "metadata": {},
   "outputs": [],
   "source": [
    "# Store in a json file\n",
    "with open('font_location.json', 'w') as f:\n",
    "    f.write(json.dumps(counter_location)) "
   ]
  },
  {
   "cell_type": "code",
   "execution_count": 42,
   "metadata": {},
   "outputs": [
    {
     "data": {
      "text/plain": [
       "13"
      ]
     },
     "execution_count": 42,
     "metadata": {},
     "output_type": "execute_result"
    }
   ],
   "source": [
    "len(counter_location)"
   ]
  },
  {
   "cell_type": "code",
   "execution_count": 52,
   "metadata": {},
   "outputs": [
    {
     "data": {
      "image/png": "[encoded data removed]",
      "text/plain": [
       "<Figure size 432x288 with 1 Axes>"
      ]
     },
     "metadata": {
      "needs_background": "light"
     },
     "output_type": "display_data"
    }
   ],
   "source": [
    "# Arange in descending order    \n",
    "c=Counter(counter_location)\n",
    "counter_location=dict(c.most_common())\n",
    "#Convert to list for plotting\n",
    "domain=list(counter_location.keys())\n",
    "count=list(counter_location.values())\n",
    "\n",
    "dfplot = pd.DataFrame({'domain':domain[0:10], 'count':count[0:10]})\n",
    "ax = dfplot.plot.bar(x='domain', y='count', rot=0)"
   ]
  },
  {
   "cell_type": "code",
   "execution_count": null,
   "metadata": {},
   "outputs": [],
   "source": []
  }
 ],
 "metadata": {
  "kernelspec": {
   "display_name": "Python 3",
   "language": "python",
   "name": "python3"
  },
  "language_info": {
   "codemirror_mode": {
    "name": "ipython",
    "version": 3
   },
   "file_extension": ".py",
   "mimetype": "text/x-python",
   "name": "python",
   "nbconvert_exporter": "python",
   "pygments_lexer": "ipython3",
   "version": "3.6.7"
  }
 },
 "nbformat": 4,
 "nbformat_minor": 2
}
