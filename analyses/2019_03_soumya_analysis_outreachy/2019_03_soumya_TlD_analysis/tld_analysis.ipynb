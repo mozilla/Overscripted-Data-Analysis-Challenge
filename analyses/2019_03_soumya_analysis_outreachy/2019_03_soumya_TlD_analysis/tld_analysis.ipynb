{
 "cells": [
  {
   "cell_type": "markdown",
   "metadata": {},
   "source": [
    "# Analysis on TLD for fingerprining Scripts(Audio, Canvas, Font, WebRTC)\n",
    "\n",
    "### What does Top-Level Domain (TLD) mean?\n",
    "\n",
    "Top-level domain (TLD) refers to the last segment of a domain name, or the part that follows immediately after the \"dot\" symbol. Examples of some of the popular TLDs include .com, .org, .net, .gov, .biz and .edu. \n",
    "\n",
    "A top-level domain recognizes a certain element regarding the associated website, such as its objective (business, government, education), its owner, or the geographical area from which it originated.\n",
    "\n",
    "Each TLD includes an independent registry controlled by a specific organization, which is managed under the guidance of the Internet Corporation for Assigned Names and Numbers (ICANN).\n",
    "\n",
    "ICANN recognizes the following types of TLDs:\n",
    "\n",
    "- Generic Top-Level Domains (gTLD): These are the most popular types of TDLs. Some examples include \".edu\" for educational sites and .\"com\" for commercial sites. These types of TLDs are available for registration.\n",
    "\n",
    "- Country-Code Top-Level Domains (ccTLD): Every ccTLD recognizes a specific country and is generally two letters long. For example, the ccTLD for Australia is \".au\".\n",
    "\n",
    "- Sponsored Top-Level Domains (sTLD): These TLDs are supervised by private organizations.\n",
    "\n",
    "- Infrastructure Top-Level Domains: There is only one TLD in this category, which is \".arpa\". The Internet Assigned Numbers Authority controls this TLD for the Internet Engineering Task Force (IETF).\n",
    "\n",
    "## TLD and Web Searches\n",
    "Being found on the web is a necessity for any business, a recent study by Searchmetrics found only 11% of the web is actually visible. They analyzed over 100,000 domain names, and 75% go back to .com, which are by far the most visible TLD in a keyword search.\n",
    "    \n",
    "Over 1.17 Billion people use search, so optimizing your domain for Google's search engine is crucial if you want to be found. Google rewards companies that build brands, and brands are usually built on .coms. With only 11% of the web visible, small businesses with a proper brand strategy are the ones that pull ahead of the pack.\n",
    "\n",
    "One of the primary reasons behind the advantageous visibility of the .com TLD in relation to others is the fact that it's been the default domain since 1985. \n",
    "\n",
    "## What is the distribution of TLD for script_url, location in the 10% dataset and Fingerprinting Scripts?\n",
    "This notebook extracts the TLDs for script_url and location in the 10% dataset and Audio, Canvas, Font and WebRTC Fingerprinting scripts. It then calculates the frequency of the TLDs for both script_url and location for the dataset and fingerprinting scripts and plots a graph for better visiualization. The deductions from the computations are mentioned below.\n"
   ]
  },
  {
   "cell_type": "code",
   "execution_count": 1,
   "metadata": {},
   "outputs": [
    {
     "name": "stderr",
     "output_type": "stream",
     "text": [
      "/home/soumya/.conda/envs/overscripted/lib/python3.6/site-packages/dask/config.py:168: YAMLLoadWarning: calling yaml.load() without Loader=... is deprecated, as the default Loader is unsafe. Please read https://msg.pyyaml.org/load for full details.\n",
      "  data = yaml.load(f.read()) or {}\n",
      "/home/soumya/.conda/envs/overscripted/lib/python3.6/site-packages/distributed/config.py:20: YAMLLoadWarning: calling yaml.load() without Loader=... is deprecated, as the default Loader is unsafe. Please read https://msg.pyyaml.org/load for full details.\n",
      "  defaults = yaml.load(f)\n"
     ]
    },
    {
     "data": {
      "text/html": [
       "<table style=\"border: 2px solid white;\">\n",
       "<tr>\n",
       "<td style=\"vertical-align: top; border: 0px solid white\">\n",
       "<h3>Client</h3>\n",
       "<ul>\n",
       "  <li><b>Scheduler: </b>tcp://127.0.0.1:43585\n",
       "  <li><b>Dashboard: </b><a href='http://127.0.0.1:8787/status' target='_blank'>http://127.0.0.1:8787/status</a>\n",
       "</ul>\n",
       "</td>\n",
       "<td style=\"vertical-align: top; border: 0px solid white\">\n",
       "<h3>Cluster</h3>\n",
       "<ul>\n",
       "  <li><b>Workers: </b>4</li>\n",
       "  <li><b>Cores: </b>12</li>\n",
       "  <li><b>Memory: </b>8.25 GB</li>\n",
       "</ul>\n",
       "</td>\n",
       "</tr>\n",
       "</table>"
      ],
      "text/plain": [
       "<Client: scheduler='tcp://127.0.0.1:43585' processes=4 cores=12>"
      ]
     },
     "execution_count": 1,
     "metadata": {},
     "output_type": "execute_result"
    }
   ],
   "source": [
    "import pandas as pd\n",
    "import dask.dataframe as dd\n",
    "from dask.distributed import Client\n",
    "import json\n",
    "from collections import Counter\n",
    "Client()"
   ]
  },
  {
   "cell_type": "code",
   "execution_count": 3,
   "metadata": {},
   "outputs": [
    {
     "data": {
      "text/plain": [
       "array(['https://vk.com/js/api/xdm.js?1449919642',\n",
       "       'https://vk.com/js/al/aes_light.js?592436914',\n",
       "       'https://cpro.baidustatic.com/cpro/ui/noexpire/js/4.0.0/adClosefeedbackUpgrade.min.js',\n",
       "       'https://apis.google.com/js/plusone.js?_=1513387467959',\n",
       "       'https://apis.google.com/_/scs/apps-static/_/js/k=oz.gapi.en_US.u6kjN8qjK4c.O/m=plusone/rt=j/sv=1/d=1/ed=1/am=AQ/rs=AGLTcCNyWKI1jWTPxsTegkpGnwIGUlr0VQ/cb=gapi.loaded_0',\n",
       "       'https://assets.adobedtm.com/caacec67651710193d2331efef325107c23a0145/satelliteLib-78cf42deb149c9766cbaaa6151e252b9b67c0200.js',\n",
       "       'https://assets.adobedtm.com/caacec67651710193d2331efef325107c23a0145/s-code-contents-69cce4f42ae039e7c3974e2fa4292c5e7ad592ab.js',\n",
       "       'https://www.google-analytics.com/analytics.js',\n",
       "       'https://www.google-analytics.com/plugins/ua/linkid.js',\n",
       "       'https://www.canada.ca/etc/designs/canada/wet-boew/js/wet-boew.min.js'],\n",
       "      dtype=object)"
      ]
     },
     "execution_count": 3,
     "metadata": {},
     "output_type": "execute_result"
    }
   ],
   "source": [
    "\n",
    "df = pd.read_parquet(\n",
    "     '/home/soumya/Dataset/sample_0.parquet', engine='pyarrow',\n",
    "    columns=['script_url','location']\n",
    ")\n",
    "# Finding the unique scripts\n",
    "script_url_unique=df.script_url.unique()\n",
    "script_url_unique[0:10]"
   ]
  },
  {
   "cell_type": "code",
   "execution_count": 4,
   "metadata": {},
   "outputs": [
    {
     "data": {
      "text/plain": [
       "166862"
      ]
     },
     "execution_count": 4,
     "metadata": {},
     "output_type": "execute_result"
    }
   ],
   "source": [
    " len(script_url_unique)"
   ]
  },
  {
   "cell_type": "code",
   "execution_count": 5,
   "metadata": {},
   "outputs": [
    {
     "data": {
      "text/plain": [
       "array(['https://vk.com/widget_comments.php?app=2297596&width=100%25&_ver=1&limit=10&height=0&mini=auto&norealtime=0&page=0&status_publish=0&attach=*&url=https%3A%2F%2Fwww.gl5.ru%2Flena-katina-silent-hills.html&title=Lena%20Katina%20-%20Silent%20Hills%20%D1%82%D0%B5%D0%BA%D1%81%D1%82%20%D0%BF%D0%B5%D1%81%D0%BD%D0%B8(%D1%81%D0%BB%D0%BE%D0%B2%D0%B0)&description=Lena%20Katina%20-%20Silent%20Hills%20%D1%82%D0%B5%D0%BA%D1%81%D1%82%20%D0%BF%D0%B5%D1%81%D0%BD%D0%B8(%D1%81%D0%BB%D0%BE%D0%B2%D0%B0)&image=&startWidth=600&referrer=&16060b4b60d',\n",
       "       'https://pos.baidu.com/s?hei=70&wid=670&di=u3130587&ltu=https%3A%2F%2Fielts.liuxue86.com%2Fi%2F3040174.html&dis=0&pss=1353x4446&dri=0&ccd=24&ant=0&pis=-1x-1&cce=true&ti=%E5%88%A9%E7%94%A8%E7%B2%BE%E8%AF%BB%E5%88%86%E6%9E%90%E9%9B%85%E6%80%9D%E9%98%85%E8%AF%BB%E6%AE%B5%E8%90%BD&tpr=1513383844066&exps=111000&cfv=0&par=1366x768&dtm=HTML_POST&psr=1366x768&ps=3274x176&ari=2&cja=false&chi=1&prot=2&dai=8&tcn=1513383844&cec=UTF-8&drs=3&cpl=1&dc=2&cdo=-1&tlm=1513383844&pcs=1353x697&cmi=2&col=en-US',\n",
       "       'http://serienjunkies.org/smilf/smilf-season-1-web-sd720p1080p/',\n",
       "       'https://www.canada.ca/en/services.html',\n",
       "       'https://s0.2mdn.net/ads/richmedia/studio/pv2/60077505/20171018111035202/index.html?e=69&renderingType=2&leftOffset=0&topOffset=0&c=2PUWfWgMym&t=1',\n",
       "       'https://maniform.world.tmall.com/category-1282610376.htm?search=y&catName=%C8%C8%CF%FA%B1%AC%BF%EE',\n",
       "       'https://www.baseball-reference.com/teams/WSN/',\n",
       "       'https://platform.twitter.com/widgets/follow_button.64457a6e8f493e1f1022f50e4e7e67e8.en.html#dnt=false&id=twitter-widget-0&lang=en&screen_name=9animeto&show_count=true&show_screen_name=true&size=m&time=1513468753151',\n",
       "       'https://www.coches.net/fiat/segunda-mano/',\n",
       "       'https://pos.baidu.com/lcdm?rdid=3124385&dc=3&di=u3124385&dri=5&dis=0&dai=8&ps=7083x82&enu=encoding&dcb=___adblockplus&dtm=HTML_POST&dvi=0.0&dci=-1&dpt=none&tsr=0&tpr=1513378519926&ti=%E3%80%90%E6%B8%B8%E4%B9%90%E6%8E%A8%E5%9C%9F%E6%9C%BA%E3%80%91%E6%B8%B8%E4%B9%90%E6%8E%A8%E5%9C%9F%E6%9C%BA%E4%BB%B7%E6%A0%BC_%E6%B8%B8%E4%B9%90%E6%8E%A8%E5%9C%9F%E6%9C%BA%E6%8A%A5%E4%BB%B7%20-%20%E4%B8%AD%E5%9B%BD%E4%BE%9B%E5%BA%94%E5%95%86&ari=2&dbv=0&drs=1&pcs=1353x697&pss=1353x7377&cfv=0&cpl=1&chi=1&cce=true&cec=gbk&tlm=1513378520&prot=2&rw=697&ltu=https%3A%2F%2Fwww.china.cn%2Fsearch%2Ffs9r.shtml&ecd=1&uc=1366x768&pis=-1x-1&sr=1366x768&tcn=1513378521&qn=7d3461185284a84d&tt=1513378519836.1156.1469.1471'],\n",
       "      dtype=object)"
      ]
     },
     "execution_count": 5,
     "metadata": {},
     "output_type": "execute_result"
    }
   ],
   "source": [
    "# Finding the unique locations\n",
    "location_unique=df.location.unique()\n",
    "location_unique[0:10]"
   ]
  },
  {
   "cell_type": "code",
   "execution_count": 6,
   "metadata": {},
   "outputs": [
    {
     "data": {
      "text/plain": [
       "205949"
      ]
     },
     "execution_count": 6,
     "metadata": {},
     "output_type": "execute_result"
    }
   ],
   "source": [
    "len(location_unique)"
   ]
  },
  {
   "cell_type": "code",
   "execution_count": 7,
   "metadata": {
    "scrolled": true
   },
   "outputs": [
    {
     "data": {
      "text/plain": [
       "array(['vk.com', 'cpro.baidustatic.com', 'apis.google.com',\n",
       "       'assets.adobedtm.com', 'www.google-analytics.com', 'www.canada.ca',\n",
       "       's0.2mdn.net', 'g.alicdn.com', 'maniform.world.tmall.com',\n",
       "       'uaction.alicdn.com'], dtype=object)"
      ]
     },
     "execution_count": 7,
     "metadata": {},
     "output_type": "execute_result"
    }
   ],
   "source": [
    "# Finding the netloc of unique scripts \n",
    "from urllib.parse import urlparse\n",
    "\n",
    "EMPTY_STRING = 'EMPTY_STRING'\n",
    "\n",
    "def get_netloc(x):\n",
    "    p = urlparse(x)\n",
    "    val = p.netloc\n",
    "    if len(val) == 0:\n",
    "        val = EMPTY_STRING\n",
    "    return val\n",
    "\n",
    "script_netloc_unique= df.script_url.apply(get_netloc).unique()\n",
    "#script_netloc_uniquedf=pd.DataFrame(script_netloc_unique)\n",
    "script_netloc_unique[0:10]"
   ]
  },
  {
   "cell_type": "code",
   "execution_count": 8,
   "metadata": {},
   "outputs": [
    {
     "data": {
      "text/plain": [
       "20163"
      ]
     },
     "execution_count": 8,
     "metadata": {},
     "output_type": "execute_result"
    }
   ],
   "source": [
    "len(script_netloc_unique)"
   ]
  },
  {
   "cell_type": "code",
   "execution_count": 9,
   "metadata": {},
   "outputs": [
    {
     "data": {
      "text/plain": [
       "array(['vk.com', 'pos.baidu.com', 'serienjunkies.org', 'www.canada.ca',\n",
       "       's0.2mdn.net', 'maniform.world.tmall.com',\n",
       "       'www.baseball-reference.com', 'platform.twitter.com',\n",
       "       'www.coches.net', 'www.facebook.com'], dtype=object)"
      ]
     },
     "execution_count": 9,
     "metadata": {},
     "output_type": "execute_result"
    }
   ],
   "source": [
    "# Finding the netloc of unique locations\n",
    "location_netloc_unique= df.location.apply(get_netloc).unique()\n",
    "#location_netloc_uniquedf = pd.DataFrame(location_netloc_unique)\n",
    "location_netloc_unique[0:10]"
   ]
  },
  {
   "cell_type": "code",
   "execution_count": 10,
   "metadata": {},
   "outputs": [
    {
     "data": {
      "text/plain": [
       "20392"
      ]
     },
     "execution_count": 10,
     "metadata": {},
     "output_type": "execute_result"
    }
   ],
   "source": [
    "len(location_netloc_unique)"
   ]
  },
  {
   "cell_type": "code",
   "execution_count": 11,
   "metadata": {
    "scrolled": true
   },
   "outputs": [
    {
     "name": "stderr",
     "output_type": "stream",
     "text": [
      "/home/soumya/.conda/envs/overscripted/lib/python3.6/site-packages/dask/dataframe/core.py:2285: UserWarning: `meta` is not specified, inferred from partial data. Please provide `meta` if the result is unexpected.\n",
      "  Before: .apply(func)\n",
      "  After:  .apply(func, meta={'x': 'f8', 'y': 'f8'}) for dataframe result\n",
      "  or:     .apply(func, meta=('x', 'f8'))            for series result\n",
      "  warnings.warn(msg)\n"
     ]
    },
    {
     "data": {
      "text/html": [
       "<div>\n",
       "<style scoped>\n",
       "    .dataframe tbody tr th:only-of-type {\n",
       "        vertical-align: middle;\n",
       "    }\n",
       "\n",
       "    .dataframe tbody tr th {\n",
       "        vertical-align: top;\n",
       "    }\n",
       "\n",
       "    .dataframe thead th {\n",
       "        text-align: right;\n",
       "    }\n",
       "</style>\n",
       "<table border=\"1\" class=\"dataframe\">\n",
       "  <thead>\n",
       "    <tr style=\"text-align: right;\">\n",
       "      <th></th>\n",
       "      <th>script_url</th>\n",
       "      <th>location</th>\n",
       "      <th>script_netloc</th>\n",
       "      <th>script_netloc_extracttld</th>\n",
       "      <th>location_netloc</th>\n",
       "      <th>location_netloc_extracttld</th>\n",
       "    </tr>\n",
       "    <tr>\n",
       "      <th>call_id</th>\n",
       "      <th></th>\n",
       "      <th></th>\n",
       "      <th></th>\n",
       "      <th></th>\n",
       "      <th></th>\n",
       "      <th></th>\n",
       "    </tr>\n",
       "  </thead>\n",
       "  <tbody>\n",
       "    <tr>\n",
       "      <th>1_00006011493ed94fb8010cead84ee610cdbece5de961abe96f0cba54.json__0</th>\n",
       "      <td>https://vk.com/js/api/xdm.js?1449919642</td>\n",
       "      <td>https://vk.com/widget_comments.php?app=2297596...</td>\n",
       "      <td>vk.com</td>\n",
       "      <td>com</td>\n",
       "      <td>vk.com</td>\n",
       "      <td>com</td>\n",
       "    </tr>\n",
       "    <tr>\n",
       "      <th>1_00006011493ed94fb8010cead84ee610cdbece5de961abe96f0cba54.json__1</th>\n",
       "      <td>https://vk.com/js/api/xdm.js?1449919642</td>\n",
       "      <td>https://vk.com/widget_comments.php?app=2297596...</td>\n",
       "      <td>vk.com</td>\n",
       "      <td>com</td>\n",
       "      <td>vk.com</td>\n",
       "      <td>com</td>\n",
       "    </tr>\n",
       "    <tr>\n",
       "      <th>1_00006011493ed94fb8010cead84ee610cdbece5de961abe96f0cba54.json__2</th>\n",
       "      <td>https://vk.com/js/al/aes_light.js?592436914</td>\n",
       "      <td>https://vk.com/widget_comments.php?app=2297596...</td>\n",
       "      <td>vk.com</td>\n",
       "      <td>com</td>\n",
       "      <td>vk.com</td>\n",
       "      <td>com</td>\n",
       "    </tr>\n",
       "    <tr>\n",
       "      <th>1_00006b1ad6ce7a5b2b81a8ef96f0778853ea6d81a97693d85a52790c.json__0</th>\n",
       "      <td>https://cpro.baidustatic.com/cpro/ui/noexpire/...</td>\n",
       "      <td>https://pos.baidu.com/s?hei=70&amp;wid=670&amp;di=u313...</td>\n",
       "      <td>cpro.baidustatic.com</td>\n",
       "      <td>com</td>\n",
       "      <td>pos.baidu.com</td>\n",
       "      <td>com</td>\n",
       "    </tr>\n",
       "    <tr>\n",
       "      <th>1_0000813d43acf1fe219ada01597cfb1d5dc9c12b61f343c6cfac362b.json__0</th>\n",
       "      <td>https://apis.google.com/js/plusone.js?_=151338...</td>\n",
       "      <td>http://serienjunkies.org/smilf/smilf-season-1-...</td>\n",
       "      <td>apis.google.com</td>\n",
       "      <td>com</td>\n",
       "      <td>serienjunkies.org</td>\n",
       "      <td>org</td>\n",
       "    </tr>\n",
       "  </tbody>\n",
       "</table>\n",
       "</div>"
      ],
      "text/plain": [
       "                                                                                           script_url  \\\n",
       "call_id                                                                                                 \n",
       "1_00006011493ed94fb8010cead84ee610cdbece5de961a...            https://vk.com/js/api/xdm.js?1449919642   \n",
       "1_00006011493ed94fb8010cead84ee610cdbece5de961a...            https://vk.com/js/api/xdm.js?1449919642   \n",
       "1_00006011493ed94fb8010cead84ee610cdbece5de961a...        https://vk.com/js/al/aes_light.js?592436914   \n",
       "1_00006b1ad6ce7a5b2b81a8ef96f0778853ea6d81a9769...  https://cpro.baidustatic.com/cpro/ui/noexpire/...   \n",
       "1_0000813d43acf1fe219ada01597cfb1d5dc9c12b61f34...  https://apis.google.com/js/plusone.js?_=151338...   \n",
       "\n",
       "                                                                                             location  \\\n",
       "call_id                                                                                                 \n",
       "1_00006011493ed94fb8010cead84ee610cdbece5de961a...  https://vk.com/widget_comments.php?app=2297596...   \n",
       "1_00006011493ed94fb8010cead84ee610cdbece5de961a...  https://vk.com/widget_comments.php?app=2297596...   \n",
       "1_00006011493ed94fb8010cead84ee610cdbece5de961a...  https://vk.com/widget_comments.php?app=2297596...   \n",
       "1_00006b1ad6ce7a5b2b81a8ef96f0778853ea6d81a9769...  https://pos.baidu.com/s?hei=70&wid=670&di=u313...   \n",
       "1_0000813d43acf1fe219ada01597cfb1d5dc9c12b61f34...  http://serienjunkies.org/smilf/smilf-season-1-...   \n",
       "\n",
       "                                                           script_netloc  \\\n",
       "call_id                                                                    \n",
       "1_00006011493ed94fb8010cead84ee610cdbece5de961a...                vk.com   \n",
       "1_00006011493ed94fb8010cead84ee610cdbece5de961a...                vk.com   \n",
       "1_00006011493ed94fb8010cead84ee610cdbece5de961a...                vk.com   \n",
       "1_00006b1ad6ce7a5b2b81a8ef96f0778853ea6d81a9769...  cpro.baidustatic.com   \n",
       "1_0000813d43acf1fe219ada01597cfb1d5dc9c12b61f34...       apis.google.com   \n",
       "\n",
       "                                                   script_netloc_extracttld  \\\n",
       "call_id                                                                       \n",
       "1_00006011493ed94fb8010cead84ee610cdbece5de961a...                      com   \n",
       "1_00006011493ed94fb8010cead84ee610cdbece5de961a...                      com   \n",
       "1_00006011493ed94fb8010cead84ee610cdbece5de961a...                      com   \n",
       "1_00006b1ad6ce7a5b2b81a8ef96f0778853ea6d81a9769...                      com   \n",
       "1_0000813d43acf1fe219ada01597cfb1d5dc9c12b61f34...                      com   \n",
       "\n",
       "                                                      location_netloc  \\\n",
       "call_id                                                                 \n",
       "1_00006011493ed94fb8010cead84ee610cdbece5de961a...             vk.com   \n",
       "1_00006011493ed94fb8010cead84ee610cdbece5de961a...             vk.com   \n",
       "1_00006011493ed94fb8010cead84ee610cdbece5de961a...             vk.com   \n",
       "1_00006b1ad6ce7a5b2b81a8ef96f0778853ea6d81a9769...      pos.baidu.com   \n",
       "1_0000813d43acf1fe219ada01597cfb1d5dc9c12b61f34...  serienjunkies.org   \n",
       "\n",
       "                                                   location_netloc_extracttld  \n",
       "call_id                                                                        \n",
       "1_00006011493ed94fb8010cead84ee610cdbece5de961a...                        com  \n",
       "1_00006011493ed94fb8010cead84ee610cdbece5de961a...                        com  \n",
       "1_00006011493ed94fb8010cead84ee610cdbece5de961a...                        com  \n",
       "1_00006b1ad6ce7a5b2b81a8ef96f0778853ea6d81a9769...                        com  \n",
       "1_0000813d43acf1fe219ada01597cfb1d5dc9c12b61f34...                        org  "
      ]
     },
     "execution_count": 11,
     "metadata": {},
     "output_type": "execute_result"
    }
   ],
   "source": [
    "\n",
    "dff = dd.read_parquet(\n",
    "     '/home/soumya/Dataset/sample_0.parquet', engine='pyarrow',\n",
    "    columns=['script_url','location']\n",
    ")\n",
    "def get_netloc(x):\n",
    "    p = urlparse(x)\n",
    "    val = p.netloc\n",
    "    if len(val) == 0:\n",
    "        val = EMPTY_STRING\n",
    "    return val\n",
    "def get_end_of_net_loc(x):\n",
    "    splits = x.split('.')\n",
    "    val = splits[-1]\n",
    "    return val\n",
    "#Extract TLD for each script_url\n",
    "dff['script_netloc'] = dff.script_url.apply(get_netloc)\n",
    "dff['script_netloc_extracttld']=dff.script_netloc.apply(get_end_of_net_loc, meta= 'O')\n",
    "\n",
    "#Extract TLD for each location\n",
    "dff['location_netloc'] = dff.location.apply(get_netloc, meta='O')\n",
    "dff['location_netloc_extracttld']=dff.location_netloc.apply(get_end_of_net_loc, meta= 'O')\n",
    "dff.head()\n",
    "\n"
   ]
  },
  {
   "cell_type": "code",
   "execution_count": 14,
   "metadata": {},
   "outputs": [
    {
     "data": {
      "text/plain": [
       "281"
      ]
     },
     "execution_count": 14,
     "metadata": {},
     "output_type": "execute_result"
    }
   ],
   "source": [
    "# Count of unique TLD in script_url\n",
    "count=dff.script_netloc_extracttld.nunique().compute()\n",
    "count"
   ]
  },
  {
   "cell_type": "code",
   "execution_count": 15,
   "metadata": {},
   "outputs": [
    {
     "data": {
      "text/plain": [
       "252"
      ]
     },
     "execution_count": 15,
     "metadata": {},
     "output_type": "execute_result"
    }
   ],
   "source": [
    "# Count of unique TLD in location\n",
    "count=dff.location_netloc_extracttld.nunique().compute()\n",
    "count"
   ]
  },
  {
   "cell_type": "markdown",
   "metadata": {},
   "source": [
    "## Frequency of each TLD in the dataset for script_url"
   ]
  },
  {
   "cell_type": "code",
   "execution_count": 16,
   "metadata": {
    "scrolled": true
   },
   "outputs": [
    {
     "data": {
      "text/plain": [
       "script_netloc_extracttld\n",
       "com    7336833\n",
       "net    1898419\n",
       "ru      630262\n",
       "cn      154068\n",
       "de      153067\n",
       "fr       85601\n",
       "jp       70494\n",
       "ch       59317\n",
       "au       46514\n",
       "org      45280\n",
       "dtype: int64"
      ]
     },
     "execution_count": 16,
     "metadata": {},
     "output_type": "execute_result"
    }
   ],
   "source": [
    "Frequency_script_url=dff.groupby('script_netloc_extracttld').size().compute().sort_values(ascending=False)\n",
    "Frequency_script_url[0:10]"
   ]
  },
  {
   "cell_type": "markdown",
   "metadata": {},
   "source": [
    "## Frequency of each TLD in the dataset for location"
   ]
  },
  {
   "cell_type": "code",
   "execution_count": 17,
   "metadata": {},
   "outputs": [
    {
     "data": {
      "text/plain": [
       "location_netloc_extracttld\n",
       "com    6370062\n",
       "net     753381\n",
       "ru      734510\n",
       "de      341844\n",
       "cn      203269\n",
       "fr      186050\n",
       "uk      171826\n",
       "jp      160152\n",
       "au      130255\n",
       "org     125585\n",
       "dtype: int64"
      ]
     },
     "execution_count": 17,
     "metadata": {},
     "output_type": "execute_result"
    }
   ],
   "source": [
    "## Frequency of each TLD in the dataset for script_url\n",
    "Frequency_location=dff.groupby('location_netloc_extracttld').size().compute().sort_values(ascending=False)\n",
    "Frequency_location[0:10]"
   ]
  },
  {
   "cell_type": "markdown",
   "metadata": {},
   "source": [
    "## Top 10 TLD in the Data for script_url"
   ]
  },
  {
   "cell_type": "code",
   "execution_count": 18,
   "metadata": {},
   "outputs": [
    {
     "name": "stdout",
     "output_type": "stream",
     "text": [
      "['com', 'net', 'ru', 'cn', 'de', 'fr', 'jp', 'ch', 'au', 'org']\n"
     ]
    }
   ],
   "source": [
    "temp=[]\n",
    "temp_url=[]\n",
    "for i in range(0,10):\n",
    "    temp.append(Frequency_script_url[i])\n",
    "    temp_url.append(Frequency_script_url.index[i])\n",
    "print(temp_url)"
   ]
  },
  {
   "cell_type": "code",
   "execution_count": 19,
   "metadata": {
    "scrolled": true
   },
   "outputs": [],
   "source": [
    "dfplot = pd.DataFrame({'domain':temp_url, 'val':temp})\n",
    "ax = dfplot.plot.bar(x='domain', y='val', rot=0) "
   ]
  },
  {
   "cell_type": "markdown",
   "metadata": {},
   "source": [
    "This shows the dataset consists of a maximum of .com(commercial) TLD followed by .net(network) for the called scripts.\n",
    "It also shows the distribution of scripts accross different countries with the help of country specific TLDs. It shows .ru is at the top followed by .cn."
   ]
  },
  {
   "cell_type": "markdown",
   "metadata": {},
   "source": [
    "## Top 10 TLD in the Data for location"
   ]
  },
  {
   "cell_type": "code",
   "execution_count": 21,
   "metadata": {},
   "outputs": [
    {
     "name": "stdout",
     "output_type": "stream",
     "text": [
      "['com', 'net', 'ru', 'de', 'cn', 'fr', 'uk', 'jp', 'au', 'org']\n"
     ]
    }
   ],
   "source": [
    "temp_loc=[]\n",
    "temp_url_loc=[]\n",
    "for i in range(0,10):\n",
    "    temp_loc.append(Frequency_location[i])\n",
    "    temp_url_loc.append(Frequency_location.index[i])\n",
    "print(temp_url_loc)"
   ]
  },
  {
   "cell_type": "code",
   "execution_count": 22,
   "metadata": {},
   "outputs": [
    {
     "data": {
      "image/png": "[encoded data removed]",
      "text/plain": [
       "<Figure size 432x288 with 1 Axes>"
      ]
     },
     "metadata": {
      "needs_background": "light"
     },
     "output_type": "display_data"
    }
   ],
   "source": [
    "dfplot = pd.DataFrame({'domain':temp_url_loc, 'val':temp_loc})\n",
    "ax = dfplot.plot.bar(x='domain', y='val', rot=0) "
   ]
  },
  {
   "cell_type": "markdown",
   "metadata": {},
   "source": [
    "The location TLDS in the dataset consists of a maximum of .com(commercial) TLD followed by .net(network).The distribution of location scripts accross different countries wich can be seen with the help of country specific TLDs shows .ru is at the top followed by .de.\n",
    "\n",
    "We can observe, in the 10% dataset out of the total 11,292,867 locations 6,370,062 locations constitute the .com TLDs which percents to 56.4%.  \n",
    "\n",
    "The called scripts(scrits_url) consists of 7,336,833.com urls which is fact greater than the number of TLDS for location\n"
   ]
  },
  {
   "cell_type": "markdown",
   "metadata": {},
   "source": [
    "## Audio Fingerprinting\n",
    "\n",
    "An audio fingerprint (also referred to as an acoustic fingerprint) is a compact representation of some audio that encapsulates information that is specific to the audio that it represents. The role of an audio fingerprint is to capture the signature of a piece of sound, such as a song, that allows it to be differentiated from other sounds."
   ]
  },
  {
   "cell_type": "markdown",
   "metadata": {},
   "source": [
    "## TLD in the Audio Fingerprinting Scripts\n",
    "[Refer]() for the code to extract TLD."
   ]
  },
  {
   "cell_type": "code",
   "execution_count": 23,
   "metadata": {},
   "outputs": [
    {
     "data": {
      "text/plain": [
       "{'com': 31, 'net': 14, 'org': 2, 'vn': 2, 'pub': 1, 'st': 1, 'io': 1}"
      ]
     },
     "execution_count": 23,
     "metadata": {},
     "output_type": "execute_result"
    }
   ],
   "source": [
    "with open('audio_script_url.json', 'r') as f:\n",
    "    audio_script_url_plot = json.load(f)\n",
    "\n",
    "# Arange in descending order    \n",
    "c=Counter(audio_script_url_plot)\n",
    "audio_script_url_plot=dict(c.most_common())\n",
    "audio_script_url_plot"
   ]
  },
  {
   "cell_type": "code",
   "execution_count": 24,
   "metadata": {},
   "outputs": [
    {
     "data": {
      "image/png": "[encoded data removed]",
      "text/plain": [
       "<Figure size 432x288 with 1 Axes>"
      ]
     },
     "metadata": {
      "needs_background": "light"
     },
     "output_type": "display_data"
    }
   ],
   "source": [
    "#Convert to list for plotting\n",
    "domain=list(audio_script_url_plot.keys())\n",
    "count=list(audio_script_url_plot.values())\n",
    "\n",
    "dfplot = pd.DataFrame({'domain':domain, 'count':count})\n",
    "ax = dfplot.plot.bar(x='domain', y='count', rot=0)"
   ]
  },
  {
   "cell_type": "markdown",
   "metadata": {},
   "source": [
    "For font fingerprinting scripts out of 54 scripts 31 are of.com which percents to 54.40% followed by .net ie. 14/54 and percents to 25.92. "
   ]
  },
  {
   "cell_type": "markdown",
   "metadata": {},
   "source": [
    "## For location"
   ]
  },
  {
   "cell_type": "code",
   "execution_count": 25,
   "metadata": {},
   "outputs": [
    {
     "data": {
      "text/plain": [
       "{'com': 125,\n",
       " 'net': 17,\n",
       " 'vn': 16,\n",
       " 'org': 15,\n",
       " 'com.vn': 4,\n",
       " 'ru': 2,\n",
       " 'co.uk': 2,\n",
       " 'es': 1,\n",
       " 'com.hk': 1,\n",
       " 'tv': 1}"
      ]
     },
     "execution_count": 25,
     "metadata": {},
     "output_type": "execute_result"
    }
   ],
   "source": [
    "with open('audio_location.json', 'r') as f:\n",
    "    audio_location_plot = json.load(f)\n",
    "\n",
    "# Arrange in descending order    \n",
    "c=Counter(audio_location_plot)\n",
    "audio_location_plot=dict(c.most_common())\n",
    "audio_location_plot\n",
    "\n"
   ]
  },
  {
   "cell_type": "code",
   "execution_count": 26,
   "metadata": {},
   "outputs": [
    {
     "data": {
      "image/png": "[encoded data removed]",
      "text/plain": [
       "<Figure size 432x288 with 1 Axes>"
      ]
     },
     "metadata": {
      "needs_background": "light"
     },
     "output_type": "display_data"
    }
   ],
   "source": [
    "#Convert to list for plotting\n",
    "domain=list(audio_location_plot.keys())\n",
    "count=list(audio_location_plot.values())\n",
    "\n",
    "dfplot = pd.DataFrame({'domain':domain, 'count':count})\n",
    "ax = dfplot.plot.bar(x='domain', y='count', rot=0)\n"
   ]
  },
  {
   "cell_type": "markdown",
   "metadata": {},
   "source": [
    "For font fingerprinting scripts out of 184 locations 125 are of.com which percents to 67.93%."
   ]
  },
  {
   "cell_type": "markdown",
   "metadata": {},
   "source": [
    "## Canvas Fingerprinting\n",
    "\n",
    "Canvas fingerprinting is one of a number of browser fingerprinting techniques for tracking online users that allow websites to identify and track visitors using the HTML5 canvas element instead of browser cookies or other similar means. \n",
    "As described by Acar et. al. in [The Web never forgets: Persistent tracking mechanisms in the wild](https://securehomes.esat.kuleuven.be/~gacar/persistent/index.html)\n",
    "Fingerprinting script first draws text with the font and size of its choice and adds background colors (1). Next, the script calls Canvas API’s ToDataURL method to get the canvas pixel data in dataURL format (2), which is basically a Base64 encoded representation of the binary pixel data. Finally, the script takes the hash of the text-encoded pixel data (3), which serves as the fingerprint "
   ]
  },
  {
   "cell_type": "markdown",
   "metadata": {},
   "source": [
    "## TLD in the Canvas Fingerprinting Scripts \n",
    "[Refer]() for the code to extract TLD."
   ]
  },
  {
   "cell_type": "markdown",
   "metadata": {},
   "source": [
    "## For script_url"
   ]
  },
  {
   "cell_type": "code",
   "execution_count": 45,
   "metadata": {},
   "outputs": [
    {
     "data": {
      "text/plain": [
       "{'com': 851,\n",
       " 'network': 118,\n",
       " 'net': 96,\n",
       " 'es': 83,\n",
       " 'cn': 52,\n",
       " 'de': 44,\n",
       " 'ca': 36,\n",
       " 'co.uk': 35,\n",
       " 'it': 23,\n",
       " 'co.jp': 15,\n",
       " 'pl': 12,\n",
       " 'com.tw': 10,\n",
       " 'fr': 10,\n",
       " 'ru': 8,\n",
       " 'io': 8,\n",
       " 'ws': 6,\n",
       " 'com.br': 6,\n",
       " 'ch': 6,\n",
       " 'org': 5,\n",
       " 'in': 4,\n",
       " 'sexy': 4,\n",
       " '': 3,\n",
       " 'hk': 3,\n",
       " 'nl': 3,\n",
       " 'cz': 3,\n",
       " 'tv': 2,\n",
       " 'az': 2,\n",
       " 'vn': 2,\n",
       " 'vc': 2,\n",
       " 'cc': 2,\n",
       " 'ly': 2,\n",
       " 're': 2,\n",
       " 'co.il': 1,\n",
       " 'sk': 1,\n",
       " 'net.cn': 1,\n",
       " 'jp': 1,\n",
       " 'dhl': 1,\n",
       " 'gs': 1,\n",
       " 'systems': 1,\n",
       " 'biz': 1,\n",
       " 'com.au': 1,\n",
       " 'pub': 1,\n",
       " 'jo': 1,\n",
       " 'ai': 1,\n",
       " 'st': 1,\n",
       " 'pro': 1,\n",
       " 'org.br': 1}"
      ]
     },
     "execution_count": 45,
     "metadata": {},
     "output_type": "execute_result"
    }
   ],
   "source": [
    "with open('canvas_script_url.json', 'r') as f:\n",
    "    canvas_script_url_plot = json.load(f)\n",
    "\n",
    "# Arrange in descending order    \n",
    "c=Counter(canvas_script_url_plot)\n",
    "canvas_script_url_plot=dict(c.most_common())\n",
    "canvas_script_url_plot\n"
   ]
  },
  {
   "cell_type": "code",
   "execution_count": 28,
   "metadata": {
    "scrolled": false
   },
   "outputs": [
    {
     "data": {
      "image/png": "[encoded data removed]",
      "text/plain": [
       "<Figure size 432x288 with 1 Axes>"
      ]
     },
     "metadata": {
      "needs_background": "light"
     },
     "output_type": "display_data"
    }
   ],
   "source": [
    "#Convert to list for plotting\n",
    "domain=list(canvas_script_url_plot.keys())\n",
    "count=list(canvas_script_url_plot.values())\n",
    "\n",
    "dfplot = pd.DataFrame({'domain':domain[0:10], 'count':count[0:10]})\n",
    "ax = dfplot.plot.bar(x='domain', y='count', rot=0)"
   ]
  },
  {
   "cell_type": "markdown",
   "metadata": {},
   "source": [
    "In canvas fingerprinting scripts out of 1473 script_url 851 are of .com com which is  57.77%."
   ]
  },
  {
   "cell_type": "markdown",
   "metadata": {},
   "source": [
    "## For location"
   ]
  },
  {
   "cell_type": "code",
   "execution_count": 47,
   "metadata": {},
   "outputs": [
    {
     "data": {
      "text/plain": [
       "{'com': 2235,\n",
       " 'net': 182,\n",
       " 'es': 137,\n",
       " 'network': 112,\n",
       " 'de': 93,\n",
       " 'fr': 74,\n",
       " 'it': 74,\n",
       " 'co.uk': 74,\n",
       " 'cn': 69,\n",
       " 'ru': 68,\n",
       " 'ca': 57,\n",
       " 'org': 40,\n",
       " 'com.tw': 31,\n",
       " 'tv': 28,\n",
       " 'co': 26,\n",
       " 'gov': 24,\n",
       " 'pl': 21,\n",
       " 'cz': 20,\n",
       " 'jp': 20,\n",
       " 'ws': 20,\n",
       " 'cc': 18,\n",
       " 'sc': 18,\n",
       " 'co.jp': 18,\n",
       " 'vn': 17,\n",
       " 'com.br': 16,\n",
       " 'in': 15,\n",
       " 'ch': 11,\n",
       " 'com.cn': 10,\n",
       " 'edu': 10,\n",
       " 'lol': 9,\n",
       " 'io': 8,\n",
       " 'ac.uk': 7,\n",
       " 'com.hk': 5,\n",
       " 'biz': 5,\n",
       " 'sexy': 4,\n",
       " 'com.vn': 4,\n",
       " 'hk': 4,\n",
       " 'co.il': 4,\n",
       " 'az': 4,\n",
       " 'to': 3,\n",
       " 'ie': 3,\n",
       " 'sk': 3,\n",
       " 'zone': 3,\n",
       " 'com.au': 3,\n",
       " 'nl': 3,\n",
       " 'watch': 3,\n",
       " 'at': 2,\n",
       " 'ec': 2,\n",
       " 'club': 2,\n",
       " 'bz': 2,\n",
       " 'com.tr': 2,\n",
       " 'vc': 2,\n",
       " 'dhl': 1,\n",
       " 'pw': 1,\n",
       " 'co.za': 1,\n",
       " 'co.kr': 1,\n",
       " 'no': 1,\n",
       " 'eu': 1,\n",
       " 'gp': 1,\n",
       " 'jo': 1,\n",
       " 'com.uy': 1,\n",
       " 'co.th': 1}"
      ]
     },
     "execution_count": 47,
     "metadata": {},
     "output_type": "execute_result"
    }
   ],
   "source": [
    "with open('canvas_location.json', 'r') as f:\n",
    "    canvas_location_plot = json.load(f)\n",
    "\n",
    "# Arrange in descending order    \n",
    "c=Counter(canvas_location_plot)\n",
    "canvas_location_plot=dict(c.most_common())\n",
    "canvas_location_plot\n"
   ]
  },
  {
   "cell_type": "code",
   "execution_count": 30,
   "metadata": {},
   "outputs": [
    {
     "data": {
      "image/png": "[encoded data removed]",
      "text/plain": [
       "<Figure size 432x288 with 1 Axes>"
      ]
     },
     "metadata": {
      "needs_background": "light"
     },
     "output_type": "display_data"
    }
   ],
   "source": [
    "#Convert to list for plotting\n",
    "domain=list(canvas_location_plot.keys())\n",
    "count=list(canvas_location_plot.values())\n",
    "\n",
    "dfplot = pd.DataFrame({'domain':domain[0:10], 'count':count[0:10]})\n",
    "ax = dfplot.plot.bar(x='domain', y='count', rot=0)"
   ]
  },
  {
   "cell_type": "markdown",
   "metadata": {},
   "source": [
    "In canvas fingerprinting scripts out of 3635 locations 2235 are of .com com which is 61.48%."
   ]
  },
  {
   "cell_type": "markdown",
   "metadata": {},
   "source": [
    "## Font Fingerprinting \n",
    "\n",
    "Font fingerprinting – is what fonts you have, and how they are drawn. Based on measuring dimensions of the filled with text HTML elements, it is possible to build an identifier that can be used to track the same browser over time.\n",
    "\n",
    "The font is a file used by programs on your device when they want to display a text with a certain shape for the characters. For example, in Windows, the font files are located in the C:WindowsFonts folder.\n",
    "Your device has a list of fonts that can be used. Standard fonts are those fonts that came with your operating system. But most of the software you installed on your device brings with them other fonts during software installation. The chances of you having the same programs installed on your device as another individual are very small (it’s just like the lottery), so you will have a list of fonts installed that is almost certainly unique.\n",
    "Because any website you visit can see almost all your list of fonts, this site can recognize you the next time you access it.\n",
    "\n",
    "\n",
    "Font metric-based fingerprinting is tightly crossed with the canvas fingerprinting. It is probably weaker fingerprinting technique, since canvas gets not only bounding boxes but also pixel data. On the other hand font fingerprinting is much more difficult to defend.\n",
    "\n"
   ]
  },
  {
   "cell_type": "markdown",
   "metadata": {},
   "source": [
    "## TLD in the Font Fingerprinting Scripts\n",
    "\n",
    "[Refer]() for the code to extract TLD."
   ]
  },
  {
   "cell_type": "markdown",
   "metadata": {},
   "source": [
    "## For script_url"
   ]
  },
  {
   "cell_type": "code",
   "execution_count": 31,
   "metadata": {},
   "outputs": [
    {
     "data": {
      "text/plain": [
       "{'network': 110, 'com': 49, 'net': 4, 'vn': 2}"
      ]
     },
     "execution_count": 31,
     "metadata": {},
     "output_type": "execute_result"
    }
   ],
   "source": [
    "with open('font_script_url.json', 'r') as f:\n",
    "    font_script_url_plot = json.load(f)\n",
    "    \n",
    "# Arrange in descending order    \n",
    "c=Counter(font_script_url_plot)\n",
    "font_script_url_plot=dict(c.most_common())\n",
    "font_script_url_plot\n"
   ]
  },
  {
   "cell_type": "code",
   "execution_count": 33,
   "metadata": {},
   "outputs": [
    {
     "data": {
      "image/png": "[encoded data removed]",
      "text/plain": [
       "<Figure size 432x288 with 1 Axes>"
      ]
     },
     "metadata": {
      "needs_background": "light"
     },
     "output_type": "display_data"
    }
   ],
   "source": [
    "#Convert to list for plotting\n",
    "domain=list(font_script_url_plot.keys())\n",
    "count=list(font_script_url_plot.values())\n",
    "\n",
    "dfplot = pd.DataFrame({'domain':domain, 'count':count})\n",
    "ax = dfplot.plot.bar(x='domain', y='count', rot=0)\n"
   ]
  },
  {
   "cell_type": "markdown",
   "metadata": {},
   "source": [
    "In font fingerprinting scripts out of 165 script_url 110 are of .network which is 66.66% and it is followed by .com  constituting 49/165 ie. 29.69%."
   ]
  },
  {
   "cell_type": "markdown",
   "metadata": {},
   "source": [
    "## For location"
   ]
  },
  {
   "cell_type": "code",
   "execution_count": 34,
   "metadata": {},
   "outputs": [
    {
     "data": {
      "text/plain": [
       "{'network': 110,\n",
       " 'com': 73,\n",
       " 'vn': 16,\n",
       " 'net': 16,\n",
       " 'com.vn': 4,\n",
       " 'com.tr': 2,\n",
       " 'in': 2,\n",
       " 'gr': 1,\n",
       " 'eu': 1,\n",
       " 'com.ar': 1,\n",
       " 'fi': 1,\n",
       " 'es': 1,\n",
       " 'com.uy': 1}"
      ]
     },
     "execution_count": 34,
     "metadata": {},
     "output_type": "execute_result"
    }
   ],
   "source": [
    "with open('font_location.json', 'r') as f:\n",
    "    font_location_plot = json.load(f)\n",
    "\n",
    "# Arrange in descending order    \n",
    "c=Counter(font_location_plot)\n",
    "font_location_plot=dict(c.most_common())\n",
    "font_location_plot\n",
    "\n"
   ]
  },
  {
   "cell_type": "code",
   "execution_count": 35,
   "metadata": {},
   "outputs": [
    {
     "data": {
      "image/png": "[encoded data removed]",
      "text/plain": [
       "<Figure size 432x288 with 1 Axes>"
      ]
     },
     "metadata": {
      "needs_background": "light"
     },
     "output_type": "display_data"
    }
   ],
   "source": [
    "#Convert to list for plotting\n",
    "domain=list(font_location_plot.keys())\n",
    "count=list(font_location_plot.values())\n",
    "\n",
    "dfplot = pd.DataFrame({'domain':domain, 'count':count})\n",
    "ax = dfplot.plot.bar(x='domain', y='count', rot=0)\n"
   ]
  },
  {
   "cell_type": "markdown",
   "metadata": {},
   "source": [
    "In font fingerprinting scripts out of 229 locations_url 110 are of .network which is 48.03% and it is followed by .com  constituting 73/229 ie. 31.87%.\n",
    "Unlike others Font fingerprinting shows the .network TLD scripts are the highest contributors followed by .com."
   ]
  },
  {
   "cell_type": "markdown",
   "metadata": {},
   "source": [
    "## WebRTC Fingerprinting\n",
    "\n",
    "[WebRTC](http://randomwalker.info/publications/OpenWPM_1_million_site_tracking_measurement.pdf) is a framework for peer-to-peer Real Time Communication in the browser, and acces-sible via Javascript. To discover the best network path between peers, each peer collects all available candidate addresses, including addresses from the local network interfaces (such as ethernet or WiFi) and addresses from the public side of the NAT and makes them available to the web application without explicit permission from the user.\n",
    "\n",
    "\n"
   ]
  },
  {
   "cell_type": "markdown",
   "metadata": {},
   "source": [
    "## TLD in the WebRTC Fingerprinting Scripts\n",
    "[Refer]() for the code to extract TLD."
   ]
  },
  {
   "cell_type": "markdown",
   "metadata": {},
   "source": [
    "## For script_url"
   ]
  },
  {
   "cell_type": "code",
   "execution_count": 36,
   "metadata": {},
   "outputs": [
    {
     "data": {
      "text/plain": [
       "{'com': 143,\n",
       " 'cn': 42,\n",
       " 'ua': 22,\n",
       " 'net': 11,\n",
       " 'photos': 4,\n",
       " 'vn': 2,\n",
       " 're': 2,\n",
       " 'com.br': 1,\n",
       " '': 1,\n",
       " 'io': 1,\n",
       " 'es': 1}"
      ]
     },
     "execution_count": 36,
     "metadata": {},
     "output_type": "execute_result"
    }
   ],
   "source": [
    "with open('WebRTC_script_url.json', 'r') as f:\n",
    "    WebRTC_script_url_plot = json.load(f)\n",
    "\n",
    "# Arrange in descending order    \n",
    "c=Counter(WebRTC_script_url_plot)\n",
    "WebRTC_script_url_plot=dict(c.most_common())\n",
    "WebRTC_script_url_plot\n"
   ]
  },
  {
   "cell_type": "code",
   "execution_count": 37,
   "metadata": {
    "scrolled": false
   },
   "outputs": [
    {
     "data": {
      "image/png": "[encoded data removed]",
      "text/plain": [
       "<Figure size 432x288 with 1 Axes>"
      ]
     },
     "metadata": {
      "needs_background": "light"
     },
     "output_type": "display_data"
    }
   ],
   "source": [
    "#Convert to list for plotting\n",
    "domain=list(WebRTC_script_url_plot.keys())\n",
    "count=list(WebRTC_script_url_plot.values())\n",
    "\n",
    "dfplot = pd.DataFrame({'domain':domain, 'count':count})\n",
    "ax = dfplot.plot.bar(x='domain', y='count', rot=0)"
   ]
  },
  {
   "cell_type": "markdown",
   "metadata": {},
   "source": [
    "It can be seen that highest contributor is .com ie 143/230 and percents to 62.17% to followed by .cn .ua and .net is followed by them.\n"
   ]
  },
  {
   "cell_type": "markdown",
   "metadata": {},
   "source": [
    "## For location"
   ]
  },
  {
   "cell_type": "code",
   "execution_count": 48,
   "metadata": {},
   "outputs": [
    {
     "data": {
      "text/plain": [
       "{'com': 1110,\n",
       " 'cn': 44,\n",
       " 'hk': 39,\n",
       " 'co': 26,\n",
       " 'net': 26,\n",
       " 'ua': 22,\n",
       " 'com.br': 19,\n",
       " 'vn': 16,\n",
       " 'tv': 9,\n",
       " 'es': 5,\n",
       " 'biz': 5,\n",
       " 'com.hk': 4,\n",
       " 'com.vn': 4,\n",
       " 'co.uk': 4,\n",
       " 'io': 4,\n",
       " 'club': 3,\n",
       " 'at': 3,\n",
       " 'fr': 3,\n",
       " 'to': 3,\n",
       " 'sc': 3,\n",
       " 'ie': 3,\n",
       " 'ca': 3,\n",
       " 'in': 3,\n",
       " 'watch': 3,\n",
       " 'ec': 2,\n",
       " 'bz': 2,\n",
       " 'ao': 1,\n",
       " 'jp': 1,\n",
       " 'com.au': 1,\n",
       " 'eu': 1,\n",
       " 'media': 1,\n",
       " 'com.uy': 1,\n",
       " 'pl': 1,\n",
       " 'co.th': 1}"
      ]
     },
     "execution_count": 48,
     "metadata": {},
     "output_type": "execute_result"
    }
   ],
   "source": [
    "with open('WebRTC_location.json', 'r') as f:\n",
    "    WebRTC_location_plot = json.load(f)\n",
    "\n",
    "# Arrange in descending order    \n",
    "c=Counter(WebRTC_location_plot)\n",
    "WebRTC_location_plot=dict(c.most_common())\n",
    "WebRTC_location_plot\n"
   ]
  },
  {
   "cell_type": "code",
   "execution_count": 39,
   "metadata": {},
   "outputs": [
    {
     "data": {
      "image/png": "[encoded data removed]",
      "text/plain": [
       "<Figure size 432x288 with 1 Axes>"
      ]
     },
     "metadata": {
      "needs_background": "light"
     },
     "output_type": "display_data"
    }
   ],
   "source": [
    "#Convert to list for plotting\n",
    "domain=list(WebRTC_location_plot.keys())\n",
    "count=list(WebRTC_location_plot.values())\n",
    "\n",
    "dfplot = pd.DataFrame({'domain':domain[0:10],'count':count[0:10]})\n",
    "                       \n",
    "ax = dfplot.plot.bar(x='domain', y='count', rot=0)\n"
   ]
  },
  {
   "cell_type": "markdown",
   "metadata": {},
   "source": [
    "In webRTC fingerprinting scripts out of 1376 locations 1110 are of .com com which is 80.66%."
   ]
  },
  {
   "cell_type": "markdown",
   "metadata": {},
   "source": [
    "## Conlusion\n",
    "\n",
    "The dataset consists of the maximum of .com and .net TLDs for both script_url, location and hence audio, canvas fingerprinting show the same.  We can also observe that the .com TLDs are greater than 50% in both script_url and location. However, font fingerprinting shows the maximum of .net and in webrtcfingerprinting .cn and .ua have gretaer contribution as compared to .net.\n",
    "If we consider the ccTLDs 'es', 'cn','de','ca','co.uk','it','co.jp','ua' are contributing towards fingerprinting.\n",
    "\n",
    "The scripts are contributing to fingerprinting everytime they are called as a fairly precise heuristics is used to generate the lists and there is a slight possibility of missing some candidates than got too many false positives.\n",
    "\n",
    "\n",
    "## Future  work\n",
    "\n",
    "Looking at the TLD provides some insight regarding the associated website such as its objective (business, government, education), its owner, or the geographical area from which it originated.\n",
    "\n",
    "In order to take the analysis further we can look at the frequency of the extracted fingerprinting scripts in the dataset. Further, we can start by analysing the scripts according to their frequency and try to analyse their behaviour.\n",
    "\n",
    "\n",
    "\n",
    "Few questions which can be given a thought during the analysis.\n",
    "\n",
    "- Is the script helping to establish a crossbrowser fingerprint? \n",
    "- Or a broader question, Are there any other privacy concerns while that script is executing, maybe in terms of the information it is targeting.\n",
    "\n",
    "\n",
    "\n",
    "\n",
    "\n",
    "\n",
    "\n",
    "\n"
   ]
  },
  {
   "cell_type": "code",
   "execution_count": null,
   "metadata": {},
   "outputs": [],
   "source": []
  }
 ],
 "metadata": {
  "kernelspec": {
   "display_name": "Python 3",
   "language": "python",
   "name": "python3"
  },
  "language_info": {
   "codemirror_mode": {
    "name": "ipython",
    "version": 3
   },
   "file_extension": ".py",
   "mimetype": "text/x-python",
   "name": "python",
   "nbconvert_exporter": "python",
   "pygments_lexer": "ipython3",
   "version": "3.6.7"
  }
 },
 "nbformat": 4,
 "nbformat_minor": 2
}
