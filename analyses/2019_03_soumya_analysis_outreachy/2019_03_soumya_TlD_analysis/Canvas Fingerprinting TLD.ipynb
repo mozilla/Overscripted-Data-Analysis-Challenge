{
 "cells": [
  {
   "cell_type": "markdown",
   "metadata": {},
   "source": [
    "## Extract TLD in Canvas Fingerprinting scripts\n",
    "\n",
    "This notebook extracts the TLDs for script_url and location in Canvas Fingerprinting scripts. The heuristics to find out the Canvas Fingerprinting scripts is directly taken from [2019_03_willougr_fingerprinting_implementation_sixth_sense/Canvas Fingerprinting Heuristics](https://github.com/mozilla/overscripted/blob/master/analyses/2019_03_willougr_fingerprinting_implementation_sixth_sense/Canvas%20Fingerprinting%20Heuristics.ipynb)."
   ]
  },
  {
   "cell_type": "code",
   "execution_count": 45,
   "metadata": {},
   "outputs": [],
   "source": [
    "import pandas as pd\n",
    "import dask.dataframe as dd\n",
    "import os\n",
    "import re\n",
    "import json\n",
    "from collections import Counter\n",
    "from dask.distributed import Client, progress\n",
    "from pandas.api.types import CategoricalDtype\n",
    "\n",
    "DATA_DIR = 'YOUR DATA DIRECTORY HERE'\n",
    "DATA_DIR_FULL ='/home/soumya/Dataset/sample_0.parquet'"
   ]
  },
  {
   "cell_type": "code",
   "execution_count": 4,
   "metadata": {
    "scrolled": false
   },
   "outputs": [
    {
     "name": "stderr",
     "output_type": "stream",
     "text": [
      "/home/soumya/.conda/envs/overscripted/lib/python3.6/site-packages/distributed/bokeh/core.py:57: UserWarning: \n",
      "Port 8787 is already in use. \n",
      "Perhaps you already have a cluster running?\n",
      "Hosting the diagnostics dashboard on a random port instead.\n",
      "  warnings.warn('\\n' + msg)\n"
     ]
    },
    {
     "data": {
      "text/html": [
       "<table style=\"border: 2px solid white;\">\n",
       "<tr>\n",
       "<td style=\"vertical-align: top; border: 0px solid white\">\n",
       "<h3>Client</h3>\n",
       "<ul>\n",
       "  <li><b>Scheduler: </b>tcp://127.0.0.1:40275\n",
       "  <li><b>Dashboard: </b><a href='http://127.0.0.1:39631/status' target='_blank'>http://127.0.0.1:39631/status</a>\n",
       "</ul>\n",
       "</td>\n",
       "<td style=\"vertical-align: top; border: 0px solid white\">\n",
       "<h3>Cluster</h3>\n",
       "<ul>\n",
       "  <li><b>Workers: </b>4</li>\n",
       "  <li><b>Cores: </b>12</li>\n",
       "  <li><b>Memory: </b>8.25 GB</li>\n",
       "</ul>\n",
       "</td>\n",
       "</tr>\n",
       "</table>"
      ],
      "text/plain": [
       "<Client: scheduler='tcp://127.0.0.1:40275' processes=4 cores=12>"
      ]
     },
     "execution_count": 4,
     "metadata": {},
     "output_type": "execute_result"
    }
   ],
   "source": [
    "Client()"
   ]
  },
  {
   "cell_type": "markdown",
   "metadata": {},
   "source": [
    "# Build candidates"
   ]
  },
  {
   "cell_type": "code",
   "execution_count": 5,
   "metadata": {},
   "outputs": [
    {
     "name": "stderr",
     "output_type": "stream",
     "text": [
      "/home/soumya/.local/lib/python3.6/site-packages/pandas/core/ops.py:1649: FutureWarning: elementwise comparison failed; returning scalar instead, but in the future will perform elementwise comparison\n",
      "  result = method(y)\n"
     ]
    },
    {
     "data": {
      "text/plain": [
       "0     https://www.coches.net/ztkieflaaxcvaiwh121837.js\n",
       "1      http://static.mvideo.ru/media/js/mvideo.js?v0.7\n",
       "2        https://misc.gomein.net.cn/js/regfront/gfp.js\n",
       "3         http://www.elcorteingles.es/akam/10/240f2be0\n",
       "4    https://player.mais.uol.com.br/js/uolplayer.mi...\n",
       "Name: script_url, dtype: object"
      ]
     },
     "execution_count": 5,
     "metadata": {},
     "output_type": "execute_result"
    }
   ],
   "source": [
    "df_to_data_urls_df = dd.read_parquet(DATA_DIR_FULL, columns=['script_url', 'symbol'])\n",
    "df_to_data_urls_df = df_to_data_urls_df[df_to_data_urls_df.symbol == 'HTMLCanvasElement.toDataURL']\n",
    "to_data_urls = df_to_data_urls_df.script_url.unique().compute()\n",
    "to_data_urls[0:5]"
   ]
  },
  {
   "cell_type": "code",
   "execution_count": 6,
   "metadata": {},
   "outputs": [
    {
     "data": {
      "text/plain": [
       "0    http://ue.17173cdn.com/a/newgame/index/2017/v3...\n",
       "1                       resource://pdf.js/build/pdf.js\n",
       "2           http://cdn.promodj.com/core/core.js?1ce4f0\n",
       "3    https://s0.2mdn.net/ads/studio/cached_libs/cre...\n",
       "4    https://www.youtube.com/yts/jsbin/player-vflyo...\n",
       "Name: script_url, dtype: object"
      ]
     },
     "execution_count": 6,
     "metadata": {},
     "output_type": "execute_result"
    }
   ],
   "source": [
    "def large_enough(row):\n",
    "    width = float(row.argument_2)\n",
    "    height = float(row.argument_3)\n",
    "    return width >= 16 and height >= 16\n",
    "\n",
    "df_get_image_data_df = dd.read_parquet(DATA_DIR_FULL, columns=['script_url', 'symbol', 'argument_2', 'argument_3'])\n",
    "df_get_image_data_df = df_get_image_data_df[df_get_image_data_df.symbol == 'CanvasRenderingContext2D.getImageData']\n",
    "df_get_image_data_df = df_get_image_data_df[df_get_image_data_df.apply(large_enough, axis=1, meta=('bool'))]\n",
    "get_image_data_urls = df_get_image_data_df.script_url.unique().compute()\n",
    "get_image_data_urls[0:5]"
   ]
  },
  {
   "cell_type": "code",
   "execution_count": 7,
   "metadata": {},
   "outputs": [
    {
     "name": "stdout",
     "output_type": "stream",
     "text": [
      "n to_data_urls 3441\n",
      "n get_image_data_urls 95\n",
      "n candidate urls 3530\n"
     ]
    }
   ],
   "source": [
    "print('n to_data_urls', len(to_data_urls))\n",
    "print('n get_image_data_urls', len(get_image_data_urls))\n",
    "candidate_urls = to_data_urls.append(get_image_data_urls).unique()\n",
    "print('n candidate urls', len(candidate_urls))"
   ]
  },
  {
   "cell_type": "code",
   "execution_count": 8,
   "metadata": {},
   "outputs": [],
   "source": [
    "all_candidate_urls = candidate_urls.copy()"
   ]
  },
  {
   "cell_type": "markdown",
   "metadata": {},
   "source": [
    "# Start removing\n",
    "\n",
    "## 1. Remove manually filtered"
   ]
  },
  {
   "cell_type": "code",
   "execution_count": 9,
   "metadata": {},
   "outputs": [],
   "source": [
    "false_positive_script_urls = {\n",
    "    'http://www.fivola.com/',\n",
    "    'http://cdn02.centraledachats.be/dist/js/holder.js',\n",
    "    'http://ccmedia.fr/accueil.php',\n",
    "    'http://rozup.ir/up/moisrex/themes/space_theme/script.js'\n",
    "}"
   ]
  },
  {
   "cell_type": "code",
   "execution_count": 10,
   "metadata": {},
   "outputs": [
    {
     "name": "stdout",
     "output_type": "stream",
     "text": [
      "n candidate urls 3530\n"
     ]
    }
   ],
   "source": [
    "candidate_urls = [url for url in candidate_urls if url not in false_positive_script_urls]\n",
    "print('n candidate urls', len(candidate_urls))"
   ]
  },
  {
   "cell_type": "code",
   "execution_count": 11,
   "metadata": {},
   "outputs": [
    {
     "name": "stdout",
     "output_type": "stream",
     "text": [
      "0\n"
     ]
    }
   ],
   "source": [
    "print(len(set(all_candidate_urls) - set(candidate_urls)))\n",
    "disgarded_urls = [url for url in all_candidate_urls if url not in candidate_urls]\n",
    "with open('not_canvas_fingerprinting_1.json', 'w') as f:\n",
    "    f.write(json.dumps(disgarded_urls)) "
   ]
  },
  {
   "cell_type": "markdown",
   "metadata": {},
   "source": [
    "## 2. Remove save, restore, addEventListener"
   ]
  },
  {
   "cell_type": "code",
   "execution_count": 12,
   "metadata": {
    "scrolled": true
   },
   "outputs": [
    {
     "data": {
      "text/plain": [
       "array(['https://s0.2mdn.net/ads/studio/cached_libs/createjs_2015.11.26_54e1c3722102182bb133912ad4442e19_min.js',\n",
       "       'https://audience-x.linkstorm.net/CNST/CNST_AX17_2C03/libs/createjs-2015.11.26.min.js',\n",
       "       'https://cdn4.forter.com/script.js?sn=d379f257f86d',\n",
       "       'https://code.createjs.com/createjs-2015.11.26.min.js',\n",
       "       'https://widget.sndcdn.com/single-sound-97ef94a-bcf2172b.js'],\n",
       "      dtype=object)"
      ]
     },
     "execution_count": 12,
     "metadata": {},
     "output_type": "execute_result"
    }
   ],
   "source": [
    "df_valid_calls_df = dd.read_parquet(DATA_DIR_FULL, columns=['script_url', 'symbol'])\n",
    "df_valid_calls_df = df_valid_calls_df[df_valid_calls_df.symbol.isin(\n",
    "    ['CanvasRenderingContext2D.save', 'CanvasRenderingContext2D.restore', 'HTMLCanvasElement.addEventListener']\n",
    ")]\n",
    "valid_calls_urls = df_valid_calls_df.script_url.unique().values.compute()\n",
    "valid_calls_urls[0:5]"
   ]
  },
  {
   "cell_type": "code",
   "execution_count": 13,
   "metadata": {},
   "outputs": [
    {
     "name": "stdout",
     "output_type": "stream",
     "text": [
      "n candidate urls 3494\n"
     ]
    }
   ],
   "source": [
    "candidate_urls = [url for url in candidate_urls if url not in valid_calls_urls]\n",
    "print('n candidate urls', len(candidate_urls))"
   ]
  },
  {
   "cell_type": "code",
   "execution_count": 14,
   "metadata": {},
   "outputs": [
    {
     "data": {
      "text/plain": [
       "36"
      ]
     },
     "execution_count": 14,
     "metadata": {},
     "output_type": "execute_result"
    }
   ],
   "source": [
    "len(set(all_candidate_urls) - set(candidate_urls))"
   ]
  },
  {
   "cell_type": "code",
   "execution_count": 15,
   "metadata": {},
   "outputs": [
    {
     "name": "stdout",
     "output_type": "stream",
     "text": [
      "36\n"
     ]
    }
   ],
   "source": [
    "print(len(set(all_candidate_urls) - set(candidate_urls)))\n",
    "disgarded_urls = [url for url in all_candidate_urls if url not in candidate_urls]\n",
    "with open('not_canvas_fingerprinting_2.json', 'w') as f:\n",
    "    f.write(json.dumps(disgarded_urls)) "
   ]
  },
  {
   "cell_type": "markdown",
   "metadata": {},
   "source": [
    "## 3. Must have written 10 or more characters"
   ]
  },
  {
   "cell_type": "code",
   "execution_count": 16,
   "metadata": {},
   "outputs": [],
   "source": [
    "## Code sourced from: github.com/sensor-js/OpenWPM-mobile/blob/mobile_sensors/feature_extraction/extract_features.py\n",
    "\n",
    "def text_length(arg_0):\n",
    "    return len(arg_0.encode('ascii', 'ignore'))"
   ]
  },
  {
   "cell_type": "code",
   "execution_count": 18,
   "metadata": {
    "scrolled": true
   },
   "outputs": [
    {
     "data": {
      "text/html": [
       "<div>\n",
       "<style scoped>\n",
       "    .dataframe tbody tr th:only-of-type {\n",
       "        vertical-align: middle;\n",
       "    }\n",
       "\n",
       "    .dataframe tbody tr th {\n",
       "        vertical-align: top;\n",
       "    }\n",
       "\n",
       "    .dataframe thead th {\n",
       "        text-align: right;\n",
       "    }\n",
       "</style>\n",
       "<table border=\"1\" class=\"dataframe\">\n",
       "  <thead>\n",
       "    <tr style=\"text-align: right;\">\n",
       "      <th></th>\n",
       "      <th>script_url</th>\n",
       "      <th>symbol</th>\n",
       "      <th>argument_0</th>\n",
       "      <th>len_arg</th>\n",
       "    </tr>\n",
       "    <tr>\n",
       "      <th>call_id</th>\n",
       "      <th></th>\n",
       "      <th></th>\n",
       "      <th></th>\n",
       "      <th></th>\n",
       "    </tr>\n",
       "  </thead>\n",
       "  <tbody>\n",
       "    <tr>\n",
       "      <th>1_00022de65942197e3855f68b373c5a2710eefe66945e40063c30419f.json__269</th>\n",
       "      <td>https://www.coches.net/ztkieflaaxcvaiwh121837.js</td>\n",
       "      <td>CanvasRenderingContext2D.fillText</td>\n",
       "      <td>Cwm fjordbank glyphs vext quiz, 😃</td>\n",
       "      <td>32</td>\n",
       "    </tr>\n",
       "    <tr>\n",
       "      <th>1_00022de65942197e3855f68b373c5a2710eefe66945e40063c30419f.json__272</th>\n",
       "      <td>https://www.coches.net/ztkieflaaxcvaiwh121837.js</td>\n",
       "      <td>CanvasRenderingContext2D.fillText</td>\n",
       "      <td>Cwm fjordbank glyphs vext quiz, 😃</td>\n",
       "      <td>32</td>\n",
       "    </tr>\n",
       "    <tr>\n",
       "      <th>1_0004d550953191c5723947694ac872f7e277d94041ae0112ffa577fd.json__355</th>\n",
       "      <td>http://static.mvideo.ru/media/js/mvideo.js?v0.7</td>\n",
       "      <td>CanvasRenderingContext2D.fillText</td>\n",
       "      <td>sans-serif</td>\n",
       "      <td>10</td>\n",
       "    </tr>\n",
       "    <tr>\n",
       "      <th>1_0004d550953191c5723947694ac872f7e277d94041ae0112ffa577fd.json__360</th>\n",
       "      <td>http://static.mvideo.ru/media/js/mvideo.js?v0.7</td>\n",
       "      <td>CanvasRenderingContext2D.fillText</td>\n",
       "      <td>Abadi MT Condensed</td>\n",
       "      <td>18</td>\n",
       "    </tr>\n",
       "    <tr>\n",
       "      <th>1_0004d550953191c5723947694ac872f7e277d94041ae0112ffa577fd.json__361</th>\n",
       "      <td>http://static.mvideo.ru/media/js/mvideo.js?v0.7</td>\n",
       "      <td>CanvasRenderingContext2D.fillText</td>\n",
       "      <td>Abadi MT Condensed Light</td>\n",
       "      <td>24</td>\n",
       "    </tr>\n",
       "  </tbody>\n",
       "</table>\n",
       "</div>"
      ],
      "text/plain": [
       "                                                                                          script_url  \\\n",
       "call_id                                                                                                \n",
       "1_00022de65942197e3855f68b373c5a2710eefe66945e4...  https://www.coches.net/ztkieflaaxcvaiwh121837.js   \n",
       "1_00022de65942197e3855f68b373c5a2710eefe66945e4...  https://www.coches.net/ztkieflaaxcvaiwh121837.js   \n",
       "1_0004d550953191c5723947694ac872f7e277d94041ae0...   http://static.mvideo.ru/media/js/mvideo.js?v0.7   \n",
       "1_0004d550953191c5723947694ac872f7e277d94041ae0...   http://static.mvideo.ru/media/js/mvideo.js?v0.7   \n",
       "1_0004d550953191c5723947694ac872f7e277d94041ae0...   http://static.mvideo.ru/media/js/mvideo.js?v0.7   \n",
       "\n",
       "                                                                               symbol  \\\n",
       "call_id                                                                                 \n",
       "1_00022de65942197e3855f68b373c5a2710eefe66945e4...  CanvasRenderingContext2D.fillText   \n",
       "1_00022de65942197e3855f68b373c5a2710eefe66945e4...  CanvasRenderingContext2D.fillText   \n",
       "1_0004d550953191c5723947694ac872f7e277d94041ae0...  CanvasRenderingContext2D.fillText   \n",
       "1_0004d550953191c5723947694ac872f7e277d94041ae0...  CanvasRenderingContext2D.fillText   \n",
       "1_0004d550953191c5723947694ac872f7e277d94041ae0...  CanvasRenderingContext2D.fillText   \n",
       "\n",
       "                                                                           argument_0  \\\n",
       "call_id                                                                                 \n",
       "1_00022de65942197e3855f68b373c5a2710eefe66945e4...  Cwm fjordbank glyphs vext quiz, 😃   \n",
       "1_00022de65942197e3855f68b373c5a2710eefe66945e4...  Cwm fjordbank glyphs vext quiz, 😃   \n",
       "1_0004d550953191c5723947694ac872f7e277d94041ae0...                         sans-serif   \n",
       "1_0004d550953191c5723947694ac872f7e277d94041ae0...                 Abadi MT Condensed   \n",
       "1_0004d550953191c5723947694ac872f7e277d94041ae0...           Abadi MT Condensed Light   \n",
       "\n",
       "                                                    len_arg  \n",
       "call_id                                                      \n",
       "1_00022de65942197e3855f68b373c5a2710eefe66945e4...       32  \n",
       "1_00022de65942197e3855f68b373c5a2710eefe66945e4...       32  \n",
       "1_0004d550953191c5723947694ac872f7e277d94041ae0...       10  \n",
       "1_0004d550953191c5723947694ac872f7e277d94041ae0...       18  \n",
       "1_0004d550953191c5723947694ac872f7e277d94041ae0...       24  "
      ]
     },
     "execution_count": 18,
     "metadata": {},
     "output_type": "execute_result"
    }
   ],
   "source": [
    "df_write = dd.read_parquet(DATA_DIR_FULL, columns=['script_url', 'symbol', 'argument_0'])\n",
    "df_write = df_write[df_write.script_url.isin(candidate_urls)]\n",
    "df_write = df_write[df_write.symbol.isin(['CanvasRenderingContext2D.fillText', 'CanvasRenderingContext2D.strokeText'])]\n",
    "df_write['len_arg'] = df_write.argument_0.apply(text_length, meta=('int'))\n",
    "df_write = df_write[df_write.len_arg >= 10]\n",
    "df_write = df_write.compute()\n",
    "df_write.head()"
   ]
  },
  {
   "cell_type": "code",
   "execution_count": 19,
   "metadata": {
    "scrolled": true
   },
   "outputs": [
    {
     "name": "stdout",
     "output_type": "stream",
     "text": [
      "n \"3 too long writes\" urls 1473\n"
     ]
    }
   ],
   "source": [
    "too_many_write_urls = df_write.script_url.unique()\n",
    "print('n \"3 too long writes\" urls', len(too_many_write_urls))"
   ]
  },
  {
   "cell_type": "markdown",
   "metadata": {},
   "source": [
    "## Apply 3"
   ]
  },
  {
   "cell_type": "code",
   "execution_count": 20,
   "metadata": {},
   "outputs": [],
   "source": [
    "text_filter = set(too_many_write_urls)\n",
    "candidate_urls = list(text_filter)"
   ]
  },
  {
   "cell_type": "code",
   "execution_count": 21,
   "metadata": {
    "scrolled": true
   },
   "outputs": [
    {
     "name": "stdout",
     "output_type": "stream",
     "text": [
      "2057\n"
     ]
    }
   ],
   "source": [
    "print(len(set(all_candidate_urls) - set(candidate_urls)))\n",
    "disgarded_urls = [url for url in all_candidate_urls if url not in candidate_urls]\n",
    "with open('not_canvas_fingerprinting_3.json', 'w') as f:\n",
    "    f.write(json.dumps(disgarded_urls)) "
   ]
  },
  {
   "cell_type": "code",
   "execution_count": 22,
   "metadata": {},
   "outputs": [],
   "source": [
    "with open('canvas_fingerprinting.json', 'w') as f:\n",
    "    f.write(json.dumps(candidate_urls))"
   ]
  },
  {
   "cell_type": "code",
   "execution_count": 23,
   "metadata": {},
   "outputs": [],
   "source": [
    "with open('not_canvas_fingerprinting.json', 'w') as f:\n",
    "    f.write(json.dumps(disgarded_urls))"
   ]
  },
  {
   "cell_type": "markdown",
   "metadata": {},
   "source": [
    "## Find Locations"
   ]
  },
  {
   "cell_type": "code",
   "execution_count": 24,
   "metadata": {},
   "outputs": [
    {
     "name": "stdout",
     "output_type": "stream",
     "text": [
      "1473 == 8514\n"
     ]
    }
   ],
   "source": [
    "with open('canvas_fingerprinting.json', 'r') as f:\n",
    "    canvas_fp_urls = json.load(f)\n",
    "    \n",
    "print(len(canvas_fp_urls), '== 8514')"
   ]
  },
  {
   "cell_type": "code",
   "execution_count": 25,
   "metadata": {},
   "outputs": [],
   "source": [
    "df = dd.read_parquet(DATA_DIR_FULL, columns=['script_url', 'location'])"
   ]
  },
  {
   "cell_type": "code",
   "execution_count": 26,
   "metadata": {},
   "outputs": [
    {
     "name": "stdout",
     "output_type": "stream",
     "text": [
      "[########################################] | 100% Completed | 15.8s\r"
     ]
    }
   ],
   "source": [
    "df_locs = df[df.script_url.isin(canvas_fp_urls)]\n",
    "locs = df_locs.location.unique().persist()\n",
    "progress(locs, notebook=False)"
   ]
  },
  {
   "cell_type": "code",
   "execution_count": 27,
   "metadata": {},
   "outputs": [
    {
     "name": "stdout",
     "output_type": "stream",
     "text": [
      "# of locations that call canvas fingerprinting scripts: 3635\n"
     ]
    }
   ],
   "source": [
    "print('# of locations that call canvas fingerprinting scripts:', len(locs))"
   ]
  },
  {
   "cell_type": "code",
   "execution_count": 28,
   "metadata": {},
   "outputs": [
    {
     "data": {
      "text/plain": [
       "['https://t1.musthird.com/fp/check.js;CIS3SID=4E51E3E73109CE40317785FAF9D0C0F8?org_id=kfgn8s24&session_id=1513425323--6e0cdf24c35fe76e7baebfa2&nonce=9773a775ce6207d3&pageid=1',\n",
       " 'http://squid.gazeta.pl/bdtrck/getBdIf?domain=www.blox.pl&visitedUrl=http%3A%2F%2Fwww.blox.pl%2Fblog%2Findex%2Fpolecane&scriptversion=2.0.0&rnd=3283990017211744&gfkmedia=bloxPL&gfkroot=own&gfktype=rwd&',\n",
       " 'https://www.ae.com/akam/10/690520a8',\n",
       " 'http://www.yad2.co.il/sbbi/?sbbpg=sbbShell&gprid=CE&sbbgs=h4a7c247d36341de32bb98615beceba7f972&ddl=2',\n",
       " 'https://zc.reg.163.com/resources/mp-agent-finger.html?WEBZJVersion=1512468208810&pkid=cBkgQOW&product=qn',\n",
       " 'https://fstrk.net/api/tracker/9872ed9fc22fc182d371c3e9ed316094/landing.js',\n",
       " 'https://cdn1.cerebroad.com/libs/adsloader-151334218860885a33c4ec94a3d627046455.js',\n",
       " 'https://www.mrporter.com/akam/10/4e5df926',\n",
       " 'http://webresource.c-ctrip.com/resaresonline/risk/ubtrms/d.min.b1da08d8.js',\n",
       " 'http://static.fraudmetrix.cn/fm.js?ver=0.1&t=420407']"
      ]
     },
     "execution_count": 28,
     "metadata": {},
     "output_type": "execute_result"
    }
   ],
   "source": [
    "canvas_fp_urls[0:10]"
   ]
  },
  {
   "cell_type": "code",
   "execution_count": 29,
   "metadata": {},
   "outputs": [
    {
     "data": {
      "text/plain": [
       "0            https://www.coches.net/fiat/segunda-mano/\n",
       "1    http://www.mvideo.ru/aksessuary-dlya-avtomobil...\n",
       "2        https://torrentsgroup.com/torrents.php?cat=49\n",
       "3    https://shop.nordstrom.com/c/beauty-new?origin...\n",
       "4        https://reg.gome.com.cn/register/index/person\n",
       "5    http://www.elcorteingles.es/moda/accesorios/es...\n",
       "6    https://www.macys.com/shop/jewelry-watches/nec...\n",
       "7    https://player.mais.uol.com.br/index.html?medi...\n",
       "8    https://www.macys.com/shop/kitchen/kitchen-gif...\n",
       "9    https://www.linkedin.com/authwall?trk=bf&trkIn...\n",
       "Name: location, dtype: object"
      ]
     },
     "execution_count": 29,
     "metadata": {},
     "output_type": "execute_result"
    }
   ],
   "source": [
    "location=locs.compute()\n",
    "location[0:10]"
   ]
  },
  {
   "cell_type": "markdown",
   "metadata": {},
   "source": [
    "## Extract TLD For script_url"
   ]
  },
  {
   "cell_type": "code",
   "execution_count": 30,
   "metadata": {},
   "outputs": [
    {
     "name": "stdout",
     "output_type": "stream",
     "text": [
      "['com', 'pl', 'com', 'co.il', 'com', 'net', 'com', 'com', 'com', 'cn', 'com', 'com', 'com', 'com', 'com', 'it', 'com', 'network', 'net', 'com']\n"
     ]
    }
   ],
   "source": [
    "import tldextract\n",
    "opsuffix=[]\n",
    "opurls=[]\n",
    "for i in range(len(canvas_fp_urls)):\n",
    "    opurls.append(tldextract.extract(canvas_fp_urls[i]))\n",
    "    opsuffix.append(opurls[i].suffix)\n",
    "print(opsuffix[0:20])"
   ]
  },
  {
   "cell_type": "code",
   "execution_count": 31,
   "metadata": {},
   "outputs": [
    {
     "data": {
      "text/plain": [
       "1473"
      ]
     },
     "execution_count": 31,
     "metadata": {},
     "output_type": "execute_result"
    }
   ],
   "source": [
    "len(canvas_fp_urls)"
   ]
  },
  {
   "cell_type": "markdown",
   "metadata": {},
   "source": [
    "## Extract TLD For location"
   ]
  },
  {
   "cell_type": "code",
   "execution_count": 32,
   "metadata": {},
   "outputs": [
    {
     "name": "stdout",
     "output_type": "stream",
     "text": [
      "['net', 'ru', 'com', 'com', 'com.cn', 'es', 'com', 'com.br', 'com', 'com', 'com', 'com', 'com', 'com', 'com', 'com', 'cz', 'com', 'com', 'com']\n"
     ]
    }
   ],
   "source": [
    "opsuffix_locs=[]\n",
    "opurls_locs=[]\n",
    "for i in range(len(locs)):\n",
    "    opurls_locs.append(tldextract.extract(location[i]))\n",
    "    opsuffix_locs.append(opurls_locs[i].suffix)\n",
    "print(opsuffix_locs[0:20])"
   ]
  },
  {
   "cell_type": "markdown",
   "metadata": {},
   "source": [
    "## Frequency of each TLD for script_url"
   ]
  },
  {
   "cell_type": "code",
   "execution_count": 33,
   "metadata": {},
   "outputs": [
    {
     "name": "stdout",
     "output_type": "stream",
     "text": [
      "Counter({'com': 851, 'network': 118, 'net': 96, 'es': 83, 'cn': 52, 'de': 44, 'ca': 36, 'co.uk': 35, 'it': 23, 'co.jp': 15, 'pl': 12, 'com.tw': 10, 'fr': 10, 'ru': 8, 'io': 8, 'ws': 6, 'com.br': 6, 'ch': 6, 'org': 5, 'in': 4, 'sexy': 4, '': 3, 'hk': 3, 'nl': 3, 'cz': 3, 'tv': 2, 'az': 2, 'vn': 2, 'vc': 2, 'cc': 2, 'ly': 2, 're': 2, 'co.il': 1, 'sk': 1, 'net.cn': 1, 'jp': 1, 'dhl': 1, 'gs': 1, 'systems': 1, 'biz': 1, 'com.au': 1, 'pub': 1, 'jo': 1, 'ai': 1, 'st': 1, 'pro': 1, 'org.br': 1})\n"
     ]
    }
   ],
   "source": [
    "import collections\n",
    "for i in range(len(opsuffix)):\n",
    "    counter_script_url=collections.Counter(opsuffix)\n",
    "print(counter_script_url)"
   ]
  },
  {
   "cell_type": "code",
   "execution_count": 34,
   "metadata": {},
   "outputs": [],
   "source": [
    "#Store in a Json file\n",
    "with open('canvas_script_url.json', 'w') as f:\n",
    "    f.write(json.dumps(counter_script_url)) "
   ]
  },
  {
   "cell_type": "code",
   "execution_count": 35,
   "metadata": {},
   "outputs": [
    {
     "data": {
      "text/plain": [
       "47"
      ]
     },
     "execution_count": 35,
     "metadata": {},
     "output_type": "execute_result"
    }
   ],
   "source": [
    "len(counter_script_url)"
   ]
  },
  {
   "cell_type": "code",
   "execution_count": 46,
   "metadata": {},
   "outputs": [
    {
     "data": {
      "image/png": "[encoded data removed]",
      "text/plain": [
       "<Figure size 432x288 with 1 Axes>"
      ]
     },
     "metadata": {
      "needs_background": "light"
     },
     "output_type": "display_data"
    }
   ],
   "source": [
    "# Arange in descending order    \n",
    "c=Counter(counter_script_url)\n",
    "counter_script_url=dict(c.most_common())\n",
    "#Convert to list for plotting\n",
    "domain=list(counter_script_url.keys())\n",
    "count=list(counter_script_url.values())\n",
    "\n",
    "dfplot = pd.DataFrame({'domain':domain[0:10], 'count':count[0:10]})\n",
    "ax = dfplot.plot.bar(x='domain', y='count', rot=0)"
   ]
  },
  {
   "cell_type": "markdown",
   "metadata": {},
   "source": [
    "# Frequency of each TLD for location"
   ]
  },
  {
   "cell_type": "code",
   "execution_count": 37,
   "metadata": {},
   "outputs": [
    {
     "name": "stdout",
     "output_type": "stream",
     "text": [
      "Counter({'com': 2235, 'net': 182, 'es': 137, 'network': 112, 'de': 93, 'fr': 74, 'it': 74, 'co.uk': 74, 'cn': 69, 'ru': 68, 'ca': 57, 'org': 40, 'com.tw': 31, 'tv': 28, 'co': 26, 'gov': 24, 'pl': 21, 'cz': 20, 'jp': 20, 'ws': 20, 'cc': 18, 'sc': 18, 'co.jp': 18, 'vn': 17, 'com.br': 16, 'in': 15, 'ch': 11, 'com.cn': 10, 'edu': 10, 'lol': 9, 'io': 8, 'ac.uk': 7, 'com.hk': 5, 'biz': 5, 'sexy': 4, 'com.vn': 4, 'hk': 4, 'co.il': 4, 'az': 4, 'to': 3, 'ie': 3, 'sk': 3, 'zone': 3, 'com.au': 3, 'nl': 3, 'watch': 3, 'at': 2, 'ec': 2, 'club': 2, 'bz': 2, 'com.tr': 2, 'vc': 2, 'dhl': 1, 'pw': 1, 'co.za': 1, 'co.kr': 1, 'no': 1, 'eu': 1, 'gp': 1, 'jo': 1, 'com.uy': 1, 'co.th': 1})\n"
     ]
    }
   ],
   "source": [
    "for i in range(len(locs)):\n",
    "    counter_location=collections.Counter(opsuffix_locs)\n",
    "print(counter_location)"
   ]
  },
  {
   "cell_type": "code",
   "execution_count": 38,
   "metadata": {},
   "outputs": [
    {
     "data": {
      "text/plain": [
       "Counter({'net': 182,\n",
       "         'ru': 68,\n",
       "         'com': 2235,\n",
       "         'com.cn': 10,\n",
       "         'es': 137,\n",
       "         'com.br': 16,\n",
       "         'cz': 20,\n",
       "         'network': 112,\n",
       "         'edu': 10,\n",
       "         'fr': 74,\n",
       "         'cc': 18,\n",
       "         'pl': 21,\n",
       "         'it': 74,\n",
       "         'de': 93,\n",
       "         'tv': 28,\n",
       "         'com.hk': 5,\n",
       "         'co': 26,\n",
       "         'ch': 11,\n",
       "         'com.tw': 31,\n",
       "         'co.uk': 74,\n",
       "         'org': 40,\n",
       "         'ca': 57,\n",
       "         'cn': 69,\n",
       "         'vn': 17,\n",
       "         'gov': 24,\n",
       "         'at': 2,\n",
       "         'dhl': 1,\n",
       "         'jp': 20,\n",
       "         'sc': 18,\n",
       "         'sexy': 4,\n",
       "         'to': 3,\n",
       "         'com.vn': 4,\n",
       "         'co.jp': 18,\n",
       "         'hk': 4,\n",
       "         'ie': 3,\n",
       "         'ac.uk': 7,\n",
       "         'ws': 20,\n",
       "         'in': 15,\n",
       "         'co.il': 4,\n",
       "         'lol': 9,\n",
       "         'pw': 1,\n",
       "         'io': 8,\n",
       "         'ec': 2,\n",
       "         'sk': 3,\n",
       "         'zone': 3,\n",
       "         'com.au': 3,\n",
       "         'az': 4,\n",
       "         'co.za': 1,\n",
       "         'co.kr': 1,\n",
       "         'no': 1,\n",
       "         'eu': 1,\n",
       "         'nl': 3,\n",
       "         'club': 2,\n",
       "         'bz': 2,\n",
       "         'gp': 1,\n",
       "         'jo': 1,\n",
       "         'com.uy': 1,\n",
       "         'biz': 5,\n",
       "         'watch': 3,\n",
       "         'com.tr': 2,\n",
       "         'vc': 2,\n",
       "         'co.th': 1})"
      ]
     },
     "execution_count": 38,
     "metadata": {},
     "output_type": "execute_result"
    }
   ],
   "source": [
    "counter_location"
   ]
  },
  {
   "cell_type": "code",
   "execution_count": 39,
   "metadata": {},
   "outputs": [],
   "source": [
    "# Store in a json  file\n",
    "with open('canvas_location.json', 'w') as f:\n",
    "    f.write(json.dumps(counter_location)) "
   ]
  },
  {
   "cell_type": "code",
   "execution_count": 40,
   "metadata": {},
   "outputs": [
    {
     "data": {
      "text/plain": [
       "62"
      ]
     },
     "execution_count": 40,
     "metadata": {},
     "output_type": "execute_result"
    }
   ],
   "source": [
    "len(counter_location)"
   ]
  },
  {
   "cell_type": "code",
   "execution_count": 47,
   "metadata": {},
   "outputs": [
    {
     "data": {
      "image/png": "[encoded data removed]",
      "text/plain": [
       "<Figure size 432x288 with 1 Axes>"
      ]
     },
     "metadata": {
      "needs_background": "light"
     },
     "output_type": "display_data"
    }
   ],
   "source": [
    "# Arange in descending order    \n",
    "c=Counter(counter_location)\n",
    "counter_location=dict(c.most_common())\n",
    "#Convert to list for plotting\n",
    "domain=list(counter_location.keys())\n",
    "count=list(counter_location.values())\n",
    "\n",
    "dfplot = pd.DataFrame({'domain':domain[0:10], 'count':count[0:10]})\n",
    "ax = dfplot.plot.bar(x='domain', y='count', rot=0)"
   ]
  },
  {
   "cell_type": "code",
   "execution_count": null,
   "metadata": {},
   "outputs": [],
   "source": []
  }
 ],
 "metadata": {
  "kernelspec": {
   "display_name": "Python 3",
   "language": "python",
   "name": "python3"
  },
  "language_info": {
   "codemirror_mode": {
    "name": "ipython",
    "version": 3
   },
   "file_extension": ".py",
   "mimetype": "text/x-python",
   "name": "python",
   "nbconvert_exporter": "python",
   "pygments_lexer": "ipython3",
   "version": "3.6.7"
  }
 },
 "nbformat": 4,
 "nbformat_minor": 2
}
