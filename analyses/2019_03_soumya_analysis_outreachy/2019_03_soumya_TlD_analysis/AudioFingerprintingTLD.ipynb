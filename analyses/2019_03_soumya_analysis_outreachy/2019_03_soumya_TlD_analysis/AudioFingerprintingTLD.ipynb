{
 "cells": [
  {
   "cell_type": "markdown",
   "metadata": {},
   "source": [
    "## Extract TLD in Audio Fingerprinting scripts\n",
    "\n",
    "This notebook extracts the TLDs for script_url and location in Audio Fingerprinting scripts. The heuristics to find out the Audio Fingerprinting scripts\n",
    "is directly taken from [2019_03_willougr_fingerprinting_implementation_sixth_sense/Audio Fingerprinting Heuristics](https://github.com/mozilla/overscripted/blob/master/analyses/2019_03_willougr_fingerprinting_implementation_sixth_sense/Audio%20Fingerprinting%20Heuristics.ipynb)."
   ]
  },
  {
   "cell_type": "code",
   "execution_count": 2,
   "metadata": {
    "scrolled": false
   },
   "outputs": [
    {
     "name": "stderr",
     "output_type": "stream",
     "text": [
      "/home/soumya/.conda/envs/overscripted/lib/python3.6/site-packages/dask/config.py:168: YAMLLoadWarning: calling yaml.load() without Loader=... is deprecated, as the default Loader is unsafe. Please read https://msg.pyyaml.org/load for full details.\n",
      "  data = yaml.load(f.read()) or {}\n",
      "/home/soumya/.conda/envs/overscripted/lib/python3.6/site-packages/distributed/config.py:20: YAMLLoadWarning: calling yaml.load() without Loader=... is deprecated, as the default Loader is unsafe. Please read https://msg.pyyaml.org/load for full details.\n",
      "  defaults = yaml.load(f)\n",
      "/home/soumya/.conda/envs/overscripted/lib/python3.6/site-packages/distributed/bokeh/core.py:57: UserWarning: \n",
      "Port 8787 is already in use. \n",
      "Perhaps you already have a cluster running?\n",
      "Hosting the diagnostics dashboard on a random port instead.\n",
      "  warnings.warn('\\n' + msg)\n"
     ]
    },
    {
     "data": {
      "text/html": [
       "<table style=\"border: 2px solid white;\">\n",
       "<tr>\n",
       "<td style=\"vertical-align: top; border: 0px solid white\">\n",
       "<h3>Client</h3>\n",
       "<ul>\n",
       "  <li><b>Scheduler: </b>tcp://127.0.0.1:36833\n",
       "  <li><b>Dashboard: </b><a href='http://127.0.0.1:41455/status' target='_blank'>http://127.0.0.1:41455/status</a>\n",
       "</ul>\n",
       "</td>\n",
       "<td style=\"vertical-align: top; border: 0px solid white\">\n",
       "<h3>Cluster</h3>\n",
       "<ul>\n",
       "  <li><b>Workers: </b>4</li>\n",
       "  <li><b>Cores: </b>12</li>\n",
       "  <li><b>Memory: </b>8.25 GB</li>\n",
       "</ul>\n",
       "</td>\n",
       "</tr>\n",
       "</table>"
      ],
      "text/plain": [
       "<Client: scheduler='tcp://127.0.0.1:36833' processes=4 cores=12>"
      ]
     },
     "execution_count": 2,
     "metadata": {},
     "output_type": "execute_result"
    }
   ],
   "source": [
    "import pandas as pd\n",
    "import dask.dataframe as dd\n",
    "import json\n",
    "from collections import Counter\n",
    "from dask.distributed import Client, progress\n",
    "\n",
    "DATA_DIR = 'YOUR DATA DIRECTORY HERE'\n",
    "DATA_DIR_FULL = '/home/soumya/Dataset/sample_0.parquet'\n",
    "Client()"
   ]
  },
  {
   "cell_type": "markdown",
   "metadata": {},
   "source": [
    "## Setup"
   ]
  },
  {
   "cell_type": "code",
   "execution_count": 3,
   "metadata": {},
   "outputs": [],
   "source": [
    "df = dd.read_parquet(DATA_DIR_FULL, columns=['script_url', 'symbol'])"
   ]
  },
  {
   "cell_type": "markdown",
   "metadata": {},
   "source": [
    "## Build Candidate URLs for `OfflineAudioContext.createOscillator`"
   ]
  },
  {
   "cell_type": "code",
   "execution_count": 4,
   "metadata": {},
   "outputs": [
    {
     "name": "stderr",
     "output_type": "stream",
     "text": [
      "/home/soumya/.local/lib/python3.6/site-packages/pandas/core/ops.py:1649: FutureWarning: elementwise comparison failed; returning scalar instead, but in the future will perform elementwise comparison\n",
      "  result = method(y)\n"
     ]
    },
    {
     "name": "stdout",
     "output_type": "stream",
     "text": [
      "[########################################] | 100% Completed | 30.9s\r"
     ]
    }
   ],
   "source": [
    "create_oscillator_df = df[df.symbol == 'OfflineAudioContext.createOscillator']\n",
    "create_oscillator_urls = create_oscillator_df.script_url.unique().persist()\n",
    "progress(create_oscillator_urls, notebook=False)"
   ]
  },
  {
   "cell_type": "code",
   "execution_count": 5,
   "metadata": {},
   "outputs": [
    {
     "data": {
      "text/plain": [
       "0    https://api.b2c.com/api/init-182h1kagypftheeqt...\n",
       "1      https://www.alaskaair.com/px/client/main.min.js\n",
       "2    https://api.b2c.com/api/init-342kzwc638ij98bun...\n",
       "3    https://www.avito.st/s/cc/32cdc46e07ef6a4e30d9...\n",
       "4              http://media1.admicro.vn/core/fipmin.js\n",
       "Name: script_url, dtype: object"
      ]
     },
     "execution_count": 5,
     "metadata": {},
     "output_type": "execute_result"
    }
   ],
   "source": [
    "create_oscillator_urls = create_oscillator_urls.compute()\n",
    "create_oscillator_urls[0:5]"
   ]
  },
  {
   "cell_type": "markdown",
   "metadata": {},
   "source": [
    "## Build Candidate URLs for `OfflineAudioContext.createDynamicsCompressor`"
   ]
  },
  {
   "cell_type": "code",
   "execution_count": 6,
   "metadata": {},
   "outputs": [
    {
     "name": "stdout",
     "output_type": "stream",
     "text": [
      "[########################################] | 100% Completed | 18.6s\r"
     ]
    }
   ],
   "source": [
    "create_dynamics_df = df[df.symbol == 'OfflineAudioContext.createDynamicsCompressor']\n",
    "create_dynamics_urls = create_dynamics_df.script_url.unique().persist()\n",
    "progress(create_dynamics_urls, notebook=False)"
   ]
  },
  {
   "cell_type": "code",
   "execution_count": 7,
   "metadata": {},
   "outputs": [
    {
     "data": {
      "text/plain": [
       "0    https://api.b2c.com/api/init-182h1kagypftheeqt...\n",
       "1      https://www.alaskaair.com/px/client/main.min.js\n",
       "2    https://api.b2c.com/api/init-342kzwc638ij98bun...\n",
       "3    https://www.avito.st/s/cc/32cdc46e07ef6a4e30d9...\n",
       "4              http://media1.admicro.vn/core/fipmin.js\n",
       "Name: script_url, dtype: object"
      ]
     },
     "execution_count": 7,
     "metadata": {},
     "output_type": "execute_result"
    }
   ],
   "source": [
    "create_dynamics_urls = create_dynamics_urls.compute()\n",
    "create_dynamics_urls[0:5]"
   ]
  },
  {
   "cell_type": "markdown",
   "metadata": {},
   "source": [
    "## Build Candidate URLs for `OfflineAudioContext.destination`"
   ]
  },
  {
   "cell_type": "code",
   "execution_count": 8,
   "metadata": {},
   "outputs": [
    {
     "name": "stdout",
     "output_type": "stream",
     "text": [
      "[########################################] | 100% Completed | 14.8s\r"
     ]
    }
   ],
   "source": [
    "destination_df = df[df.symbol == 'OfflineAudioContext.destination']\n",
    "destination_urls = destination_df.script_url.unique().persist()\n",
    "progress(destination_urls, notebook=False)"
   ]
  },
  {
   "cell_type": "code",
   "execution_count": 9,
   "metadata": {},
   "outputs": [
    {
     "data": {
      "text/plain": [
       "0    https://api.b2c.com/api/init-182h1kagypftheeqt...\n",
       "1      https://www.alaskaair.com/px/client/main.min.js\n",
       "2    https://api.b2c.com/api/init-342kzwc638ij98bun...\n",
       "3    https://www.avito.st/s/cc/32cdc46e07ef6a4e30d9...\n",
       "4              http://media1.admicro.vn/core/fipmin.js\n",
       "Name: script_url, dtype: object"
      ]
     },
     "execution_count": 9,
     "metadata": {},
     "output_type": "execute_result"
    }
   ],
   "source": [
    "destination_urls = destination_urls.compute()\n",
    "destination_urls[0:5]"
   ]
  },
  {
   "cell_type": "markdown",
   "metadata": {},
   "source": [
    "## Build Candidate URLs for `OfflineAudioContext.startRendering`"
   ]
  },
  {
   "cell_type": "code",
   "execution_count": 10,
   "metadata": {},
   "outputs": [
    {
     "name": "stdout",
     "output_type": "stream",
     "text": [
      "[########################################] | 100% Completed | 14.9s\r"
     ]
    }
   ],
   "source": [
    "start_rendering_df = df[df.symbol == 'OfflineAudioContext.startRendering']\n",
    "start_rendering_urls = start_rendering_df.script_url.unique().persist()\n",
    "progress(start_rendering_urls, notebook=False)"
   ]
  },
  {
   "cell_type": "code",
   "execution_count": 11,
   "metadata": {},
   "outputs": [
    {
     "data": {
      "text/plain": [
       "0    https://api.b2c.com/api/init-182h1kagypftheeqt...\n",
       "1      https://www.alaskaair.com/px/client/main.min.js\n",
       "2    https://api.b2c.com/api/init-342kzwc638ij98bun...\n",
       "3    https://www.avito.st/s/cc/32cdc46e07ef6a4e30d9...\n",
       "4              http://media1.admicro.vn/core/fipmin.js\n",
       "Name: script_url, dtype: object"
      ]
     },
     "execution_count": 11,
     "metadata": {},
     "output_type": "execute_result"
    }
   ],
   "source": [
    "start_rendering_urls = start_rendering_urls.compute()\n",
    "start_rendering_urls[0:5]"
   ]
  },
  {
   "cell_type": "markdown",
   "metadata": {},
   "source": [
    "## Build Candidate URLs for `OfflineAudioContext.oncomplete`"
   ]
  },
  {
   "cell_type": "code",
   "execution_count": 12,
   "metadata": {},
   "outputs": [
    {
     "name": "stdout",
     "output_type": "stream",
     "text": [
      "[########################################] | 100% Completed | 19.4s\r"
     ]
    }
   ],
   "source": [
    "on_complete_df = df[df.symbol == 'OfflineAudioContext.createOscillator']\n",
    "on_complete_urls = on_complete_df.script_url.unique().persist()\n",
    "progress(on_complete_urls, notebook=False)"
   ]
  },
  {
   "cell_type": "code",
   "execution_count": 13,
   "metadata": {},
   "outputs": [
    {
     "data": {
      "text/plain": [
       "0    https://api.b2c.com/api/init-182h1kagypftheeqt...\n",
       "1      https://www.alaskaair.com/px/client/main.min.js\n",
       "2    https://api.b2c.com/api/init-342kzwc638ij98bun...\n",
       "3    https://www.avito.st/s/cc/32cdc46e07ef6a4e30d9...\n",
       "4              http://media1.admicro.vn/core/fipmin.js\n",
       "Name: script_url, dtype: object"
      ]
     },
     "execution_count": 13,
     "metadata": {},
     "output_type": "execute_result"
    }
   ],
   "source": [
    "on_complete_urls = on_complete_urls.compute()\n",
    "on_complete_urls[0:5]"
   ]
  },
  {
   "cell_type": "markdown",
   "metadata": {},
   "source": [
    "## Scripts must call all 5 functions: [\"OfflineAudioContext.createOscillator\", \"OfflineAudioContext.createDynamicsCompressor\", \"OfflineAudioContext.destination\", \"OfflineAudioContext.startRendering\", \"OfflineAudioContext.oncomplete\"]"
   ]
  },
  {
   "cell_type": "code",
   "execution_count": 14,
   "metadata": {},
   "outputs": [
    {
     "name": "stdout",
     "output_type": "stream",
     "text": [
      "# of script_urls using audio fingerprinting: 52\n"
     ]
    }
   ],
   "source": [
    "audio_fp_urls = set(create_oscillator_urls) & \\\n",
    "    set(create_dynamics_urls) & \\\n",
    "    set(destination_urls) & \\\n",
    "    set(start_rendering_urls) & \\\n",
    "    set(on_complete_urls)\n",
    "print('# of script_urls using audio fingerprinting:', len(audio_fp_urls))"
   ]
  },
  {
   "cell_type": "code",
   "execution_count": 15,
   "metadata": {},
   "outputs": [
    {
     "name": "stdout",
     "output_type": "stream",
     "text": [
      "# of script_urls that did not call all 5 symbols: 0\n"
     ]
    }
   ],
   "source": [
    "all_candidate_urls = set(create_oscillator_urls) | \\\n",
    "    set(create_dynamics_urls) | \\\n",
    "    set(destination_urls) | \\\n",
    "    set(start_rendering_urls) | \\\n",
    "    set(on_complete_urls)\n",
    "not_audio_fp_urls = all_candidate_urls - audio_fp_urls\n",
    "print('# of script_urls that did not call all 5 symbols:', len(not_audio_fp_urls))"
   ]
  },
  {
   "cell_type": "markdown",
   "metadata": {},
   "source": [
    "## Save URLs"
   ]
  },
  {
   "cell_type": "code",
   "execution_count": 16,
   "metadata": {},
   "outputs": [],
   "source": [
    "with open('audio_fingerprinting.json', 'w') as f:\n",
    "    f.write(json.dumps(list(audio_fp_urls)))"
   ]
  },
  {
   "cell_type": "code",
   "execution_count": 17,
   "metadata": {},
   "outputs": [],
   "source": [
    "with open('not_audio_fingerprinting.json', 'w') as f:\n",
    "    f.write(json.dumps(list(not_audio_fp_urls)))"
   ]
  },
  {
   "cell_type": "markdown",
   "metadata": {},
   "source": [
    "## Find Locations"
   ]
  },
  {
   "cell_type": "code",
   "execution_count": 18,
   "metadata": {},
   "outputs": [],
   "source": [
    "with open('audio_fingerprinting.json', 'r') as f:\n",
    "    audio_fp_urls = json.load(f)"
   ]
  },
  {
   "cell_type": "code",
   "execution_count": 19,
   "metadata": {},
   "outputs": [],
   "source": [
    "df = dd.read_parquet(DATA_DIR_FULL, columns=['script_url', 'location'])"
   ]
  },
  {
   "cell_type": "code",
   "execution_count": 20,
   "metadata": {},
   "outputs": [
    {
     "name": "stdout",
     "output_type": "stream",
     "text": [
      "[########################################] | 100% Completed | 14.8s\r"
     ]
    }
   ],
   "source": [
    "df_locs = df[df.script_url.isin(audio_fp_urls)]\n",
    "locs = df_locs.location.unique().persist()\n",
    "progress(locs, notebook=False)"
   ]
  },
  {
   "cell_type": "code",
   "execution_count": 21,
   "metadata": {},
   "outputs": [
    {
     "name": "stdout",
     "output_type": "stream",
     "text": [
      "# of locations that call audio fingerprinting scripts: 184\n"
     ]
    }
   ],
   "source": [
    "print('# of locations that call audio fingerprinting scripts:', len(locs))"
   ]
  },
  {
   "cell_type": "code",
   "execution_count": 22,
   "metadata": {},
   "outputs": [
    {
     "data": {
      "text/plain": [
       "['https://www.jstor.org/px/client/main.min.js',\n",
       " 'https://js.ad-score.com/score.min.js?pid=1000343&tt=g#tid=DFP_JS&l1=/15188745/Lipsum-Unit3&l2=lipsum.com&l3=https://fi.lipsum.com/&phfl=l6&uip=%%USER_IP%%&pub_domain=https://fi.lipsum.com/&ref=https://fi.lipsum.com/&cb=7763056',\n",
       " 'https://client.perimeterx.net/PXHf9Ns48h/main.min.js',\n",
       " 'https://media1.admicro.vn/core/fipmin.js',\n",
       " 'https://api.b2c.com/api/init-342kzwc638ij98bundg.js',\n",
       " 'http://client.perimeterx.net/PX0F3091f3/main.min.js',\n",
       " 'https://js.ad-score.com/score.min.js?pid=1000343&tt=g#tid=DFP_JS&l1=/15188745/Lipsum-Unit1&l2=lipsum.com&l3=https://fi.lipsum.com/&phfl=l6&uip=%%USER_IP%%&pub_domain=https://fi.lipsum.com/&ref=https://fi.lipsum.com/&cb=1124495235',\n",
       " 'https://static.mediabong.com/scripts/mb.full.1712151.js',\n",
       " 'https://api.b2c.com/api/init-350e8mnjtyltbyix1re.js?siteID=372075',\n",
       " 'https://api.b2c.com/api/init-34768esabcra9zunlch.js']"
      ]
     },
     "execution_count": 22,
     "metadata": {},
     "output_type": "execute_result"
    }
   ],
   "source": [
    "audio_fp_urls[0:10]"
   ]
  },
  {
   "cell_type": "code",
   "execution_count": 23,
   "metadata": {},
   "outputs": [
    {
     "data": {
      "text/plain": [
       "0     https://www.trulia.com/sitemap/Utah-real-estate/\n",
       "1       https://phimbathu.com/tag/chau-tinh-tri-7.html\n",
       "2    https://www.alaskaair.com/userreset/resetpassw...\n",
       "3    http://allrecipes.com/recipes/723/world-cuisin...\n",
       "4    https://www.alaskaair.com/www2/ssl/myalaskaair...\n",
       "5                          http://adage.com/resources/\n",
       "6    https://www.avito.ru/profile/login?next=%2Fpro...\n",
       "7                http://kenh14.vn/sport/hau-truong.chn\n",
       "8               http://kenh14.vn/nhom-chu-de/quizz.chn\n",
       "9                  http://www.philly.com/philly/blogs/\n",
       "Name: location, dtype: object"
      ]
     },
     "execution_count": 23,
     "metadata": {},
     "output_type": "execute_result"
    }
   ],
   "source": [
    "location=locs.compute()\n",
    "location[0:10]"
   ]
  },
  {
   "cell_type": "markdown",
   "metadata": {},
   "source": [
    "## Extract TLD For script_url"
   ]
  },
  {
   "cell_type": "code",
   "execution_count": 24,
   "metadata": {},
   "outputs": [
    {
     "name": "stdout",
     "output_type": "stream",
     "text": [
      "['org', 'com', 'net', 'vn', 'com', 'net', 'com', 'com', 'com', 'com', 'com', 'com', 'com', 'com', 'com', 'net', 'pub', 'com', 'com', 'com', 'net', 'net', 'com', 'com', 'org', 'com', 'net', 'com', 'st', 'vn', 'com', 'net', 'com', 'com', 'net', 'com', 'com', 'com', 'net', 'net', 'net', 'net', 'net', 'com', 'com', 'com', 'com', 'net', 'com', 'io', 'com', 'com']\n"
     ]
    }
   ],
   "source": [
    "import tldextract\n",
    "opsuffix=[]\n",
    "opurls=[]\n",
    "for i in range(len(audio_fp_urls)):\n",
    "    opurls.append(tldextract.extract(audio_fp_urls[i]))\n",
    "    opsuffix.append(opurls[i].suffix)\n",
    "print(opsuffix)\n"
   ]
  },
  {
   "cell_type": "code",
   "execution_count": 25,
   "metadata": {},
   "outputs": [
    {
     "data": {
      "text/plain": [
       "52"
      ]
     },
     "execution_count": 25,
     "metadata": {},
     "output_type": "execute_result"
    }
   ],
   "source": [
    "len(audio_fp_urls)"
   ]
  },
  {
   "cell_type": "markdown",
   "metadata": {},
   "source": [
    "## Extract TLD For location"
   ]
  },
  {
   "cell_type": "code",
   "execution_count": 26,
   "metadata": {},
   "outputs": [
    {
     "name": "stdout",
     "output_type": "stream",
     "text": [
      "['com', 'com', 'com', 'com', 'com', 'com', 'ru', 'vn', 'vn', 'com', 'com', 'com', 'com', 'com', 'com.vn', 'com', 'com', 'com', 'com', 'net', 'org', 'com', 'net', 'org', 'com', 'com', 'net', 'com', 'com', 'org', 'com', 'com', 'vn', 'com', 'com', 'net', 'com', 'com', 'com', 'com', 'com', 'com', 'com', 'com', 'vn', 'com', 'org', 'net', 'vn', 'com.vn', 'com', 'org', 'com', 'com', 'com', 'com', 'com', 'com', 'com', 'com', 'org', 'com', 'vn', 'net', 'net', 'com', 'com', 'com', 'com', 'com', 'com', 'com', 'com', 'com', 'com', 'org', 'vn', 'com', 'com', 'com', 'com', 'net', 'vn', 'vn', 'org', 'com', 'com', 'com', 'com', 'com.vn', 'net', 'com', 'com', 'com', 'com', 'com', 'vn', 'com', 'vn', 'net', 'com', 'com', 'com', 'com', 'com', 'com', 'com', 'org', 'com', 'com', 'com', 'com', 'org', 'net', 'org', 'com', 'net', 'com', 'com', 'net', 'com', 'com', 'com', 'com', 'com', 'com', 'vn', 'com', 'com', 'com', 'com', 'com', 'org', 'com', 'com', 'vn', 'com', 'org', 'co.uk', 'com', 'com', 'net', 'com', 'ru', 'vn', 'com', 'co.uk', 'com', 'com', 'org', 'com', 'com', 'com', 'net', 'com', 'es', 'com', 'com', 'net', 'vn', 'com.hk', 'com', 'com', 'com', 'com', 'com', 'com.vn', 'com', 'com', 'vn', 'com', 'com', 'com', 'tv', 'com', 'com', 'com', 'com', 'com', 'com', 'com', 'com', 'org', 'net']\n"
     ]
    }
   ],
   "source": [
    "opsuffix_locs=[]\n",
    "opurls_locs=[]\n",
    "for i in range(len(locs)):\n",
    "    opurls_locs.append(tldextract.extract(location[i]))\n",
    "    opsuffix_locs.append(opurls_locs[i].suffix)\n",
    "print(opsuffix_locs)"
   ]
  },
  {
   "cell_type": "markdown",
   "metadata": {},
   "source": [
    "## Frequency of each TLD for script_url"
   ]
  },
  {
   "cell_type": "code",
   "execution_count": 27,
   "metadata": {},
   "outputs": [
    {
     "name": "stdout",
     "output_type": "stream",
     "text": [
      "Counter({'com': 31, 'net': 14, 'org': 2, 'vn': 2, 'pub': 1, 'st': 1, 'io': 1})\n"
     ]
    }
   ],
   "source": [
    "import collections\n",
    "for i in range(len(opsuffix)):\n",
    "    counter_script_url=collections.Counter(opsuffix)\n",
    "print(counter_script_url)"
   ]
  },
  {
   "cell_type": "code",
   "execution_count": 29,
   "metadata": {},
   "outputs": [],
   "source": [
    "# Store in a json  file\n",
    "with open('audio_script_url.json', 'w') as f:\n",
    "    f.write(json.dumps(counter_script_url)) "
   ]
  },
  {
   "cell_type": "code",
   "execution_count": 32,
   "metadata": {},
   "outputs": [
    {
     "data": {
      "image/png": "[encoded data removed]",
      "text/plain": [
       "<Figure size 432x288 with 1 Axes>"
      ]
     },
     "metadata": {
      "needs_background": "light"
     },
     "output_type": "display_data"
    }
   ],
   "source": [
    "# Arange in descending order    \n",
    "c=Counter(counter_script_url)\n",
    "counter_script_url=dict(c.most_common())\n",
    "#Convert to list for plotting\n",
    "domain=list(counter_script_url.keys())\n",
    "count=list(counter_script_url.values())\n",
    "\n",
    "dfplot = pd.DataFrame({'domain':domain, 'count':count})\n",
    "ax = dfplot.plot.bar(x='domain', y='count', rot=0)"
   ]
  },
  {
   "cell_type": "markdown",
   "metadata": {},
   "source": [
    "## Frequency of each TLD for script_url"
   ]
  },
  {
   "cell_type": "code",
   "execution_count": 33,
   "metadata": {},
   "outputs": [
    {
     "name": "stdout",
     "output_type": "stream",
     "text": [
      "Counter({'com': 125, 'net': 17, 'vn': 16, 'org': 15, 'com.vn': 4, 'ru': 2, 'co.uk': 2, 'es': 1, 'com.hk': 1, 'tv': 1})\n"
     ]
    }
   ],
   "source": [
    "for i in range(len(locs)):\n",
    "    counter_location=collections.Counter(opsuffix_locs)\n",
    "print(counter_location)"
   ]
  },
  {
   "cell_type": "code",
   "execution_count": 34,
   "metadata": {},
   "outputs": [],
   "source": [
    "# Store in a json  file\n",
    "with open('audio_location.json', 'w') as f:\n",
    "    f.write(json.dumps(counter_location)) "
   ]
  },
  {
   "cell_type": "code",
   "execution_count": 35,
   "metadata": {},
   "outputs": [
    {
     "data": {
      "text/plain": [
       "10"
      ]
     },
     "execution_count": 35,
     "metadata": {},
     "output_type": "execute_result"
    }
   ],
   "source": [
    "len(counter_location)"
   ]
  },
  {
   "cell_type": "code",
   "execution_count": 36,
   "metadata": {},
   "outputs": [
    {
     "data": {
      "image/png": "[encoded data removed]",
      "text/plain": [
       "<Figure size 432x288 with 1 Axes>"
      ]
     },
     "metadata": {
      "needs_background": "light"
     },
     "output_type": "display_data"
    }
   ],
   "source": [
    "# Arange in descending order    \n",
    "c=Counter(counter_location)\n",
    "counter_location=dict(c.most_common())\n",
    "#Convert to list for plotting\n",
    "domain=list(counter_location.keys())\n",
    "count=list(counter_location.values())\n",
    "\n",
    "dfplot = pd.DataFrame({'domain':domain[0:10], 'count':count[0:10]})\n",
    "ax = dfplot.plot.bar(x='domain', y='count', rot=0)"
   ]
  },
  {
   "cell_type": "code",
   "execution_count": null,
   "metadata": {},
   "outputs": [],
   "source": []
  }
 ],
 "metadata": {
  "kernelspec": {
   "display_name": "Python 3",
   "language": "python",
   "name": "python3"
  },
  "language_info": {
   "codemirror_mode": {
    "name": "ipython",
    "version": 3
   },
   "file_extension": ".py",
   "mimetype": "text/x-python",
   "name": "python",
   "nbconvert_exporter": "python",
   "pygments_lexer": "ipython3",
   "version": "3.6.7"
  }
 },
 "nbformat": 4,
 "nbformat_minor": 2
}
